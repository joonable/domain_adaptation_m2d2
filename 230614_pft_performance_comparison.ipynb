{
 "cells": [
  {
   "cell_type": "markdown",
   "metadata": {},
   "source": [
    "# 230614_pft_performance_comparison"
   ]
  },
  {
   "cell_type": "markdown",
   "metadata": {},
   "source": [
    "# Import libraries"
   ]
  },
  {
   "cell_type": "code",
   "execution_count": 1,
   "metadata": {},
   "outputs": [
    {
     "name": "stderr",
     "output_type": "stream",
     "text": [
      "/rds/general/user/jj1122/home/anaconda3/envs/m2d2/lib/python3.10/site-packages/tqdm/auto.py:21: TqdmWarning: IProgress not found. Please update jupyter and ipywidgets. See https://ipywidgets.readthedocs.io/en/stable/user_install.html\n",
      "  from .autonotebook import tqdm as notebook_tqdm\n"
     ]
    }
   ],
   "source": [
    "from transformers import GPT2LMHeadModel, GPT2TokenizerFast, GPT2Tokenizer\n",
    "from datasets import load_dataset\n",
    "from tqdm import tqdm\n",
    "import json\n",
    "import torch\n",
    "import argparse\n",
    "import datasets\n",
    "import numpy as np\n",
    "import seaborn as sns\n",
    "import pandas as pd\n",
    "import matplotlib.pylab as plt\n",
    "from os import listdir\n",
    "import json\n",
    "import math\n",
    "import seaborn as sns"
   ]
  },
  {
   "cell_type": "markdown",
   "metadata": {},
   "source": [
    "# Config"
   ]
  },
  {
   "cell_type": "code",
   "execution_count": 2,
   "metadata": {},
   "outputs": [],
   "source": [
    "sns.set_style(\"darkgrid\")"
   ]
  },
  {
   "cell_type": "code",
   "execution_count": 3,
   "metadata": {},
   "outputs": [],
   "source": [
    "# dataset_nm = \"Health_and_fitness\"\n",
    "# dataset_path = f\"../m2d2/dataset/{dataset_nm}/train.txt\"\n",
    "cache_dir=\"/rds/general/user/jj1122/ephemeral/.cache/huggingface\"\n",
    "data_dir = \"../m2d2/dataset\""
   ]
  },
  {
   "cell_type": "code",
   "execution_count": 4,
   "metadata": {},
   "outputs": [],
   "source": [
    "# def get_model_path_light(model_id):\n",
    "#     model_path_format = \"/rds/general/user/jj1122/home/projects/m2d2/dataset/{model_id}\"\n",
    "#     ckpt_path_format = \"/checkpoint-{ckpt}\"\n",
    "\n",
    "#     if model_id == \"gpt2\":\n",
    "#         model_path = \"gpt2\"\n",
    "# #         ckpt = \"zs\"\n",
    "#     else:\n",
    "#         model_path = model_path_format.format(model_id=model_id)\n",
    "#         l_dir = listdir(model_path)\n",
    "\n",
    "#         if all([len(x.split(\".\")) == 1 for x in l_dir]):\n",
    "#             ckpt = max([int(x.split(\"-\")[1]) for x in l_dir])\n",
    "#             model_path += ckpt_path_format.format(ckpt=ckpt)\n",
    "# #         else:\n",
    "# #             ckpt = \"final\"\n",
    "#     return model_path"
   ]
  },
  {
   "cell_type": "code",
   "execution_count": 5,
   "metadata": {},
   "outputs": [],
   "source": [
    "model_id_format = \"pft_{gubun}_{threshold}_{ds}\"\n",
    "model_path_format = \"/rds/general/user/jj1122/home/projects/m2d2/dataset/{model_id}\""
   ]
  },
  {
   "cell_type": "code",
   "execution_count": 19,
   "metadata": {},
   "outputs": [],
   "source": [
    "list_gubuns = [\"in\", \"all\"]\n",
    "list_thresholds = [\"20\", \"40\", \"60\", \"80\"]\n",
    "# list_thresholds = [\"60\", \"80\"]\n",
    "\n",
    "list_datasets = [\n",
    "#     \"cs_l1\",\n",
    "#     \"nlin_l1\",\n",
    "#     \"Health_and_fitness\",\n",
    "#     \"Natural_and_physical_sciences\",\n",
    "#     \"Religion_and_belief_systems\",\n",
    "#     \"Culture_and_the_arts\",\n",
    "    \"General_referece\",\n",
    "#     \"econ_l1\",\n",
    "#     \"History_and_events\",\n",
    "#     \"Human_activites\",\n",
    "#     \"Mathematics_and_logic\",\n",
    "#     \"astro-ph_l1\",\n",
    "#     \"cond-mat_l1\",\n",
    "#     \"eess_l1\",\n",
    "#     \"math_l1\",\n",
    "#     \"physics_l1 (ERROR)\",\n",
    "#     \"q-bio_l1\",\n",
    "#     \"q-fin_l1\",\n",
    "#     \"stat_l1\",\n",
    "#     \"Philosophy\",\n",
    "#     \"Philosophy_and_thinking\",\n",
    "#     \"Society_and_social_sciences\",\n",
    "#     \"Technology_and_applied_sciences\",\n",
    "]\n",
    "list_model_ids = []\n",
    "for gubun in list_gubuns:\n",
    "    for threshold in list_thresholds:\n",
    "        for ds in list_datasets:\n",
    "            list_model_ids.append(model_id_format.format(gubun=gubun, threshold=threshold, ds=ds))\n",
    "            \n",
    "            \n",
    "# list_model_ids = [model_path_format.format(model_id=model_id) for model_id in list_model_ids]"
   ]
  },
  {
   "cell_type": "code",
   "execution_count": 20,
   "metadata": {},
   "outputs": [
    {
     "data": {
      "text/plain": [
       "['pft_in_20_General_referece',\n",
       " 'pft_in_40_General_referece',\n",
       " 'pft_in_60_General_referece',\n",
       " 'pft_in_80_General_referece',\n",
       " 'pft_all_20_General_referece',\n",
       " 'pft_all_40_General_referece',\n",
       " 'pft_all_60_General_referece',\n",
       " 'pft_all_80_General_referece']"
      ]
     },
     "execution_count": 20,
     "metadata": {},
     "output_type": "execute_result"
    }
   ],
   "source": [
    "list_model_ids"
   ]
  },
  {
   "cell_type": "code",
   "execution_count": 21,
   "metadata": {},
   "outputs": [],
   "source": [
    "# device_id = 'cpu'\n",
    "# n_layers = 12\n",
    "# list_modules = ['attn', 'mlp']\n",
    "# trace_module_id = \"transformer.h.{l}.{m}\""
   ]
  },
  {
   "cell_type": "code",
   "execution_count": 22,
   "metadata": {},
   "outputs": [],
   "source": [
    "# list_trace_module_ids = []\n",
    "\n",
    "# for l in range(n_layers):\n",
    "#     for m in list_modules:\n",
    "#         list_trace_module_ids.append(trace_module_id.format(l=l, m=m))\n",
    "\n",
    "# print(list_trace_module_ids[:3])"
   ]
  },
  {
   "cell_type": "markdown",
   "metadata": {},
   "source": [
    "# Model"
   ]
  },
  {
   "cell_type": "markdown",
   "metadata": {},
   "source": [
    "## load **17** finetuned models with EarlyStopper"
   ]
  },
  {
   "cell_type": "code",
   "execution_count": 23,
   "metadata": {},
   "outputs": [
    {
     "data": {
      "text/plain": [
       "{'pft_in_20_General_referece': {},\n",
       " 'pft_in_40_General_referece': {},\n",
       " 'pft_in_60_General_referece': {},\n",
       " 'pft_in_80_General_referece': {},\n",
       " 'pft_all_20_General_referece': {},\n",
       " 'pft_all_40_General_referece': {},\n",
       " 'pft_all_60_General_referece': {},\n",
       " 'pft_all_80_General_referece': {}}"
      ]
     },
     "execution_count": 23,
     "metadata": {},
     "output_type": "execute_result"
    }
   ],
   "source": [
    "config_models = {model_id: {} for model_id in list_model_ids}\n",
    "config_models"
   ]
  },
  {
   "cell_type": "code",
   "execution_count": 24,
   "metadata": {},
   "outputs": [],
   "source": [
    "list_model_ids = list_model_ids + [list_datasets[0]]"
   ]
  },
  {
   "cell_type": "code",
   "execution_count": 25,
   "metadata": {},
   "outputs": [],
   "source": [
    "config_models = {model_id: {} for model_id in list_model_ids}\n",
    "\n",
    "for model_id in list_model_ids:\n",
    "    if model_id.startswith(\"pft\"):\n",
    "        config_models[model_id][\"model_path\"] = model_path_format.format(model_id=model_id)\n",
    "        json_path = config_models[model_id][\"model_path\"] + \"/trainer_state.json\"\n",
    "        \n",
    "    else:\n",
    "        config_models[model_id][\"model_path\"] =model_path_format.format(model_id=model_id) + \"/models\"\n",
    "        json_path = config_models[model_id][\"model_path\"] + \"/trainer_state.json\"\n",
    "        \n",
    "    with open(json_path, \"r\") as json_file:\n",
    "        trainer_state = json.load(json_file)\n",
    "        config_models[model_id][\"perplexity\"] = math.exp(trainer_state[\"best_metric\"])\n",
    "        config_models[model_id][\"steps\"] = int(trainer_state[\"best_model_checkpoint\"].split(\"/\")[-1].split(\"-\")[-1])\n",
    "        config_models[model_id][\"eps\"] = float(trainer_state[\"epoch\"])"
   ]
  },
  {
   "cell_type": "code",
   "execution_count": 26,
   "metadata": {},
   "outputs": [
    {
     "name": "stdout",
     "output_type": "stream",
     "text": [
      "pft_in_20_General_referece: 23.059393324907077\n",
      "pft_in_40_General_referece: 22.432933799968733\n",
      "pft_in_60_General_referece: 22.151889596983786\n",
      "pft_in_80_General_referece: 22.271078064725785\n",
      "pft_all_20_General_referece: 23.096990325473765\n",
      "pft_all_40_General_referece: 22.50587096542397\n",
      "pft_all_60_General_referece: 22.198134399375448\n",
      "pft_all_80_General_referece: 22.117281094327673\n",
      "General_referece: 22.272872862552227\n"
     ]
    }
   ],
   "source": [
    "for ds, conf in config_models.items():\n",
    "    print(\"{ds}: {ppl}\".format(ds=ds, ppl=conf['perplexity']))"
   ]
  },
  {
   "cell_type": "code",
   "execution_count": 27,
   "metadata": {},
   "outputs": [],
   "source": [
    "df_results = pd.DataFrame.from_dict(config_models).T.drop([\"model_path\"], axis=1).reset_index(names='model_id')"
   ]
  },
  {
   "cell_type": "code",
   "execution_count": 28,
   "metadata": {},
   "outputs": [],
   "source": [
    "df_results[\"list_model_id\"] = df_results[\"model_id\"].apply(lambda model_id: model_id.split(\"_\"))\n",
    "df_results[\"gubun\"] = df_results[\"list_model_id\"].apply(lambda l: l[1] if l[0] == \"pft\" else \"total\")\n",
    "df_results[\"threshold\"] = df_results[\"list_model_id\"].apply(lambda l: l[2] if l[0] == \"pft\" else \"100\").astype(int)\n",
    "df_results[\"dataset\"] = df_results[\"list_model_id\"].apply(lambda l: \"_\".join(l[3:]) if l[0] == \"pft\" else \"_\".join(l))\n",
    "del df_results[\"list_model_id\"], df_results[\"model_id\"]"
   ]
  },
  {
   "cell_type": "code",
   "execution_count": 29,
   "metadata": {},
   "outputs": [
    {
     "data": {
      "text/html": [
       "<div>\n",
       "<style scoped>\n",
       "    .dataframe tbody tr th:only-of-type {\n",
       "        vertical-align: middle;\n",
       "    }\n",
       "\n",
       "    .dataframe tbody tr th {\n",
       "        vertical-align: top;\n",
       "    }\n",
       "\n",
       "    .dataframe thead tr th {\n",
       "        text-align: left;\n",
       "    }\n",
       "</style>\n",
       "<table border=\"1\" class=\"dataframe\">\n",
       "  <thead>\n",
       "    <tr>\n",
       "      <th>dataset</th>\n",
       "      <th colspan=\"8\" halign=\"left\">General_referece</th>\n",
       "    </tr>\n",
       "    <tr>\n",
       "      <th>gubun</th>\n",
       "      <th colspan=\"4\" halign=\"left\">in</th>\n",
       "      <th colspan=\"4\" halign=\"left\">all</th>\n",
       "    </tr>\n",
       "    <tr>\n",
       "      <th>threshold</th>\n",
       "      <th>20</th>\n",
       "      <th>40</th>\n",
       "      <th>60</th>\n",
       "      <th>80</th>\n",
       "      <th>20</th>\n",
       "      <th>40</th>\n",
       "      <th>60</th>\n",
       "      <th>80</th>\n",
       "    </tr>\n",
       "  </thead>\n",
       "  <tbody>\n",
       "    <tr>\n",
       "      <th>perplexity</th>\n",
       "      <td>23.059393</td>\n",
       "      <td>22.432934</td>\n",
       "      <td>22.15189</td>\n",
       "      <td>22.271078</td>\n",
       "      <td>23.09699</td>\n",
       "      <td>22.505871</td>\n",
       "      <td>22.198134</td>\n",
       "      <td>22.117281</td>\n",
       "    </tr>\n",
       "    <tr>\n",
       "      <th>steps</th>\n",
       "      <td>31000</td>\n",
       "      <td>24000</td>\n",
       "      <td>25000</td>\n",
       "      <td>19000</td>\n",
       "      <td>34000</td>\n",
       "      <td>24000</td>\n",
       "      <td>25000</td>\n",
       "      <td>25000</td>\n",
       "    </tr>\n",
       "    <tr>\n",
       "      <th>eps</th>\n",
       "      <td>27.160494</td>\n",
       "      <td>21.399177</td>\n",
       "      <td>22.222222</td>\n",
       "      <td>17.283951</td>\n",
       "      <td>29.62963</td>\n",
       "      <td>21.399177</td>\n",
       "      <td>22.222222</td>\n",
       "      <td>22.222222</td>\n",
       "    </tr>\n",
       "  </tbody>\n",
       "</table>\n",
       "</div>"
      ],
      "text/plain": [
       "dataset    General_referece                                              \n",
       "gubun                    in                                        all   \n",
       "threshold                20         40         60         80        20   \n",
       "perplexity        23.059393  22.432934   22.15189  22.271078  23.09699  \\\n",
       "steps                 31000      24000      25000      19000     34000   \n",
       "eps               27.160494  21.399177  22.222222  17.283951  29.62963   \n",
       "\n",
       "dataset                                      \n",
       "gubun                                        \n",
       "threshold          40         60         80  \n",
       "perplexity  22.505871  22.198134  22.117281  \n",
       "steps           24000      25000      25000  \n",
       "eps         21.399177  22.222222  22.222222  "
      ]
     },
     "execution_count": 29,
     "metadata": {},
     "output_type": "execute_result"
    }
   ],
   "source": [
    "df_results.loc[df_results[\"gubun\"] != \"total\"].set_index([\"dataset\", \"gubun\", \"threshold\" ]).T"
   ]
  },
  {
   "cell_type": "code",
   "execution_count": 30,
   "metadata": {},
   "outputs": [
    {
     "data": {
      "text/html": [
       "<div>\n",
       "<style scoped>\n",
       "    .dataframe tbody tr th:only-of-type {\n",
       "        vertical-align: middle;\n",
       "    }\n",
       "\n",
       "    .dataframe tbody tr th {\n",
       "        vertical-align: top;\n",
       "    }\n",
       "\n",
       "    .dataframe thead tr th {\n",
       "        text-align: left;\n",
       "    }\n",
       "\n",
       "    .dataframe thead tr:last-of-type th {\n",
       "        text-align: right;\n",
       "    }\n",
       "</style>\n",
       "<table border=\"1\" class=\"dataframe\">\n",
       "  <thead>\n",
       "    <tr>\n",
       "      <th></th>\n",
       "      <th></th>\n",
       "      <th>perplexity</th>\n",
       "      <th>steps</th>\n",
       "      <th>eps</th>\n",
       "    </tr>\n",
       "    <tr>\n",
       "      <th></th>\n",
       "      <th>threshold</th>\n",
       "      <th>100</th>\n",
       "      <th>100</th>\n",
       "      <th>100</th>\n",
       "    </tr>\n",
       "    <tr>\n",
       "      <th>dataset</th>\n",
       "      <th>gubun</th>\n",
       "      <th></th>\n",
       "      <th></th>\n",
       "      <th></th>\n",
       "    </tr>\n",
       "  </thead>\n",
       "  <tbody>\n",
       "    <tr>\n",
       "      <th>General_referece</th>\n",
       "      <th>total</th>\n",
       "      <td>22.272873</td>\n",
       "      <td>19000</td>\n",
       "      <td>17.283951</td>\n",
       "    </tr>\n",
       "  </tbody>\n",
       "</table>\n",
       "</div>"
      ],
      "text/plain": [
       "                       perplexity  steps        eps\n",
       "threshold                     100    100        100\n",
       "dataset          gubun                             \n",
       "General_referece total  22.272873  19000  17.283951"
      ]
     },
     "execution_count": 30,
     "metadata": {},
     "output_type": "execute_result"
    }
   ],
   "source": [
    "df_results.loc[df_results[\"gubun\"] == \"total\"].set_index([\"dataset\", \"gubun\", \"threshold\" ]).unstack(-1)"
   ]
  },
  {
   "cell_type": "code",
   "execution_count": 9,
   "metadata": {},
   "outputs": [],
   "source": [
    "base_model = GPT2LMHeadModel.from_pretrained(\"gpt2\", cache_dir=cache_dir).to(device_id)\n",
    "gpt2_tokenizer = GPT2Tokenizer.from_pretrained(\"gpt2\", cache_dir=cache_dir)"
   ]
  }
 ],
 "metadata": {
  "kernelspec": {
   "display_name": "m2d2_env",
   "language": "python",
   "name": "m2d2_env"
  },
  "language_info": {
   "codemirror_mode": {
    "name": "ipython",
    "version": 3
   },
   "file_extension": ".py",
   "mimetype": "text/x-python",
   "name": "python",
   "nbconvert_exporter": "python",
   "pygments_lexer": "ipython3",
   "version": "3.10.11"
  }
 },
 "nbformat": 4,
 "nbformat_minor": 2
}
