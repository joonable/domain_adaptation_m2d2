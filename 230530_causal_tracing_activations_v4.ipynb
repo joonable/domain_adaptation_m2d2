{
 "cells": [
  {
   "cell_type": "markdown",
   "metadata": {},
   "source": [
    "# 230518_causal_tracing_activations_v4\n"
   ]
  },
  {
   "cell_type": "markdown",
   "metadata": {},
   "source": [
    "# Import libraries"
   ]
  },
  {
   "cell_type": "code",
   "execution_count": 6,
   "metadata": {},
   "outputs": [],
   "source": [
    "from transformers import GPT2LMHeadModel, GPT2TokenizerFast, GPT2Tokenizer, set_seed\n",
    "from datasets import load_dataset\n",
    "from tqdm import tqdm\n",
    "import json\n",
    "import torch\n",
    "import argparse\n",
    "import datasets\n",
    "import numpy as np\n",
    "import seaborn as sns\n",
    "import pandas as pd\n",
    "import matplotlib.pylab as plt"
   ]
  },
  {
   "cell_type": "markdown",
   "metadata": {},
   "source": [
    "# Config"
   ]
  },
  {
   "cell_type": "code",
   "execution_count": 7,
   "metadata": {},
   "outputs": [],
   "source": [
    "torch.manual_seed(718)\n",
    "set_seed(718)"
   ]
  },
  {
   "cell_type": "code",
   "execution_count": null,
   "metadata": {},
   "outputs": [],
   "source": [
    "# ROME\n",
    "# - localisation: pre-trained LM을 대상으로 지식 정보가 담겨있는 모듈을 찾아냄\n",
    "# - ROME: 해당 부분에 적합한 \n",
    "\n",
    "# 내가 만들고 싶은 model editing은 fine-tuning을 대체할 수 있는 방법이었음"
   ]
  },
  {
   "cell_type": "code",
   "execution_count": 8,
   "metadata": {},
   "outputs": [],
   "source": [
    "dataset_nm = \"Religion_and_belief_systems\"\n",
    "# dataset_path = f\"../m2d2/dataset/{dataset_nm}/train.txt\"\n",
    "cache_dir=\"/rds/general/user/jj1122/ephemeral/.cache/huggingface\""
   ]
  },
  {
   "cell_type": "code",
   "execution_count": 9,
   "metadata": {},
   "outputs": [],
   "source": [
    "device_id = 'cuda'\n",
    "tuned_model_path = \"../m2d2/dataset/Religion_and_belief_systems/models/\"\n",
    "n_layers = 12\n",
    "list_modules = ['attn', 'mlp']\n",
    "trace_module_id = \"transformer.h.{l}.{m}\""
   ]
  },
  {
   "cell_type": "code",
   "execution_count": 10,
   "metadata": {},
   "outputs": [
    {
     "name": "stdout",
     "output_type": "stream",
     "text": [
      "['transformer.h.0.attn', 'transformer.h.0.mlp', 'transformer.h.1.attn']\n"
     ]
    }
   ],
   "source": [
    "list_trace_module_ids = []\n",
    "\n",
    "for l in range(n_layers):\n",
    "    for m in list_modules:\n",
    "        list_trace_module_ids.append(trace_module_id.format(l=l, m=m))\n",
    "\n",
    "print(list_trace_module_ids[:3])"
   ]
  },
  {
   "cell_type": "markdown",
   "metadata": {},
   "source": [
    "# Model"
   ]
  },
  {
   "cell_type": "markdown",
   "metadata": {},
   "source": [
    "## load models"
   ]
  },
  {
   "cell_type": "code",
   "execution_count": 11,
   "metadata": {},
   "outputs": [],
   "source": [
    "base_model = GPT2LMHeadModel.from_pretrained(\"gpt2\", cache_dir=cache_dir).to(device_id)\n",
    "gpt2_tokenizer = GPT2Tokenizer.from_pretrained(\"gpt2\", cache_dir=cache_dir)\n",
    "tuned_model = GPT2LMHeadModel.from_pretrained(tuned_model_path).to(device_id)\n"
   ]
  },
  {
   "cell_type": "code",
   "execution_count": 230,
   "metadata": {},
   "outputs": [],
   "source": [
    "base_model = GPT2LMHeadModel.from_pretrained(\"gpt2\").to(device_id)\n",
    "tuned_model = GPT2LMHeadModel.from_pretrained(tuned_model_path).to(device_id)"
   ]
  },
  {
   "cell_type": "code",
   "execution_count": 417,
   "metadata": {},
   "outputs": [],
   "source": [
    "# diff_weights = {}\n",
    "# for tuned_tup, base_tup in zip(list(tuned_model.named_parameters()), list(base_model.named_parameters())):\n",
    "#     diff_weights[tuned_tup[0]] = torch.abs(tuned_tup[1] - base_tup[1]).mean().item()\n",
    "    \n",
    "# diff_weights"
   ]
  },
  {
   "cell_type": "markdown",
   "metadata": {},
   "source": [
    "# Data"
   ]
  },
  {
   "cell_type": "code",
   "execution_count": 418,
   "metadata": {},
   "outputs": [
    {
     "name": "stderr",
     "output_type": "stream",
     "text": [
      "Found cached dataset m2d2 (/rds/general/user/jj1122/ephemeral/.cache/huggingface/machelreid___m2d2/Religion_and_belief_systems/0.0.0/eb235f33a5de3163c10549b7f63c906910539c8a8c0ec5ade1285ccbf5067d00)\n",
      "100%|██████████| 3/3 [00:00<00:00, 248.56it/s]\n"
     ]
    }
   ],
   "source": [
    "dataset = load_dataset(\"machelreid/m2d2\", dataset_nm, cache_dir=cache_dir)"
   ]
  },
  {
   "cell_type": "code",
   "execution_count": null,
   "metadata": {},
   "outputs": [],
   "source": []
  },
  {
   "cell_type": "code",
   "execution_count": 419,
   "metadata": {},
   "outputs": [
    {
     "data": {
      "text/plain": [
       "['',\n",
       " 'Don Edward Beck (born 1937) is a teacher, geopolitical advisor, and theorist focusing on applications of large scale psychology, including social psychology, evolutionary psychology, organizational psychology and their effect on human sociocultural systems. He is the co-author of the Spiral Dynamics theory, an evolutionary human development model adapted from the work of his mentor and colleague, developmental psychologist Clare W. Graves, Professor Emeritus in Psychology at Union College in New York, with whom he worked for over a decade.',\n",
       " 'Education and academia.',\n",
       " 'Beck received a B.A from Abilene Christian College in 1958 and his M.A in Theology and Communication from the same institution a year later in 1959. He was awarded his Ph.D. in Communication and Social Psychology with a focus on large scale systems dynamics and change in 1966 by the University of Oklahoma. His dissertation was on the psychological forces that produced the American Civil War.',\n",
       " 'Beck has held positions at institutions including various roles in the speech and drama department at North Texas State University (now the University of North Texas) from 1961-1981, Adjunct Professor at Conoco Corporate University from 1998-1999, and Ajunct Instructor at Adizes Graduate School from 2000 to the present day.',\n",
       " 'In 1974, while working as a professor at North Texas State, Beck encountered an article by Graves in \"The Futurist\". He contacted Graves, and at the latter\\'s invitation and flew to New York to meet him in 1975. After two days of dialogues, Beck decided to record Graves\\' knowledge, as the latter\\'s health was deteriorating. Beck and Graves were later joined by North Texas State faculty member Christopher Cowan. Both Beck and Cowan left North Texas State in 1981 to work with Graves full-time, which they continued to do until Graves\\'s death in 1986.',\n",
       " 'Spiral Dynamics.',\n",
       " 'Beck and Cowan further developed Graves\\'s emergent cyclical theory and presented a structured evolutionary model of adaptive intelligence called Spiral Dynamics. They first published their construct in \"Spiral Dynamics: Mastering Values, Leadership, and Change (Exploring the New Science of Memetics)\" (1996). Through these value systems, groups and cultures structure their societies and individuals integrate within them. Each distinct set of values is developed as a response to solving the problems of the previous system. Changes between states may occur incrementally (first order change) or in a sudden breakthrough (second order change).',\n",
       " 'Beck and Cowan founded the National Values Center (NVC) in Denton, Texas in 1979',\n",
       " 'Spiral Dynamics (SD) and Spiral Dynamics Integral (SDi).']"
      ]
     },
     "execution_count": 419,
     "metadata": {},
     "output_type": "execute_result"
    }
   ],
   "source": [
    "np.random.seed(718)\n",
    "\n",
    "x = 10 * np.random.randint(100000)\n",
    "\n",
    "dataset['train']['text'][x:x+10]"
   ]
  },
  {
   "cell_type": "code",
   "execution_count": 632,
   "metadata": {},
   "outputs": [],
   "source": [
    "# input_text = \"He was a religious scholar and a prolific writer. Many of his works are used as references for church members\"\n",
    "\n",
    "# input_text = \"In popular and media culture, Anubis is often falsely portrayed as the sinister god of the dead\"\n",
    "\n",
    "# input_text = \"Ankou appears as a man or skeleton wearing a black robe and a large hat which conceals his face, or, on occasion, simply as a shadow\"\n",
    "\n",
    "# input_text = \"Zechariah's vision of recently deceased Joshua the High Priest depicts a dispute in the heavenly throne room between Satan and the Angel of the Lord\"\n",
    "\n",
    "input_text = \"The Transcendental Argument for the Existence of God (TAG) is the argument that attempts to prove the existence of God by arguing that logic, morals, and science ultimately presuppose a supreme being and that God must therefore be the source of logic and morals\"\n"
   ]
  },
  {
   "cell_type": "code",
   "execution_count": 633,
   "metadata": {},
   "outputs": [
    {
     "data": {
      "text/plain": [
       "52"
      ]
     },
     "execution_count": 633,
     "metadata": {},
     "output_type": "execute_result"
    }
   ],
   "source": [
    "inputs = gpt2_tokenizer(input_text, return_tensors=\"pt\").to(device_id)\n",
    "n_tokens = inputs['input_ids'].shape[1]\n",
    "n_tokens"
   ]
  },
  {
   "cell_type": "code",
   "execution_count": 634,
   "metadata": {},
   "outputs": [],
   "source": [
    "list_input_text = gpt2_tokenizer.convert_ids_to_tokens(inputs['input_ids'][0].cpu().numpy())\n",
    "\n",
    "for idx in range(1, n_tokens):\n",
    "    if not list_input_text[idx].startswith(\"Ġ\"):\n",
    "        list_input_text[idx-1] = list_input_text[idx-1] + \"##\"\n",
    "    list_input_text[idx] = list_input_text[idx].replace(\"Ġ\", \"\")"
   ]
  },
  {
   "cell_type": "markdown",
   "metadata": {},
   "source": [
    "# Main"
   ]
  },
  {
   "cell_type": "markdown",
   "metadata": {},
   "source": [
    "## first run - clean"
   ]
  },
  {
   "cell_type": "markdown",
   "metadata": {},
   "source": [
    "### register hook - save_clean_activation"
   ]
  },
  {
   "cell_type": "code",
   "execution_count": 635,
   "metadata": {},
   "outputs": [],
   "source": [
    "def save_clean_activation(m_id):\n",
    "    def save_clean_activation_hook(module, _input, _output):\n",
    "#         print(m_id, _output.shape)\n",
    "        if m_id.endswith('attn'):\n",
    "            clean_activations[m_id] = _output[0].detach()\n",
    "        elif m_id.endswith('mlp'):\n",
    "#         else:\n",
    "            clean_activations[m_id] = _output.detach()\n",
    "    return save_clean_activation_hook"
   ]
  },
  {
   "cell_type": "code",
   "execution_count": 636,
   "metadata": {},
   "outputs": [],
   "source": [
    "clean_activations = {}\n",
    "\n",
    "tuned_model = GPT2LMHeadModel.from_pretrained(tuned_model_path).to(device_id)\n",
    "\n",
    "for m_id in list_trace_module_ids:\n",
    "    tuned_model.get_submodule(m_id).register_forward_hook(save_clean_activation(m_id))"
   ]
  },
  {
   "cell_type": "markdown",
   "metadata": {},
   "source": [
    "### get clean_activations & clean_loss"
   ]
  },
  {
   "cell_type": "code",
   "execution_count": 637,
   "metadata": {},
   "outputs": [
    {
     "data": {
      "text/plain": [
       "13.573352837326823"
      ]
     },
     "execution_count": 637,
     "metadata": {},
     "output_type": "execute_result"
    }
   ],
   "source": [
    "with torch.no_grad():\n",
    "    tuned_model.eval()\n",
    "    clean_outputs = tuned_model(**inputs, labels=inputs.input_ids, output_hidden_states=True)    \n",
    "    clean_loss = np.exp(clean_outputs.loss.item())\n",
    "clean_loss"
   ]
  },
  {
   "cell_type": "markdown",
   "metadata": {},
   "source": [
    "## second run - corruped"
   ]
  },
  {
   "cell_type": "markdown",
   "metadata": {},
   "source": [
    "### register hook - corrupt_input_vector"
   ]
  },
  {
   "cell_type": "code",
   "execution_count": 638,
   "metadata": {},
   "outputs": [],
   "source": [
    "def corrupt_input_vector(module, _input):#, _output):\n",
    "    torch.manual_seed(718)\n",
    "#     print(module, _input)\n",
    "#     print(_input)\n",
    "    std = torch.std(_input[0])\n",
    "    return tuple([_input[0] + (std*1.5) * torch.randn(_input[0].shape).to(device_id), ])"
   ]
  },
  {
   "cell_type": "code",
   "execution_count": 639,
   "metadata": {},
   "outputs": [
    {
     "data": {
      "text/plain": [
       "<torch.utils.hooks.RemovableHandle at 0x14ecff2102b0>"
      ]
     },
     "execution_count": 639,
     "metadata": {},
     "output_type": "execute_result"
    }
   ],
   "source": [
    "tuned_model = GPT2LMHeadModel.from_pretrained(tuned_model_path).to(device_id)\n",
    "\n",
    "tuned_model.get_submodule(\"transformer.h.0.attn\").register_forward_pre_hook(corrupt_input_vector)"
   ]
  },
  {
   "cell_type": "markdown",
   "metadata": {},
   "source": [
    "### get corrupt_input_vector & corrupted_loss"
   ]
  },
  {
   "cell_type": "code",
   "execution_count": 640,
   "metadata": {},
   "outputs": [
    {
     "data": {
      "text/plain": [
       "18.395775714257592"
      ]
     },
     "execution_count": 640,
     "metadata": {},
     "output_type": "execute_result"
    }
   ],
   "source": [
    "\n",
    "with torch.no_grad():\n",
    "    torch.manual_seed(718)\n",
    "    tuned_model.eval()\n",
    "    corrupted_outputs = tuned_model(**inputs, labels=inputs.input_ids, output_hidden_states=True)\n",
    "    corrupted_loss = np.exp(corrupted_outputs.loss.item())\n",
    "corrupted_loss    "
   ]
  },
  {
   "cell_type": "markdown",
   "metadata": {},
   "source": [
    "## Thrid run - corrupted-with-restoration run"
   ]
  },
  {
   "cell_type": "markdown",
   "metadata": {},
   "source": [
    "### register hook - restore_activation & restored losses"
   ]
  },
  {
   "cell_type": "code",
   "execution_count": 641,
   "metadata": {},
   "outputs": [],
   "source": [
    "def restore_activation(m_id):\n",
    "    def restore_activation_hook(module, _input, _output):\n",
    "        clean_activation = clean_activations[m_id]#[:, t]\n",
    "        if m_id.endswith('attn'):\n",
    "#             corrupted_activation = _output[0].detach()\n",
    "#             base_output[:, t] = tuned_output\n",
    "#             corrupted_activation = clean_activation\n",
    "            return tuple([clean_activation, tuple([_output[1][0], _output[1][1]])])\n",
    "        elif m_id.endswith('mlp'):           \n",
    "            base_output = _output.detach()\n",
    "#             base_output[:, t] = tuned_output\n",
    "            base_output = clean_activation\n",
    "            return base_output\n",
    "    return restore_activation_hook"
   ]
  },
  {
   "cell_type": "code",
   "execution_count": 642,
   "metadata": {},
   "outputs": [],
   "source": [
    "restored_loss = {}\n",
    "tuned_model = GPT2LMHeadModel.from_pretrained(tuned_model_path).to(device_id)\n",
    "\n",
    "with torch.no_grad():\n",
    "    tuned_model.eval()\n",
    "    tuned_model.get_submodule(\"transformer.h.0.attn\").register_forward_pre_hook(corrupt_input_vector)\n",
    "    for m_id in list_trace_module_ids:\n",
    "#         for t in range(n_tokens):\n",
    "        hook = tuned_model.get_submodule(m_id).register_forward_hook(restore_activation(m_id))\n",
    "        restored_outputs = tuned_model(**inputs, labels=inputs.input_ids, output_hidden_states=True)\n",
    "        restored_loss[m_id] = np.exp(restored_outputs.loss.item())\n",
    "        hook.remove()\n",
    "        "
   ]
  },
  {
   "cell_type": "code",
   "execution_count": 643,
   "metadata": {},
   "outputs": [
    {
     "data": {
      "text/plain": [
       "[('transformer.h.0.attn', 13.573352837326823),\n",
       " ('transformer.h.0.mlp', 14.274880534457854),\n",
       " ('transformer.h.1.attn', 21.543103091989984),\n",
       " ('transformer.h.1.mlp', 20.8595076933879),\n",
       " ('transformer.h.2.attn', 17.51346675330437),\n",
       " ('transformer.h.2.mlp', 18.091306491554267),\n",
       " ('transformer.h.3.attn', 16.443810897114936),\n",
       " ('transformer.h.3.mlp', 16.982345444060076),\n",
       " ('transformer.h.4.attn', 17.352509155673943),\n",
       " ('transformer.h.4.mlp', 18.33990111156065)]"
      ]
     },
     "execution_count": 643,
     "metadata": {},
     "output_type": "execute_result"
    }
   ],
   "source": [
    "list(restored_loss.items())[:10]"
   ]
  },
  {
   "cell_type": "markdown",
   "metadata": {},
   "source": [
    "## Losses"
   ]
  },
  {
   "cell_type": "code",
   "execution_count": 644,
   "metadata": {},
   "outputs": [
    {
     "data": {
      "text/plain": [
       "(13.573352837326823, 18.395775714257592, 17.73122174651327)"
      ]
     },
     "execution_count": 644,
     "metadata": {},
     "output_type": "execute_result"
    }
   ],
   "source": [
    "clean_loss, corrupted_loss, np.mean(list(restored_loss.values()))"
   ]
  },
  {
   "cell_type": "code",
   "execution_count": 645,
   "metadata": {},
   "outputs": [],
   "source": [
    "# TE = (base_loss - tuned_loss) / base_loss\n",
    "# IDE = {}\n",
    "# for m_id in list_trace_module_ids:\n",
    "#     for t in range(n_tokens):\n",
    "#         IDE[m_id + f'.{t}'] = restored_loss[m_id + f'.{t}'] / base_loss\n",
    "        \n",
    "TE = (corrupted_loss - clean_loss) / clean_loss\n",
    "IDE = {}\n",
    "for m_id in list_trace_module_ids:\n",
    "    IDE[m_id] = (restored_loss[m_id] - clean_loss) / clean_loss"
   ]
  },
  {
   "cell_type": "code",
   "execution_count": 646,
   "metadata": {},
   "outputs": [],
   "source": [
    "def parse_code(row):\n",
    "    list_code = row.code.split(\".\")\n",
    "    row['l'] = int(list_code[2])\n",
    "    row['m'] = list_code[3]\n",
    "#     row['t'] = int(list_code[4])\n",
    "    return row\n",
    "\n",
    "df_ide = pd.DataFrame.from_dict(IDE, orient='index').reset_index()\n",
    "df_ide.columns = ['code', 'ide']\n",
    "df_ide = df_ide.apply(lambda row: parse_code(row), axis=1)\n",
    "# df_ide['token'] = df_ide['t'].apply(lambda x: list_input_text[int(x)])"
   ]
  },
  {
   "cell_type": "markdown",
   "metadata": {},
   "source": [
    "## Results"
   ]
  },
  {
   "cell_type": "markdown",
   "metadata": {},
   "source": [
    "##### He was a religious scholar and a prolific writer. Many of his works are used as references for church members"
   ]
  },
  {
   "cell_type": "code",
   "execution_count": 583,
   "metadata": {},
   "outputs": [
    {
     "data": {
      "text/plain": [
       "<Axes: xlabel='None-l', ylabel='m'>"
      ]
     },
     "execution_count": 583,
     "metadata": {},
     "output_type": "execute_result"
    },
    {
     "data": {
      "image/png": "[encoded data removed]",
      "text/plain": [
       "<Figure size 1000x500 with 2 Axes>"
      ]
     },
     "metadata": {},
     "output_type": "display_data"
    }
   ],
   "source": [
    "plt.rcParams[\"figure.figsize\"] = (10,5)\n",
    "\n",
    "sns.heatmap(\n",
    "    df_ide.drop(['code'], axis=1).set_index(['m', 'l']).unstack(-1),\n",
    "    cmap='coolwarm'#, vmax=0.3, vmin=0\n",
    ")"
   ]
  },
  {
   "cell_type": "markdown",
   "metadata": {},
   "source": [
    "##### 'In popular and media culture, Anubis is often falsely portrayed as the sinister god of the dead'\n"
   ]
  },
  {
   "cell_type": "code",
   "execution_count": 599,
   "metadata": {},
   "outputs": [
    {
     "data": {
      "text/plain": [
       "<Axes: xlabel='None-l', ylabel='m'>"
      ]
     },
     "execution_count": 599,
     "metadata": {},
     "output_type": "execute_result"
    },
    {
     "data": {
      "image/png": "[encoded data removed]",
      "text/plain": [
       "<Figure size 1000x500 with 2 Axes>"
      ]
     },
     "metadata": {},
     "output_type": "display_data"
    }
   ],
   "source": [
    "plt.rcParams[\"figure.figsize\"] = (10,5)\n",
    "\n",
    "sns.heatmap(\n",
    "    df_ide.drop(['code'], axis=1).set_index(['m', 'l']).unstack(-1),\n",
    "    cmap='coolwarm'#, vmax=1.2, vmin=0.8\n",
    ")"
   ]
  },
  {
   "cell_type": "markdown",
   "metadata": {},
   "source": [
    "##### Elderly people often have limited regenerative abilities and are more susceptible to disease, syndromes, injuries and sickness than younger adults."
   ]
  },
  {
   "cell_type": "code",
   "execution_count": 615,
   "metadata": {},
   "outputs": [
    {
     "data": {
      "text/plain": [
       "<Axes: xlabel='None-l', ylabel='m'>"
      ]
     },
     "execution_count": 615,
     "metadata": {},
     "output_type": "execute_result"
    },
    {
     "data": {
      "image/png": "[encoded data removed]",
      "text/plain": [
       "<Figure size 1000x500 with 2 Axes>"
      ]
     },
     "metadata": {},
     "output_type": "display_data"
    }
   ],
   "source": [
    "plt.rcParams[\"figure.figsize\"] = (10,5)\n",
    "\n",
    "sns.heatmap(\n",
    "    df_ide.drop(['code'], axis=1).set_index(['m', 'l']).unstack(-1),\n",
    "    cmap='coolwarm'#, vmax=1.2, vmin=0.8\n",
    ")"
   ]
  },
  {
   "cell_type": "markdown",
   "metadata": {},
   "source": [
    "##### \"Zechariah's vision of recently deceased Joshua the High Priest depicts a dispute in the heavenly throne room between Satan and the Angel of the Lord\"\n"
   ]
  },
  {
   "cell_type": "code",
   "execution_count": 631,
   "metadata": {},
   "outputs": [
    {
     "data": {
      "text/plain": [
       "<Axes: xlabel='None-l', ylabel='m'>"
      ]
     },
     "execution_count": 631,
     "metadata": {},
     "output_type": "execute_result"
    },
    {
     "data": {
      "image/png": "[encoded data removed]",
      "text/plain": [
       "<Figure size 1000x500 with 2 Axes>"
      ]
     },
     "metadata": {},
     "output_type": "display_data"
    }
   ],
   "source": [
    "plt.rcParams[\"figure.figsize\"] = (10,5)\n",
    "\n",
    "sns.heatmap(\n",
    "    df_ide.drop(['code'], axis=1).set_index(['m', 'l']).unstack(-1),\n",
    "    cmap='coolwarm'#, vmax=1.2, vmin=0.8\n",
    ")"
   ]
  },
  {
   "cell_type": "markdown",
   "metadata": {},
   "source": [
    "##### The Transcendental Argument for the Existence of God (TAG) is the argument that attempts to prove the existence of God by arguing that logic, morals, and science ultimately presuppose a supreme being and that God must therefore be the source of logic and morals"
   ]
  },
  {
   "cell_type": "code",
   "execution_count": 647,
   "metadata": {},
   "outputs": [
    {
     "data": {
      "text/plain": [
       "<Axes: xlabel='None-l', ylabel='m'>"
      ]
     },
     "execution_count": 647,
     "metadata": {},
     "output_type": "execute_result"
    },
    {
     "data": {
      "image/png": "[encoded data removed]",
      "text/plain": [
       "<Figure size 1000x500 with 2 Axes>"
      ]
     },
     "metadata": {},
     "output_type": "display_data"
    }
   ],
   "source": [
    "plt.rcParams[\"figure.figsize\"] = (10,5)\n",
    "\n",
    "sns.heatmap(\n",
    "    df_ide.drop(['code'], axis=1).set_index(['m', 'l']).unstack(-1),\n",
    "    cmap='coolwarm'#, vmax=1.2, vmin=0.8\n",
    ")"
   ]
  },
  {
   "cell_type": "markdown",
   "metadata": {},
   "source": [
    "### Conclusion\n",
    "- When restore MLP activation, the model shows better result\n",
    "- but the layer order doesn't show any pattern.\n",
    "\n",
    "### Questions\n",
    "- Q1) Multiple models in casual tracing?: I guess because of other weight differences between base and fine-tuned models despite the restored activations, the restoration wouldn’t work properly. The restored values from the tuned model would be re-changed by the weights and baises in the base model.\n",
    "- Q2) Constraint on dataset: they used **triples (subject, relation, object)**, and as far as I understand, they constrained the templates which they build. Most **subject tokens** appear in the heads of templates and **object** appear in the back to track the result efficiently. Do we need to constrain dataset too?\n"
   ]
  },
  {
   "cell_type": "code",
   "execution_count": null,
   "metadata": {},
   "outputs": [],
   "source": []
  }
 ],
 "metadata": {
  "kernelspec": {
   "display_name": "Python [conda env:m2d2]",
   "language": "python",
   "name": "conda-env-m2d2-py"
  },
  "language_info": {
   "codemirror_mode": {
    "name": "ipython",
    "version": 3
   },
   "file_extension": ".py",
   "mimetype": "text/x-python",
   "name": "python",
   "nbconvert_exporter": "python",
   "pygments_lexer": "ipython3",
   "version": "3.10.11"
  }
 },
 "nbformat": 4,
 "nbformat_minor": 2
}
