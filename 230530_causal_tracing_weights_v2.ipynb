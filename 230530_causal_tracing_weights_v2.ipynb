{
 "cells": [
  {
   "cell_type": "markdown",
   "metadata": {},
   "source": [
    "# 230518_causal_tracing_weights_v2\n",
    "a wide range of fine-tuned models"
   ]
  },
  {
   "cell_type": "markdown",
   "metadata": {},
   "source": [
    "# Import libraries"
   ]
  },
  {
   "cell_type": "code",
   "execution_count": 7,
   "metadata": {},
   "outputs": [
    {
     "name": "stderr",
     "output_type": "stream",
     "text": [
      "/rds/general/user/jj1122/home/anaconda3/envs/test1/lib/python3.9/site-packages/tqdm/auto.py:21: TqdmWarning: IProgress not found. Please update jupyter and ipywidgets. See https://ipywidgets.readthedocs.io/en/stable/user_install.html\n",
      "  from .autonotebook import tqdm as notebook_tqdm\n"
     ]
    }
   ],
   "source": [
    "from transformers import GPT2LMHeadModel, GPT2TokenizerFast, GPT2Tokenizer\n",
    "from datasets import load_dataset\n",
    "from tqdm import tqdm\n",
    "import json\n",
    "import torch\n",
    "import argparse\n",
    "import datasets\n",
    "import numpy as np\n",
    "import seaborn as sns\n",
    "import pandas as pd\n",
    "import matplotlib.pylab as plt\n",
    "from os import listdir\n",
    "import json\n",
    "import math"
   ]
  },
  {
   "cell_type": "markdown",
   "metadata": {},
   "source": [
    "# Config"
   ]
  },
  {
   "cell_type": "code",
   "execution_count": 2,
   "metadata": {},
   "outputs": [],
   "source": [
    "sns.set_style(\"darkgrid\")"
   ]
  },
  {
   "cell_type": "code",
   "execution_count": 2,
   "metadata": {},
   "outputs": [],
   "source": [
    "# dataset_nm = \"Health_and_fitness\"\n",
    "# dataset_path = f\"../m2d2/dataset/{dataset_nm}/train.txt\"\n",
    "cache_dir=\"/rds/general/user/jj1122/ephemeral/.cache/huggingface\"\n",
    "data_dir = \"../m2d2/dataset\""
   ]
  },
  {
   "cell_type": "code",
   "execution_count": 3,
   "metadata": {},
   "outputs": [],
   "source": [
    "def get_model_path(model_id):\n",
    "    model_path_format = \"/rds/general/user/jj1122/home/projects/m2d2/dataset/{model_id}/models\"\n",
    "    ckpt_path_format = \"/checkpoint-{ckpt}\"\n",
    "\n",
    "    if model_id == \"gpt2\":\n",
    "        model_path = \"gpt2\"\n",
    "#         ckpt = \"zs\"\n",
    "    else:\n",
    "        model_path = model_path_format.format(model_id=model_id)\n",
    "        l_dir = listdir(model_path)\n",
    "\n",
    "        if all([len(x.split(\".\")) == 1 for x in l_dir]):\n",
    "            ckpt = max([int(x.split(\"-\")[1]) for x in l_dir])\n",
    "            model_path += ckpt_path_format.format(ckpt=ckpt)\n",
    "#         else:\n",
    "#             ckpt = \"final\"\n",
    "    return model_path"
   ]
  },
  {
   "cell_type": "code",
   "execution_count": 4,
   "metadata": {},
   "outputs": [],
   "source": [
    "list_models = [\n",
    "    \"cs_l1\",\n",
    "    \"nlin_l1\",\n",
    "    \"Health_and_fitness\",\n",
    "    \"Natural_and_physical_sciences\",\n",
    "    \"Religion_and_belief_systems\",\n",
    "    \"Culture_and_the_arts\",\n",
    "    \"General_referece\",\n",
    "    \"econ_l1\",\n",
    "    \"History_and_events\",\n",
    "    \"Mathematics_and_logic\",\n",
    "    \"q-fin_l1\",\n",
    "    \"Philosophy_and_thinking\",\n",
    "    \"Society_and_social_sciences\"\n",
    "]"
   ]
  },
  {
   "cell_type": "code",
   "execution_count": 10,
   "metadata": {},
   "outputs": [],
   "source": [
    "device_id = 'cpu'\n",
    "n_layers = 12\n",
    "list_modules = ['attn', 'mlp']\n",
    "trace_module_id = \"transformer.h.{l}.{m}\""
   ]
  },
  {
   "cell_type": "code",
   "execution_count": 11,
   "metadata": {},
   "outputs": [
    {
     "name": "stdout",
     "output_type": "stream",
     "text": [
      "['transformer.h.0.attn', 'transformer.h.0.mlp', 'transformer.h.1.attn']\n"
     ]
    }
   ],
   "source": [
    "list_trace_module_ids = []\n",
    "\n",
    "for l in range(n_layers):\n",
    "    for m in list_modules:\n",
    "        list_trace_module_ids.append(trace_module_id.format(l=l, m=m))\n",
    "\n",
    "print(list_trace_module_ids[:3])"
   ]
  },
  {
   "cell_type": "markdown",
   "metadata": {},
   "source": [
    "# Model"
   ]
  },
  {
   "cell_type": "markdown",
   "metadata": {},
   "source": [
    "## load **13** finetuned models with EarlyStopper"
   ]
  },
  {
   "cell_type": "code",
   "execution_count": 217,
   "metadata": {},
   "outputs": [],
   "source": [
    "config_models = {model_id: {} for model_id in list_models}\n",
    "for model_id in list_models:\n",
    "    config_models[model_id][\"model_path\"] = get_model_path(model_id)\n",
    "    json_path = config_models[model_id][\"model_path\"] + \"/trainer_state.json\"\n",
    "    with open(json_path, \"r\") as json_file:\n",
    "        trainer_state = json.load(json_file)\n",
    "        config_models[model_id][\"ppl\"] = math.exp(trainer_state[\"best_metric\"])\n",
    "        config_models[model_id][\"steps\"] = int(trainer_state[\"best_model_checkpoint\"].split(\"/\")[-1].split(\"-\")[-1])\n",
    "        config_models[model_id][\"eps\"] = float(trainer_state[\"epoch\"])"
   ]
  },
  {
   "cell_type": "code",
   "execution_count": 12,
   "metadata": {},
   "outputs": [],
   "source": [
    "base_model = GPT2LMHeadModel.from_pretrained(\"gpt2\", cache_dir=cache_dir).to(device_id)\n",
    "gpt2_tokenizer = GPT2Tokenizer.from_pretrained(\"gpt2\", cache_dir=cache_dir)"
   ]
  },
  {
   "cell_type": "markdown",
   "metadata": {},
   "source": [
    "## Get difference in weights\n",
    "```diff = np.mean(np.abs(model_a.weights - model_b.weights))```"
   ]
  },
  {
   "cell_type": "code",
   "execution_count": 446,
   "metadata": {},
   "outputs": [
    {
     "name": "stdout",
     "output_type": "stream",
     "text": [
      "transformer.wte.weight\n",
      "transformer.wpe.weight\n",
      "transformer.h.0.ln_1.weight\n",
      "transformer.h.0.ln_1.bias\n",
      "transformer.h.0.attn.c_attn.weight\n",
      "transformer.h.0.attn.c_attn.bias\n",
      "transformer.h.0.attn.c_proj.weight\n",
      "transformer.h.0.attn.c_proj.bias\n",
      "transformer.h.0.ln_2.weight\n",
      "transformer.h.0.ln_2.bias\n",
      "transformer.h.0.mlp.c_fc.weight\n",
      "transformer.h.0.mlp.c_fc.bias\n",
      "transformer.h.0.mlp.c_proj.weight\n",
      "transformer.h.0.mlp.c_proj.bias\n",
      "transformer.h.1.ln_1.weight\n",
      "transformer.h.1.ln_1.bias\n",
      "transformer.h.1.attn.c_attn.weight\n",
      "transformer.h.1.attn.c_attn.bias\n",
      "transformer.h.1.attn.c_proj.weight\n",
      "transformer.h.1.attn.c_proj.bias\n",
      "transformer.h.1.ln_2.weight\n",
      "transformer.h.1.ln_2.bias\n",
      "transformer.h.1.mlp.c_fc.weight\n",
      "transformer.h.1.mlp.c_fc.bias\n",
      "transformer.h.1.mlp.c_proj.weight\n",
      "transformer.h.1.mlp.c_proj.bias\n",
      "transformer.h.2.ln_1.weight\n",
      "transformer.h.2.ln_1.bias\n",
      "transformer.h.2.attn.c_attn.weight\n",
      "transformer.h.2.attn.c_attn.bias\n",
      "transformer.h.2.attn.c_proj.weight\n",
      "transformer.h.2.attn.c_proj.bias\n",
      "transformer.h.2.ln_2.weight\n",
      "transformer.h.2.ln_2.bias\n",
      "transformer.h.2.mlp.c_fc.weight\n",
      "transformer.h.2.mlp.c_fc.bias\n",
      "transformer.h.2.mlp.c_proj.weight\n",
      "transformer.h.2.mlp.c_proj.bias\n",
      "transformer.h.3.ln_1.weight\n",
      "transformer.h.3.ln_1.bias\n",
      "transformer.h.3.attn.c_attn.weight\n",
      "transformer.h.3.attn.c_attn.bias\n",
      "transformer.h.3.attn.c_proj.weight\n",
      "transformer.h.3.attn.c_proj.bias\n",
      "transformer.h.3.ln_2.weight\n",
      "transformer.h.3.ln_2.bias\n",
      "transformer.h.3.mlp.c_fc.weight\n",
      "transformer.h.3.mlp.c_fc.bias\n",
      "transformer.h.3.mlp.c_proj.weight\n",
      "transformer.h.3.mlp.c_proj.bias\n",
      "transformer.h.4.ln_1.weight\n",
      "transformer.h.4.ln_1.bias\n",
      "transformer.h.4.attn.c_attn.weight\n",
      "transformer.h.4.attn.c_attn.bias\n",
      "transformer.h.4.attn.c_proj.weight\n",
      "transformer.h.4.attn.c_proj.bias\n",
      "transformer.h.4.ln_2.weight\n",
      "transformer.h.4.ln_2.bias\n",
      "transformer.h.4.mlp.c_fc.weight\n",
      "transformer.h.4.mlp.c_fc.bias\n",
      "transformer.h.4.mlp.c_proj.weight\n",
      "transformer.h.4.mlp.c_proj.bias\n",
      "transformer.h.5.ln_1.weight\n",
      "transformer.h.5.ln_1.bias\n",
      "transformer.h.5.attn.c_attn.weight\n",
      "transformer.h.5.attn.c_attn.bias\n",
      "transformer.h.5.attn.c_proj.weight\n",
      "transformer.h.5.attn.c_proj.bias\n",
      "transformer.h.5.ln_2.weight\n",
      "transformer.h.5.ln_2.bias\n",
      "transformer.h.5.mlp.c_fc.weight\n",
      "transformer.h.5.mlp.c_fc.bias\n",
      "transformer.h.5.mlp.c_proj.weight\n",
      "transformer.h.5.mlp.c_proj.bias\n",
      "transformer.h.6.ln_1.weight\n",
      "transformer.h.6.ln_1.bias\n",
      "transformer.h.6.attn.c_attn.weight\n",
      "transformer.h.6.attn.c_attn.bias\n",
      "transformer.h.6.attn.c_proj.weight\n",
      "transformer.h.6.attn.c_proj.bias\n",
      "transformer.h.6.ln_2.weight\n",
      "transformer.h.6.ln_2.bias\n",
      "transformer.h.6.mlp.c_fc.weight\n",
      "transformer.h.6.mlp.c_fc.bias\n",
      "transformer.h.6.mlp.c_proj.weight\n",
      "transformer.h.6.mlp.c_proj.bias\n",
      "transformer.h.7.ln_1.weight\n",
      "transformer.h.7.ln_1.bias\n",
      "transformer.h.7.attn.c_attn.weight\n",
      "transformer.h.7.attn.c_attn.bias\n",
      "transformer.h.7.attn.c_proj.weight\n",
      "transformer.h.7.attn.c_proj.bias\n",
      "transformer.h.7.ln_2.weight\n",
      "transformer.h.7.ln_2.bias\n",
      "transformer.h.7.mlp.c_fc.weight\n",
      "transformer.h.7.mlp.c_fc.bias\n",
      "transformer.h.7.mlp.c_proj.weight\n",
      "transformer.h.7.mlp.c_proj.bias\n",
      "transformer.h.8.ln_1.weight\n",
      "transformer.h.8.ln_1.bias\n",
      "transformer.h.8.attn.c_attn.weight\n",
      "transformer.h.8.attn.c_attn.bias\n",
      "transformer.h.8.attn.c_proj.weight\n",
      "transformer.h.8.attn.c_proj.bias\n",
      "transformer.h.8.ln_2.weight\n",
      "transformer.h.8.ln_2.bias\n",
      "transformer.h.8.mlp.c_fc.weight\n",
      "transformer.h.8.mlp.c_fc.bias\n",
      "transformer.h.8.mlp.c_proj.weight\n",
      "transformer.h.8.mlp.c_proj.bias\n",
      "transformer.h.9.ln_1.weight\n",
      "transformer.h.9.ln_1.bias\n",
      "transformer.h.9.attn.c_attn.weight\n",
      "transformer.h.9.attn.c_attn.bias\n",
      "transformer.h.9.attn.c_proj.weight\n",
      "transformer.h.9.attn.c_proj.bias\n",
      "transformer.h.9.ln_2.weight\n",
      "transformer.h.9.ln_2.bias\n",
      "transformer.h.9.mlp.c_fc.weight\n",
      "transformer.h.9.mlp.c_fc.bias\n",
      "transformer.h.9.mlp.c_proj.weight\n",
      "transformer.h.9.mlp.c_proj.bias\n",
      "transformer.h.10.ln_1.weight\n",
      "transformer.h.10.ln_1.bias\n",
      "transformer.h.10.attn.c_attn.weight\n",
      "transformer.h.10.attn.c_attn.bias\n",
      "transformer.h.10.attn.c_proj.weight\n",
      "transformer.h.10.attn.c_proj.bias\n",
      "transformer.h.10.ln_2.weight\n",
      "transformer.h.10.ln_2.bias\n",
      "transformer.h.10.mlp.c_fc.weight\n",
      "transformer.h.10.mlp.c_fc.bias\n",
      "transformer.h.10.mlp.c_proj.weight\n",
      "transformer.h.10.mlp.c_proj.bias\n",
      "transformer.h.11.ln_1.weight\n",
      "transformer.h.11.ln_1.bias\n",
      "transformer.h.11.attn.c_attn.weight\n",
      "transformer.h.11.attn.c_attn.bias\n",
      "transformer.h.11.attn.c_proj.weight\n",
      "transformer.h.11.attn.c_proj.bias\n",
      "transformer.h.11.ln_2.weight\n",
      "transformer.h.11.ln_2.bias\n",
      "transformer.h.11.mlp.c_fc.weight\n",
      "transformer.h.11.mlp.c_fc.bias\n",
      "transformer.h.11.mlp.c_proj.weight\n",
      "transformer.h.11.mlp.c_proj.bias\n",
      "transformer.ln_f.weight\n",
      "transformer.ln_f.bias\n"
     ]
    }
   ],
   "source": [
    "for k, v in base_model.named_parameters():\n",
    "    print(k)\n",
    "#     if k  == \"transformer.h.0.attn.c_attn.bias\":\n",
    "#         attn_b = v\n",
    "#     if k  == \"transformer.h.0.attn.c_attn.weight\":\n",
    "#         attn_w = v\n",
    "#     if \"ln_1\" in k and \"weight\" in k :\n",
    "# #         print(k)\n",
    "#         ln_1_w = v\n",
    "\n",
    "#     if \"ln_1\" in k and \"bias\" in k :\n",
    "# #         print(k)\n",
    "#         ln_1_b = v\n",
    "\n",
    "#     if \"head\" in k :\n",
    "# #         print(k)\n",
    "#         head = v\n"
   ]
  },
  {
   "cell_type": "code",
   "execution_count": 426,
   "metadata": {},
   "outputs": [],
   "source": [
    "tuned_model = GPT2LMHeadModel.from_pretrained(config_models[\"cs_l1\"][\"model_path\"]).to(device_id)"
   ]
  },
  {
   "cell_type": "code",
   "execution_count": 447,
   "metadata": {},
   "outputs": [
    {
     "name": "stdout",
     "output_type": "stream",
     "text": [
      "('weight', Parameter containing:\n",
      "tensor([[-0.0569, -0.0311,  0.0599,  ..., -0.0738,  0.0517, -0.0129],\n",
      "        [ 0.0120, -0.0348,  0.0342,  ...,  0.0318, -0.0172,  0.0192],\n",
      "        [-0.1029, -0.0119,  0.0915,  ...,  0.0414, -0.0894, -0.0864],\n",
      "        ...,\n",
      "        [-0.0327, -0.0641,  0.0242,  ...,  0.0773,  0.0409, -0.0510],\n",
      "        [ 0.1016,  0.0116,  0.0276,  ..., -0.0607,  0.0448, -0.0123],\n",
      "        [ 0.0203, -0.0101,  0.0494,  ..., -0.0105,  0.0788,  0.0611]],\n",
      "       requires_grad=True))\n"
     ]
    }
   ],
   "source": [
    "for x in tuned_model.lm_head.named_parameters():\n",
    "    print(x)"
   ]
  },
  {
   "cell_type": "code",
   "execution_count": 466,
   "metadata": {},
   "outputs": [],
   "source": [
    "def get_diff_from_tensors(a, b):\n",
    "    return torch.abs(a - b).mean().item()\n",
    "\n",
    "dict_diff_weights = {}\n",
    "dict_module_params = {}\n",
    "for k, v_dict in config_models.items():\n",
    "#     print(k)\n",
    "#     dict_diff_weights[k +\".\"+tuned_tup[0]]\n",
    "    tuned_model = GPT2LMHeadModel.from_pretrained(v_dict[\"model_path\"]).to(device_id)\n",
    "    for tuned_tup, base_tup in zip(list(tuned_model.named_parameters()), list(base_model.named_parameters())):\n",
    "\n",
    "        dict_module_params[base_tup[0]]= base_tup[1].numel()\n",
    "        \n",
    "        if \"c_attn\" in tuned_tup[0]:\n",
    "            dim_size = len(base_tup[1].shape) - 1\n",
    "            emb_size = base_tup[1].shape[dim_size] // 3\n",
    "            \n",
    "            base_q, base_k, base_v = torch.split(base_tup[1], [emb_size]*3, dim=dim_size)\n",
    "            tuned_q, tuned_k, tuned_v = torch.split(tuned_tup[1], [emb_size]*3, dim=dim_size)\n",
    "\n",
    "            assert base_q.shape == tuned_q.shape\n",
    "            assert base_k.shape == tuned_k.shape\n",
    "            assert base_v.shape == tuned_v.shape\n",
    "            \n",
    "            dict_diff_weights[k +\".\"+ tuned_tup[0].replace(\"c_attn\", \"c_attn_Q\")] = get_diff_from_tensors(tuned_q, base_q)\n",
    "            dict_diff_weights[k +\".\"+ tuned_tup[0].replace(\"c_attn\", \"c_attn_K\")] = get_diff_from_tensors(tuned_k, base_k)\n",
    "            dict_diff_weights[k +\".\"+ tuned_tup[0].replace(\"c_attn\", \"c_attn_V\")] = get_diff_from_tensors(tuned_v, base_v)\n",
    "        else:\n",
    "            dict_diff_weights[k +\".\"+tuned_tup[0]] = get_diff_from_tensors(tuned_tup[1], base_tup[1])\n",
    "\n",
    "#     for tuned_tup, base_tup in zip(list(tuned_model.lm_head.named_parameters()), list(base_model.lm_head.named_parameters())):\n",
    "#         dict_module_params[\"transformer.ln_head.weight\"]= base_tup[1].numel()\n",
    "#         dict_diff_weights[k +\".\"+\"transformer.ln_head.weight\"] = get_diff_from_tensors(tuned_tup[1], base_tup[1])        \n",
    "        \n",
    "    del tuned_model"
   ]
  },
  {
   "cell_type": "code",
   "execution_count": 467,
   "metadata": {},
   "outputs": [],
   "source": [
    "df_avg_diff_weights = pd.DataFrame.from_dict(dict_diff_weights, orient='index')\n",
    "\n",
    "df_avg_diff_weights = df_avg_diff_weights.reset_index()\n",
    "df_avg_diff_weights.columns = [\"code\", \"diff\"]\n",
    "\n",
    "df_avg_diff_weights[\"code_split\"] = df_avg_diff_weights[\"code\"].str.split(\".\")\n",
    "df_avg_diff_weights[\"dataset\"] = df_avg_diff_weights[\"code_split\"].apply(lambda l: l[0])\n",
    "\n",
    "df_avg_diff_weights[\"layer\"] = df_avg_diff_weights[\"code_split\"].apply(lambda l: int(l[3]) if l[2] == \"h\" else -1)\n",
    "\n",
    "\n",
    "df_avg_diff_weights[\"module\"] = df_avg_diff_weights[\"code_split\"].apply(lambda l: l[4] if l[2] == \"h\" else l[2])\n",
    "df_avg_diff_weights[\"sub_module\"] = df_avg_diff_weights[\"module\"]\n",
    "df_avg_diff_weights.loc[df_avg_diff_weights[\"module\"].isin([\"attn\", \"mlp\"]), \"sub_module\"] \\\n",
    "    += df_avg_diff_weights[\"code_split\"].loc[df_avg_diff_weights[\"module\"].isin([\"attn\", \"mlp\"])].apply(lambda l: l[5])\n",
    "\n",
    "df_avg_diff_weights.loc[df_avg_diff_weights[\"sub_module\"] == \"ln_f\", \"layer\"] = 99\n",
    "\n",
    "# df_avg_diff_weights['final_module'] = \\\n",
    "#     df_avg_diff_weights[[\"layer\", \"module\", \"sub_module\"]]\\\n",
    "#         .apply(lambda row: \"-\".join([str(row[\"layer\"]), row[\"module\"], row[\"sub_module\"]]), axis=1)\n",
    "\n",
    "df_avg_diff_weights[\"w_or_b\"] = df_avg_diff_weights[\"code_split\"].apply(lambda l: l[-1])\n",
    "\n",
    "for dataset, d in config_models.items():\n",
    "    for k, v in d.items():\n",
    "        if k != \"model_path\":\n",
    "            df_avg_diff_weights.loc[df_avg_diff_weights.dataset == dataset, k] = v\n",
    "\n",
    "del df_avg_diff_weights[\"code\"], df_avg_diff_weights[\"code_split\"]\n",
    "\n",
    "only_transformer_layers = ~(df_avg_diff_weights.layer.isin([-1, 99]))\n"
   ]
  },
  {
   "cell_type": "markdown",
   "metadata": {},
   "source": [
    "### boxplot for the mean weight- and bias-differences by layers\n",
    "##### Due to the different distributions, There exist too many **outliers**\n",
    "##### Original weight-differences could cause confusion that the differences from fine-tuning or just running time"
   ]
  },
  {
   "cell_type": "code",
   "execution_count": 476,
   "metadata": {},
   "outputs": [
    {
     "data": {
      "text/plain": [
       "<Axes: xlabel='layer', ylabel='diff'>"
      ]
     },
     "execution_count": 476,
     "metadata": {},
     "output_type": "execute_result"
    },
    {
     "data": {
      "image/png": "[encoded data removed]",
      "text/plain": [
       "<Figure size 1500x500 with 1 Axes>"
      ]
     },
     "metadata": {},
     "output_type": "display_data"
    }
   ],
   "source": [
    "plt.rcParams[\"figure.figsize\"] = (15,5)\n",
    "\n",
    "sns.boxplot(\n",
    "    df_avg_diff_weights,\n",
    "    x='layer',  y='diff', hue='w_or_b'\n",
    "#     , errorbar='se'\n",
    ")"
   ]
  },
  {
   "cell_type": "code",
   "execution_count": 477,
   "metadata": {},
   "outputs": [],
   "source": [
    "# df_temp_agg = df_avg_diff_weights.groupby([\"layer\", \"w_or_b\"])[['diff']]\\\n",
    "#     .agg({\"diff\": [\"mean\", \"median\"]})\n",
    "\n",
    "# df_temp_agg = df_temp_agg.reset_index()\n",
    "# df_temp_agg = df_temp_agg.melt(value_vars=[\"mean\", \"median\"], ignore_index=False)\n",
    "# plt.rcParams[\"figure.figsize\"] = (5,5)\n",
    "# g = sns.relplot(df_temp_agg.loc[df_temp_agg.w_or_b == 'weight'], x='mean', y='median', col='w_or_b')\n",
    "# g.set(ylim=(0, 0.035), xlim=(0, 0.035))\n",
    "# # , sizes=(0.35, 0.35)"
   ]
  },
  {
   "cell_type": "markdown",
   "metadata": {},
   "source": [
    "### Corrleation between the difference in weights and training time from different datasets\n"
   ]
  },
  {
   "cell_type": "code",
   "execution_count": 478,
   "metadata": {},
   "outputs": [
    {
     "name": "stderr",
     "output_type": "stream",
     "text": [
      "/var/tmp/pbs.7644459.pbs/ipykernel_485139/4288699062.py:1: FutureWarning: The default value of numeric_only in DataFrame.corr is deprecated. In a future version, it will default to False. Select only valid columns or specify the value of numeric_only to silence this warning.\n",
      "  df_avg_diff_weights.groupby(['dataset', 'eps', 'steps'])[['diff']].mean().reset_index().corr()\n"
     ]
    },
    {
     "data": {
      "text/html": [
       "<div>\n",
       "<style scoped>\n",
       "    .dataframe tbody tr th:only-of-type {\n",
       "        vertical-align: middle;\n",
       "    }\n",
       "\n",
       "    .dataframe tbody tr th {\n",
       "        vertical-align: top;\n",
       "    }\n",
       "\n",
       "    .dataframe thead th {\n",
       "        text-align: right;\n",
       "    }\n",
       "</style>\n",
       "<table border=\"1\" class=\"dataframe\">\n",
       "  <thead>\n",
       "    <tr style=\"text-align: right;\">\n",
       "      <th></th>\n",
       "      <th>eps</th>\n",
       "      <th>steps</th>\n",
       "      <th>diff</th>\n",
       "    </tr>\n",
       "  </thead>\n",
       "  <tbody>\n",
       "    <tr>\n",
       "      <th>eps</th>\n",
       "      <td>1.000000</td>\n",
       "      <td>-0.484577</td>\n",
       "      <td>-0.441738</td>\n",
       "    </tr>\n",
       "    <tr>\n",
       "      <th>steps</th>\n",
       "      <td>-0.484577</td>\n",
       "      <td>1.000000</td>\n",
       "      <td>0.997564</td>\n",
       "    </tr>\n",
       "    <tr>\n",
       "      <th>diff</th>\n",
       "      <td>-0.441738</td>\n",
       "      <td>0.997564</td>\n",
       "      <td>1.000000</td>\n",
       "    </tr>\n",
       "  </tbody>\n",
       "</table>\n",
       "</div>"
      ],
      "text/plain": [
       "            eps     steps      diff\n",
       "eps    1.000000 -0.484577 -0.441738\n",
       "steps -0.484577  1.000000  0.997564\n",
       "diff  -0.441738  0.997564  1.000000"
      ]
     },
     "execution_count": 478,
     "metadata": {},
     "output_type": "execute_result"
    }
   ],
   "source": [
    "df_avg_diff_weights.groupby(['dataset', 'eps', 'steps'])[['diff']].mean().reset_index().corr()"
   ]
  },
  {
   "cell_type": "markdown",
   "metadata": {},
   "source": [
    "### Scaling the difference of weights\n",
    "For each dataset, ```new_diff = original_diff  / n_steps  * 10**6```"
   ]
  },
  {
   "cell_type": "code",
   "execution_count": 479,
   "metadata": {},
   "outputs": [],
   "source": [
    "df_avg_diff_weights['diff_v2'] = df_avg_diff_weights['diff'] / df_avg_diff_weights['steps'] * 10**6"
   ]
  },
  {
   "cell_type": "markdown",
   "metadata": {},
   "source": [
    "### boxplot for the scaled and mean weight- and bias-differences by layers\n"
   ]
  },
  {
   "cell_type": "code",
   "execution_count": 480,
   "metadata": {},
   "outputs": [
    {
     "data": {
      "text/plain": [
       "<Axes: xlabel='layer', ylabel='diff_v2'>"
      ]
     },
     "execution_count": 480,
     "metadata": {},
     "output_type": "execute_result"
    },
    {
     "data": {
      "image/png": "[encoded data removed]",
      "text/plain": [
       "<Figure size 1500x500 with 1 Axes>"
      ]
     },
     "metadata": {},
     "output_type": "display_data"
    }
   ],
   "source": [
    "plt.rcParams[\"figure.figsize\"] = (15,5)\n",
    "\n",
    "sns.boxplot(\n",
    "    df_avg_diff_weights,\n",
    "    x='layer',  y='diff_v2', hue='w_or_b'\n",
    "#     , errorbar='se'\n",
    ")"
   ]
  },
  {
   "cell_type": "markdown",
   "metadata": {},
   "source": [
    "### the number of parameters for each sub_module"
   ]
  },
  {
   "cell_type": "code",
   "execution_count": 481,
   "metadata": {},
   "outputs": [],
   "source": [
    "df_module_params = pd.DataFrame.from_dict(dict_module_params, orient='index')\n",
    "df_module_params = df_module_params.reset_index()\n",
    "df_module_params.columns = [\"code\", \"n_params\"]\n"
   ]
  },
  {
   "cell_type": "code",
   "execution_count": 482,
   "metadata": {},
   "outputs": [],
   "source": [
    "df_module_params[\"code_split\"] = df_module_params[\"code\"].str.split(\".\")\n",
    "df_module_params[\"layer\"] = df_module_params[\"code_split\"].apply(lambda l: int(l[2]) if l[1] == \"h\" else -1)\n",
    "df_module_params[\"module\"] = df_module_params[\"code_split\"].apply(lambda l: l[3] if l[1] == \"h\" else l[1])\n",
    "df_module_params[\"sub_module\"] = df_module_params[\"module\"]\n",
    "df_module_params.loc[df_module_params[\"module\"].isin([\"attn\", \"mlp\"]), \"sub_module\"] \\\n",
    "    += df_module_params[\"code_split\"].loc[df_module_params[\"module\"].isin([\"attn\", \"mlp\"])].apply(lambda l: l[4])\n",
    "df_module_params.loc[df_module_params[\"sub_module\"] == \"ln_f\", \"layer\"] = 99\n",
    "df_module_params[\"w_or_b\"] = df_module_params[\"code_split\"].apply(lambda l: l[-1])\n"
   ]
  },
  {
   "cell_type": "code",
   "execution_count": 483,
   "metadata": {},
   "outputs": [
    {
     "data": {
      "text/html": [
       "<div>\n",
       "<style scoped>\n",
       "    .dataframe tbody tr th:only-of-type {\n",
       "        vertical-align: middle;\n",
       "    }\n",
       "\n",
       "    .dataframe tbody tr th {\n",
       "        vertical-align: top;\n",
       "    }\n",
       "\n",
       "    .dataframe thead th {\n",
       "        text-align: right;\n",
       "    }\n",
       "</style>\n",
       "<table border=\"1\" class=\"dataframe\">\n",
       "  <thead>\n",
       "    <tr style=\"text-align: right;\">\n",
       "      <th></th>\n",
       "      <th>sub_module</th>\n",
       "      <th>w_or_b</th>\n",
       "      <th>n_params</th>\n",
       "    </tr>\n",
       "  </thead>\n",
       "  <tbody>\n",
       "    <tr>\n",
       "      <th>0</th>\n",
       "      <td>wte</td>\n",
       "      <td>weight</td>\n",
       "      <td>38597376</td>\n",
       "    </tr>\n",
       "    <tr>\n",
       "      <th>1</th>\n",
       "      <td>wpe</td>\n",
       "      <td>weight</td>\n",
       "      <td>786432</td>\n",
       "    </tr>\n",
       "    <tr>\n",
       "      <th>2</th>\n",
       "      <td>ln_1</td>\n",
       "      <td>weight</td>\n",
       "      <td>768</td>\n",
       "    </tr>\n",
       "    <tr>\n",
       "      <th>3</th>\n",
       "      <td>ln_1</td>\n",
       "      <td>bias</td>\n",
       "      <td>768</td>\n",
       "    </tr>\n",
       "    <tr>\n",
       "      <th>4</th>\n",
       "      <td>attnc_attn</td>\n",
       "      <td>weight</td>\n",
       "      <td>1769472</td>\n",
       "    </tr>\n",
       "    <tr>\n",
       "      <th>5</th>\n",
       "      <td>attnc_attn</td>\n",
       "      <td>bias</td>\n",
       "      <td>2304</td>\n",
       "    </tr>\n",
       "    <tr>\n",
       "      <th>6</th>\n",
       "      <td>attnc_proj</td>\n",
       "      <td>weight</td>\n",
       "      <td>589824</td>\n",
       "    </tr>\n",
       "    <tr>\n",
       "      <th>7</th>\n",
       "      <td>attnc_proj</td>\n",
       "      <td>bias</td>\n",
       "      <td>768</td>\n",
       "    </tr>\n",
       "    <tr>\n",
       "      <th>8</th>\n",
       "      <td>ln_2</td>\n",
       "      <td>weight</td>\n",
       "      <td>768</td>\n",
       "    </tr>\n",
       "    <tr>\n",
       "      <th>9</th>\n",
       "      <td>ln_2</td>\n",
       "      <td>bias</td>\n",
       "      <td>768</td>\n",
       "    </tr>\n",
       "    <tr>\n",
       "      <th>10</th>\n",
       "      <td>mlpc_fc</td>\n",
       "      <td>weight</td>\n",
       "      <td>2359296</td>\n",
       "    </tr>\n",
       "    <tr>\n",
       "      <th>11</th>\n",
       "      <td>mlpc_fc</td>\n",
       "      <td>bias</td>\n",
       "      <td>3072</td>\n",
       "    </tr>\n",
       "    <tr>\n",
       "      <th>12</th>\n",
       "      <td>mlpc_proj</td>\n",
       "      <td>weight</td>\n",
       "      <td>2359296</td>\n",
       "    </tr>\n",
       "    <tr>\n",
       "      <th>13</th>\n",
       "      <td>mlpc_proj</td>\n",
       "      <td>bias</td>\n",
       "      <td>768</td>\n",
       "    </tr>\n",
       "    <tr>\n",
       "      <th>146</th>\n",
       "      <td>ln_f</td>\n",
       "      <td>weight</td>\n",
       "      <td>768</td>\n",
       "    </tr>\n",
       "    <tr>\n",
       "      <th>147</th>\n",
       "      <td>ln_f</td>\n",
       "      <td>bias</td>\n",
       "      <td>768</td>\n",
       "    </tr>\n",
       "  </tbody>\n",
       "</table>\n",
       "</div>"
      ],
      "text/plain": [
       "     sub_module  w_or_b  n_params\n",
       "0           wte  weight  38597376\n",
       "1           wpe  weight    786432\n",
       "2          ln_1  weight       768\n",
       "3          ln_1    bias       768\n",
       "4    attnc_attn  weight   1769472\n",
       "5    attnc_attn    bias      2304\n",
       "6    attnc_proj  weight    589824\n",
       "7    attnc_proj    bias       768\n",
       "8          ln_2  weight       768\n",
       "9          ln_2    bias       768\n",
       "10      mlpc_fc  weight   2359296\n",
       "11      mlpc_fc    bias      3072\n",
       "12    mlpc_proj  weight   2359296\n",
       "13    mlpc_proj    bias       768\n",
       "146        ln_f  weight       768\n",
       "147        ln_f    bias       768"
      ]
     },
     "execution_count": 483,
     "metadata": {},
     "output_type": "execute_result"
    }
   ],
   "source": [
    "df_module_params[['sub_module', 'w_or_b', 'n_params']].drop_duplicates()"
   ]
  },
  {
   "cell_type": "markdown",
   "metadata": {},
   "source": [
    "# Result"
   ]
  },
  {
   "cell_type": "markdown",
   "metadata": {},
   "source": [
    "### Avg diff group by layer and moudle"
   ]
  },
  {
   "cell_type": "code",
   "execution_count": 355,
   "metadata": {},
   "outputs": [],
   "source": [
    "# df_avg_diff_weights.loc[only_transformer_layers]\\\n",
    "#     .groupby([\"layer\", \"module\"])[['diff_v2']].describe()[[('diff_v2', 'mean'), ('diff_v2', 'std')]]\\\n",
    "#     .sort_values(by=[('diff_v2', 'mean'), ('diff_v2', 'std')]).unstack(-2)"
   ]
  },
  {
   "cell_type": "code",
   "execution_count": 356,
   "metadata": {},
   "outputs": [],
   "source": [
    "# df_avg_diff_weights.loc[~only_transformer_layers]\\\n",
    "#     .groupby([\"module\"])[['diff_v2']].describe()[[('diff_v2', 'mean'), ('diff_v2', 'std')]]\\\n",
    "#     .sort_values(by=[('diff_v2', 'mean'), ('diff_v2', 'std')])"
   ]
  },
  {
   "cell_type": "code",
   "execution_count": 484,
   "metadata": {},
   "outputs": [
    {
     "data": {
      "text/plain": [
       "<Axes: xlabel='layer', ylabel='diff_v2'>"
      ]
     },
     "execution_count": 484,
     "metadata": {},
     "output_type": "execute_result"
    },
    {
     "data": {
      "image/png": "[encoded data removed]",
      "text/plain": [
       "<Figure size 1500x500 with 1 Axes>"
      ]
     },
     "metadata": {},
     "output_type": "display_data"
    }
   ],
   "source": [
    "plt.rcParams[\"figure.figsize\"] = (15,5)\n",
    "\n",
    "sns.barplot(\n",
    "    df_avg_diff_weights.loc[\n",
    "        (df_avg_diff_weights.w_or_b == 'weight')\n",
    "        & ~(df_avg_diff_weights.layer.isin([ -1, 99]))  \n",
    "#         & (df_avg_diff_weights.dataset == 'cs_l1')\n",
    "    ], \n",
    "    x='layer', hue='module', y='diff_v2'\n",
    "#     , errorbar='se'\n",
    ")"
   ]
  },
  {
   "cell_type": "code",
   "execution_count": 485,
   "metadata": {},
   "outputs": [
    {
     "data": {
      "text/plain": [
       "<Axes: xlabel='layer', ylabel='diff_v2'>"
      ]
     },
     "execution_count": 485,
     "metadata": {},
     "output_type": "execute_result"
    },
    {
     "data": {
      "image/png": "[encoded data removed]",
      "text/plain": [
       "<Figure size 500x500 with 1 Axes>"
      ]
     },
     "metadata": {},
     "output_type": "display_data"
    }
   ],
   "source": [
    "plt.rcParams[\"figure.figsize\"] = (5,5)\n",
    "\n",
    "sns.barplot(\n",
    "    df_avg_diff_weights.loc[\n",
    "        (df_avg_diff_weights.layer.isin([ -1, 99])) \n",
    "        & (df_avg_diff_weights.w_or_b == 'weight')\n",
    "#         & (df_avg_diff_weights.dataset == 'cs_l1')\n",
    "    ], \n",
    "    x='layer', hue='module', y='diff_v2', estimator=\"mean\"\n",
    "#     , errorbar='se'\n",
    ")"
   ]
  },
  {
   "cell_type": "markdown",
   "metadata": {},
   "source": [
    "### Avg diff group by layer and sub_module"
   ]
  },
  {
   "cell_type": "code",
   "execution_count": 486,
   "metadata": {},
   "outputs": [
    {
     "data": {
      "text/plain": [
       "<Axes: xlabel='layer', ylabel='diff'>"
      ]
     },
     "execution_count": 486,
     "metadata": {},
     "output_type": "execute_result"
    },
    {
     "data": {
      "image/png": "[encoded data removed]",
      "text/plain": [
       "<Figure size 1500x500 with 1 Axes>"
      ]
     },
     "metadata": {},
     "output_type": "display_data"
    }
   ],
   "source": [
    "plt.rcParams[\"figure.figsize\"] = (15,5)\n",
    "\n",
    "sns.barplot(df_avg_diff_weights.loc[only_transformer_layers & (df_avg_diff_weights.w_or_b == 'weight')], x='layer', hue='sub_module', y='diff')"
   ]
  },
  {
   "cell_type": "markdown",
   "metadata": {},
   "source": [
    "### Top 10 of avg diff group by layer and (module or sub_module)"
   ]
  },
  {
   "cell_type": "code",
   "execution_count": 508,
   "metadata": {},
   "outputs": [
    {
     "data": {
      "text/html": [
       "<div>\n",
       "<style scoped>\n",
       "    .dataframe tbody tr th:only-of-type {\n",
       "        vertical-align: middle;\n",
       "    }\n",
       "\n",
       "    .dataframe tbody tr th {\n",
       "        vertical-align: top;\n",
       "    }\n",
       "\n",
       "    .dataframe thead th {\n",
       "        text-align: right;\n",
       "    }\n",
       "</style>\n",
       "<table border=\"1\" class=\"dataframe\">\n",
       "  <thead>\n",
       "    <tr style=\"text-align: right;\">\n",
       "      <th></th>\n",
       "      <th></th>\n",
       "      <th>diff_v2</th>\n",
       "      <th>diff</th>\n",
       "    </tr>\n",
       "    <tr>\n",
       "      <th>module</th>\n",
       "      <th>layer</th>\n",
       "      <th></th>\n",
       "      <th></th>\n",
       "    </tr>\n",
       "  </thead>\n",
       "  <tbody>\n",
       "    <tr>\n",
       "      <th>ln_f</th>\n",
       "      <th>99</th>\n",
       "      <td>0.900961</td>\n",
       "      <td>0.037451</td>\n",
       "    </tr>\n",
       "    <tr>\n",
       "      <th>ln_2</th>\n",
       "      <th>11</th>\n",
       "      <td>0.777260</td>\n",
       "      <td>0.032868</td>\n",
       "    </tr>\n",
       "    <tr>\n",
       "      <th>ln_1</th>\n",
       "      <th>0</th>\n",
       "      <td>0.578404</td>\n",
       "      <td>0.024782</td>\n",
       "    </tr>\n",
       "    <tr>\n",
       "      <th>wte</th>\n",
       "      <th>-1</th>\n",
       "      <td>0.532866</td>\n",
       "      <td>0.023607</td>\n",
       "    </tr>\n",
       "    <tr>\n",
       "      <th>attn</th>\n",
       "      <th>0</th>\n",
       "      <td>0.411935</td>\n",
       "      <td>0.017344</td>\n",
       "    </tr>\n",
       "    <tr>\n",
       "      <th>mlp</th>\n",
       "      <th>11</th>\n",
       "      <td>0.411391</td>\n",
       "      <td>0.017304</td>\n",
       "    </tr>\n",
       "    <tr>\n",
       "      <th>ln_2</th>\n",
       "      <th>0</th>\n",
       "      <td>0.379362</td>\n",
       "      <td>0.015608</td>\n",
       "    </tr>\n",
       "    <tr>\n",
       "      <th>mlp</th>\n",
       "      <th>10</th>\n",
       "      <td>0.371032</td>\n",
       "      <td>0.015598</td>\n",
       "    </tr>\n",
       "    <tr>\n",
       "      <th rowspan=\"2\" valign=\"top\">ln_1</th>\n",
       "      <th>5</th>\n",
       "      <td>0.358434</td>\n",
       "      <td>0.016826</td>\n",
       "    </tr>\n",
       "    <tr>\n",
       "      <th>2</th>\n",
       "      <td>0.340161</td>\n",
       "      <td>0.014701</td>\n",
       "    </tr>\n",
       "  </tbody>\n",
       "</table>\n",
       "</div>"
      ],
      "text/plain": [
       "               diff_v2      diff\n",
       "module layer                    \n",
       "ln_f    99    0.900961  0.037451\n",
       "ln_2    11    0.777260  0.032868\n",
       "ln_1    0     0.578404  0.024782\n",
       "wte    -1     0.532866  0.023607\n",
       "attn    0     0.411935  0.017344\n",
       "mlp     11    0.411391  0.017304\n",
       "ln_2    0     0.379362  0.015608\n",
       "mlp     10    0.371032  0.015598\n",
       "ln_1    5     0.358434  0.016826\n",
       "        2     0.340161  0.014701"
      ]
     },
     "execution_count": 508,
     "metadata": {},
     "output_type": "execute_result"
    }
   ],
   "source": [
    "df_avg_diff_weights.groupby([\"module\", \"layer\"])[[\"diff_v2\", \"diff\"]].mean()\\\n",
    "    .sort_values(\"diff_v2\", ascending=False).head(10)"
   ]
  },
  {
   "cell_type": "code",
   "execution_count": 509,
   "metadata": {},
   "outputs": [
    {
     "data": {
      "text/html": [
       "<div>\n",
       "<style scoped>\n",
       "    .dataframe tbody tr th:only-of-type {\n",
       "        vertical-align: middle;\n",
       "    }\n",
       "\n",
       "    .dataframe tbody tr th {\n",
       "        vertical-align: top;\n",
       "    }\n",
       "\n",
       "    .dataframe thead th {\n",
       "        text-align: right;\n",
       "    }\n",
       "</style>\n",
       "<table border=\"1\" class=\"dataframe\">\n",
       "  <thead>\n",
       "    <tr style=\"text-align: right;\">\n",
       "      <th></th>\n",
       "      <th></th>\n",
       "      <th>diff_v2</th>\n",
       "    </tr>\n",
       "    <tr>\n",
       "      <th>sub_module</th>\n",
       "      <th>layer</th>\n",
       "      <th></th>\n",
       "    </tr>\n",
       "  </thead>\n",
       "  <tbody>\n",
       "    <tr>\n",
       "      <th>ln_f</th>\n",
       "      <th>99</th>\n",
       "      <td>0.900961</td>\n",
       "    </tr>\n",
       "    <tr>\n",
       "      <th>attnc_attn_Q</th>\n",
       "      <th>0</th>\n",
       "      <td>0.819611</td>\n",
       "    </tr>\n",
       "    <tr>\n",
       "      <th>ln_2</th>\n",
       "      <th>11</th>\n",
       "      <td>0.777260</td>\n",
       "    </tr>\n",
       "    <tr>\n",
       "      <th>ln_1</th>\n",
       "      <th>0</th>\n",
       "      <td>0.578404</td>\n",
       "    </tr>\n",
       "    <tr>\n",
       "      <th>wte</th>\n",
       "      <th>-1</th>\n",
       "      <td>0.532866</td>\n",
       "    </tr>\n",
       "    <tr>\n",
       "      <th>mlpc_proj</th>\n",
       "      <th>11</th>\n",
       "      <td>0.439580</td>\n",
       "    </tr>\n",
       "    <tr>\n",
       "      <th rowspan=\"2\" valign=\"top\">attnc_attn_Q</th>\n",
       "      <th>2</th>\n",
       "      <td>0.405000</td>\n",
       "    </tr>\n",
       "    <tr>\n",
       "      <th>1</th>\n",
       "      <td>0.387060</td>\n",
       "    </tr>\n",
       "    <tr>\n",
       "      <th>attnc_attn_V</th>\n",
       "      <th>11</th>\n",
       "      <td>0.384592</td>\n",
       "    </tr>\n",
       "    <tr>\n",
       "      <th>mlpc_fc</th>\n",
       "      <th>11</th>\n",
       "      <td>0.383201</td>\n",
       "    </tr>\n",
       "  </tbody>\n",
       "</table>\n",
       "</div>"
      ],
      "text/plain": [
       "                     diff_v2\n",
       "sub_module   layer          \n",
       "ln_f          99    0.900961\n",
       "attnc_attn_Q  0     0.819611\n",
       "ln_2          11    0.777260\n",
       "ln_1          0     0.578404\n",
       "wte          -1     0.532866\n",
       "mlpc_proj     11    0.439580\n",
       "attnc_attn_Q  2     0.405000\n",
       "              1     0.387060\n",
       "attnc_attn_V  11    0.384592\n",
       "mlpc_fc       11    0.383201"
      ]
     },
     "execution_count": 509,
     "metadata": {},
     "output_type": "execute_result"
    }
   ],
   "source": [
    "df_avg_diff_weights.groupby([\"sub_module\", \"layer\"])[[\"diff_v2\"]].mean()\\\n",
    "    .sort_values(\"diff_v2\", ascending=False).head(10)"
   ]
  }
 ],
 "metadata": {
  "kernelspec": {
   "display_name": "Python [conda env:test1]",
   "language": "python",
   "name": "conda-env-test1-py"
  },
  "language_info": {
   "codemirror_mode": {
    "name": "ipython",
    "version": 3
   },
   "file_extension": ".py",
   "mimetype": "text/x-python",
   "name": "python",
   "nbconvert_exporter": "python",
   "pygments_lexer": "ipython3",
   "version": "3.9.16"
  }
 },
 "nbformat": 4,
 "nbformat_minor": 2
}
