{
 "cells": [
  {
   "cell_type": "code",
   "execution_count": 1,
   "id": "06c8bb51-f228-4fbc-a3ab-29c11d351833",
   "metadata": {
    "tags": []
   },
   "outputs": [],
   "source": [
    "import datasets"
   ]
  },
  {
   "cell_type": "code",
   "execution_count": null,
   "id": "9078cd9a-5717-4226-bb8f-7603d48bb612",
   "metadata": {
    "tags": []
   },
   "outputs": [
    {
     "name": "stdout",
     "output_type": "stream",
     "text": [
      "Downloading and preparing dataset m2d2/cs_l1 to /Users/joon/.cache/huggingface/datasets/machelreid___m2d2/cs_l1/0.0.0/eb235f33a5de3163c10549b7f63c906910539c8a8c0ec5ade1285ccbf5067d00...\n"
     ]
    },
    {
     "data": {
      "application/vnd.jupyter.widget-view+json": {
       "model_id": "e2b549b6002b4d8ea21773fcf494763a",
       "version_major": 2,
       "version_minor": 0
      },
      "text/plain": [
       "Downloading data:   0%|          | 0.00/3.55G [00:00<?, ?B/s]"
      ]
     },
     "metadata": {},
     "output_type": "display_data"
    }
   ],
   "source": [
    "dataset = datasets.load_dataset(\"machelreid/m2d2\", \"cs_l1\")\n"
   ]
  },
  {
   "cell_type": "code",
   "execution_count": null,
   "id": "a3ee4a07-be6a-4511-9cdd-74c3f7f19a5b",
   "metadata": {
    "tags": []
   },
   "outputs": [],
   "source": [
    "import pandas as pd"
   ]
  },
  {
   "cell_type": "code",
   "execution_count": null,
   "id": "c215254f-afd1-49c9-850c-b4660e4d603b",
   "metadata": {
    "tags": []
   },
   "outputs": [],
   "source": [
    "pd.Series(dataset['train']['text']).to_csv('train.txt')\n"
   ]
  },
  {
   "cell_type": "code",
   "execution_count": null,
   "id": "18a428ce-7b34-451a-ad1c-7e669ee96c10",
   "metadata": {
    "tags": []
   },
   "outputs": [],
   "source": [
    "pd.Series(dataset['validation']['text']).to_csv('validation.txt')\n"
   ]
  },
  {
   "cell_type": "code",
   "execution_count": null,
   "id": "f307edca-9726-4caa-98f7-6b3ab91bd9d7",
   "metadata": {
    "tags": []
   },
   "outputs": [],
   "source": [
    "pd.Series(dataset['test']['text']).to_csv('test.txt')\n"
   ]
  }
 ],
 "metadata": {
  "kernelspec": {
   "display_name": "Python 3 (ipykernel)",
   "language": "python",
   "name": "python3"
  },
  "language_info": {
   "codemirror_mode": {
    "name": "ipython",
    "version": 3
   },
   "file_extension": ".py",
   "mimetype": "text/x-python",
   "name": "python",
   "nbconvert_exporter": "python",
   "pygments_lexer": "ipython3",
   "version": "3.10.10"
  }
 },
 "nbformat": 4,
 "nbformat_minor": 5
}
