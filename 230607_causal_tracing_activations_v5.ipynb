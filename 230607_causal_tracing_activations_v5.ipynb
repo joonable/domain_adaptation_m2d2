{
 "cells": [
  {
   "cell_type": "markdown",
   "metadata": {},
   "source": [
    "# 230518_causal_tracing_activations_v4\n"
   ]
  },
  {
   "cell_type": "markdown",
   "metadata": {},
   "source": [
    "# Import libraries"
   ]
  },
  {
   "cell_type": "code",
   "execution_count": 1,
   "metadata": {},
   "outputs": [
    {
     "name": "stderr",
     "output_type": "stream",
     "text": [
      "/rds/general/user/jj1122/home/anaconda3/envs/m2d2/lib/python3.10/site-packages/tqdm/auto.py:21: TqdmWarning: IProgress not found. Please update jupyter and ipywidgets. See https://ipywidgets.readthedocs.io/en/stable/user_install.html\n",
      "  from .autonotebook import tqdm as notebook_tqdm\n"
     ]
    }
   ],
   "source": [
    "from transformers import GPT2LMHeadModel, GPT2TokenizerFast, GPT2Tokenizer, set_seed\n",
    "from datasets import load_dataset\n",
    "from tqdm import tqdm\n",
    "import json\n",
    "import torch\n",
    "import argparse\n",
    "import datasets\n",
    "import numpy as np\n",
    "import seaborn as sns\n",
    "import pandas as pd\n",
    "import matplotlib.pylab as plt"
   ]
  },
  {
   "cell_type": "markdown",
   "metadata": {},
   "source": [
    "# Config"
   ]
  },
  {
   "cell_type": "code",
   "execution_count": 2,
   "metadata": {},
   "outputs": [],
   "source": [
    "torch.manual_seed(718)\n",
    "set_seed(718)"
   ]
  },
  {
   "cell_type": "code",
   "execution_count": 3,
   "metadata": {},
   "outputs": [],
   "source": [
    "# ROME\n",
    "# - localisation: pre-trained LM을 대상으로 지식 정보가 담겨있는 모듈을 찾아냄\n",
    "# - ROME: 해당 부분에 적합한 \n",
    "\n",
    "# 내가 만들고 싶은 model editing은 fine-tuning을 대체할 수 있는 방법이었음"
   ]
  },
  {
   "cell_type": "code",
   "execution_count": 21,
   "metadata": {},
   "outputs": [],
   "source": [
    "dataset_nm = \"Religion_and_belief_systems\"\n",
    "# dataset_path = f\"../m2d2/dataset/{dataset_nm}/train.txt\"\n",
    "cache_dir=\"/rds/general/user/jj1122/ephemeral/.cache/huggingface\""
   ]
  },
  {
   "cell_type": "code",
   "execution_count": 18,
   "metadata": {},
   "outputs": [],
   "source": [
    "device_id = 'cuda'\n",
    "tuned_model_path = \"/rds/general/user/jj1122/home/projects/m2d2/dataset/Religion_and_belief_systems/models\"\n",
    "n_layers = 12\n",
    "list_modules = ['attn', 'mlp']\n",
    "trace_module_id = \"transformer.h.{l}.{m}\""
   ]
  },
  {
   "cell_type": "code",
   "execution_count": 19,
   "metadata": {},
   "outputs": [
    {
     "name": "stdout",
     "output_type": "stream",
     "text": [
      "['transformer.h.0.attn', 'transformer.h.0.mlp', 'transformer.h.1.attn']\n"
     ]
    }
   ],
   "source": [
    "list_trace_module_ids = []\n",
    "\n",
    "for l in range(n_layers):\n",
    "    for m in list_modules:\n",
    "        list_trace_module_ids.append(trace_module_id.format(l=l, m=m))\n",
    "\n",
    "print(list_trace_module_ids[:3])"
   ]
  },
  {
   "cell_type": "markdown",
   "metadata": {},
   "source": [
    "# Model"
   ]
  },
  {
   "cell_type": "markdown",
   "metadata": {},
   "source": [
    "## load models"
   ]
  },
  {
   "cell_type": "code",
   "execution_count": 23,
   "metadata": {},
   "outputs": [],
   "source": [
    "base_model = GPT2LMHeadModel.from_pretrained(\"gpt2\", cache_dir=cache_dir).to(device_id)\n",
    "gpt2_tokenizer = GPT2Tokenizer.from_pretrained(tuned_model_path)\n",
    "tuned_model = GPT2LMHeadModel.from_pretrained(tuned_model_path).to(device_id)"
   ]
  },
  {
   "cell_type": "code",
   "execution_count": null,
   "metadata": {},
   "outputs": [],
   "source": [
    "# base_model = GPT2LMHeadModel.from_pretrained(\"gpt2\").to(device_id)\n",
    "# tuned_model = GPT2LMHeadModel.from_pretrained(tuned_model_path).to(device_id)"
   ]
  },
  {
   "cell_type": "code",
   "execution_count": null,
   "metadata": {},
   "outputs": [],
   "source": [
    "# diff_weights = {}\n",
    "# for tuned_tup, base_tup in zip(list(tuned_model.named_parameters()), list(base_model.named_parameters())):\n",
    "#     diff_weights[tuned_tup[0]] = torch.abs(tuned_tup[1] - base_tup[1]).mean().item()\n",
    "    \n",
    "# diff_weights"
   ]
  },
  {
   "cell_type": "markdown",
   "metadata": {},
   "source": [
    "# Data"
   ]
  },
  {
   "cell_type": "code",
   "execution_count": 22,
   "metadata": {},
   "outputs": [
    {
     "name": "stderr",
     "output_type": "stream",
     "text": [
      "Found cached dataset m2d2 (/rds/general/user/jj1122/ephemeral/.cache/huggingface/machelreid___m2d2/Religion_and_belief_systems/0.0.0/eb235f33a5de3163c10549b7f63c906910539c8a8c0ec5ade1285ccbf5067d00)\n",
      "100%|██████████| 3/3 [00:00<00:00, 229.65it/s]\n"
     ]
    }
   ],
   "source": [
    "dataset = load_dataset(\"machelreid/m2d2\", dataset_nm, cache_dir=cache_dir)"
   ]
  },
  {
   "cell_type": "code",
   "execution_count": null,
   "metadata": {},
   "outputs": [],
   "source": [
    "# np.random.seed(718)\n",
    "\n",
    "# x = 10 * np.random.randint(100000)\n",
    "\n",
    "# dataset['train']['text'][x:x+10]"
   ]
  },
  {
   "cell_type": "code",
   "execution_count": null,
   "metadata": {},
   "outputs": [],
   "source": [
    "# # input_text = \"He was a religious scholar and a prolific writer. Many of his works are used as references for church members\"\n",
    "\n",
    "# # input_text = \"In popular and media culture, Anubis is often falsely portrayed as the sinister god of the dead\"\n",
    "\n",
    "# # input_text = \"Ankou appears as a man or skeleton wearing a black robe and a large hat which conceals his face, or, on occasion, simply as a shadow\"\n",
    "\n",
    "# # input_text = \"Zechariah's vision of recently deceased Joshua the High Priest depicts a dispute in the heavenly throne room between Satan and the Angel of the Lord\"\n",
    "\n",
    "# input_text = \"The Transcendental Argument for the Existence of God (TAG) is the argument that attempts to prove the existence of God by arguing that logic, morals, and science ultimately presuppose a supreme being and that God must therefore be the source of logic and morals\"\n"
   ]
  },
  {
   "cell_type": "code",
   "execution_count": 24,
   "metadata": {},
   "outputs": [],
   "source": [
    "list_test_data = [x for x in dataset['test']['text'].copy() if x!=''] "
   ]
  },
  {
   "cell_type": "code",
   "execution_count": 25,
   "metadata": {},
   "outputs": [],
   "source": [
    "def load_model():\n",
    "    return GPT2LMHeadModel.from_pretrained(tuned_model_path).to(device_id)"
   ]
  },
  {
   "cell_type": "code",
   "execution_count": 26,
   "metadata": {},
   "outputs": [],
   "source": [
    "def save_clean_activation(m_id):\n",
    "    def save_clean_activation_hook(module, _input, _output):\n",
    "#         print(m_id, _output.shape)\n",
    "        if m_id.endswith('attn'):\n",
    "            clean_activations[m_id] = _output[0].detach()\n",
    "        elif m_id.endswith('mlp'):\n",
    "#         else:\n",
    "            clean_activations[m_id] = _output.detach()\n",
    "    return save_clean_activation_hook\n",
    "\n",
    "\n",
    "def corrupt_input_vector(module, _input):#, _output):\n",
    "    torch.manual_seed(718)\n",
    "    std = torch.std(_input[0])\n",
    "    return tuple([_input[0] + (std*1.5) * torch.randn(_input[0].shape).to(device_id), ])\n",
    "\n",
    "def restore_activation(m_id):\n",
    "    def restore_activation_hook(module, _input, _output):\n",
    "        clean_activation = clean_activations[m_id]#[:, t]\n",
    "        if m_id.endswith('attn'):\n",
    "#             corrupted_activation = _output[0].detach()\n",
    "#             base_output[:, t] = tuned_output\n",
    "#             corrupted_activation = clean_activation\n",
    "            return tuple([clean_activation, tuple([_output[1][0], _output[1][1]])])\n",
    "        elif m_id.endswith('mlp'):           \n",
    "            base_output = _output.detach()\n",
    "#             base_output[:, t] = tuned_output\n",
    "            base_output = clean_activation\n",
    "            return base_output\n",
    "    return restore_activation_hook"
   ]
  },
  {
   "cell_type": "code",
   "execution_count": null,
   "metadata": {},
   "outputs": [],
   "source": [
    "def restore_activation(m_id):\n",
    "    def restore_activation_hook(module, _input, _output):\n",
    "        clean_activation = clean_activations[m_id]\n",
    "        if m_id.endswith('attn'):\n",
    "            return tuple([clean_activation, tuple([_output[1][0], _output[1][1]])])\n",
    "        elif m_id.endswith('mlp'):           \n",
    "            base_output = _output.detach()\n",
    "            base_output = clean_activation\n",
    "            return base_output\n",
    "    return restore_activation_hook"
   ]
  },
  {
   "cell_type": "code",
   "execution_count": 27,
   "metadata": {},
   "outputs": [],
   "source": [
    "def corrupt_input_vector(module, _input):#, _output):\n",
    "    torch.manual_seed(718)\n",
    "    std = torch.std(_input[0])\n",
    "    return tuple([_input[0] + (std*1.5) * torch.randn(_input[0].shape).to(device_id), ])"
   ]
  },
  {
   "cell_type": "code",
   "execution_count": 28,
   "metadata": {},
   "outputs": [],
   "source": [
    "def restore_activation(m_id):\n",
    "    def restore_activation_hook(module, _input, _output):\n",
    "        clean_activation = clean_activations[m_id]#[:, t]\n",
    "        if m_id.endswith('attn'):\n",
    "#             corrupted_activation = _output[0].detach()\n",
    "#             base_output[:, t] = tuned_output\n",
    "#             corrupted_activation = clean_activation\n",
    "            return tuple([clean_activation, tuple([_output[1][0], _output[1][1]])])\n",
    "        elif m_id.endswith('mlp'):           \n",
    "            base_output = _output.detach()\n",
    "#             base_output[:, t] = tuned_output\n",
    "            base_output = clean_activation\n",
    "            return base_output\n",
    "    return restore_activation_hook"
   ]
  },
  {
   "cell_type": "code",
   "execution_count": null,
   "metadata": {},
   "outputs": [],
   "source": []
  },
  {
   "cell_type": "markdown",
   "metadata": {},
   "source": [
    "## 10:45"
   ]
  },
  {
   "cell_type": "code",
   "execution_count": 30,
   "metadata": {},
   "outputs": [
    {
     "name": "stdout",
     "output_type": "stream",
     "text": [
      "input_idx: 0\n",
      "input_idx: 1000\n",
      "input_idx: 2000\n",
      "input_idx: 3000\n"
     ]
    },
    {
     "ename": "KeyboardInterrupt",
     "evalue": "",
     "output_type": "error",
     "traceback": [
      "\u001b[0;31m---------------------------------------------------------------------------\u001b[0m",
      "\u001b[0;31mKeyboardInterrupt\u001b[0m                         Traceback (most recent call last)",
      "Cell \u001b[0;32mIn[30], line 30\u001b[0m\n\u001b[1;32m     27\u001b[0m     clean_loss \u001b[38;5;241m=\u001b[39m np\u001b[38;5;241m.\u001b[39mexp(clean_outputs\u001b[38;5;241m.\u001b[39mloss\u001b[38;5;241m.\u001b[39mitem())\n\u001b[1;32m     29\u001b[0m \u001b[38;5;66;03m# Second run: corrupted run    \u001b[39;00m\n\u001b[0;32m---> 30\u001b[0m tuned_model \u001b[38;5;241m=\u001b[39m \u001b[43mload_model\u001b[49m\u001b[43m(\u001b[49m\u001b[43m)\u001b[49m\n\u001b[1;32m     31\u001b[0m tuned_model\u001b[38;5;241m.\u001b[39mget_submodule(\u001b[38;5;124m\"\u001b[39m\u001b[38;5;124mtransformer.h.0.attn\u001b[39m\u001b[38;5;124m\"\u001b[39m)\u001b[38;5;241m.\u001b[39mregister_forward_pre_hook(corrupt_input_vector)    \n\u001b[1;32m     32\u001b[0m \u001b[38;5;28;01mwith\u001b[39;00m torch\u001b[38;5;241m.\u001b[39mno_grad():\n",
      "Cell \u001b[0;32mIn[25], line 2\u001b[0m, in \u001b[0;36mload_model\u001b[0;34m()\u001b[0m\n\u001b[1;32m      1\u001b[0m \u001b[38;5;28;01mdef\u001b[39;00m \u001b[38;5;21mload_model\u001b[39m():\n\u001b[0;32m----> 2\u001b[0m     \u001b[38;5;28;01mreturn\u001b[39;00m \u001b[43mGPT2LMHeadModel\u001b[49m\u001b[38;5;241;43m.\u001b[39;49m\u001b[43mfrom_pretrained\u001b[49m\u001b[43m(\u001b[49m\u001b[43mtuned_model_path\u001b[49m\u001b[43m)\u001b[49m\u001b[38;5;241m.\u001b[39mto(device_id)\n",
      "File \u001b[0;32m~/projects/m2d2/transformers/src/transformers/modeling_utils.py:2619\u001b[0m, in \u001b[0;36mPreTrainedModel.from_pretrained\u001b[0;34m(cls, pretrained_model_name_or_path, *model_args, **kwargs)\u001b[0m\n\u001b[1;32m   2616\u001b[0m     init_contexts\u001b[38;5;241m.\u001b[39mappend(init_empty_weights())\n\u001b[1;32m   2618\u001b[0m \u001b[38;5;28;01mwith\u001b[39;00m ContextManagers(init_contexts):\n\u001b[0;32m-> 2619\u001b[0m     model \u001b[38;5;241m=\u001b[39m \u001b[38;5;28;43mcls\u001b[39;49m\u001b[43m(\u001b[49m\u001b[43mconfig\u001b[49m\u001b[43m,\u001b[49m\u001b[43m \u001b[49m\u001b[38;5;241;43m*\u001b[39;49m\u001b[43mmodel_args\u001b[49m\u001b[43m,\u001b[49m\u001b[43m \u001b[49m\u001b[38;5;241;43m*\u001b[39;49m\u001b[38;5;241;43m*\u001b[39;49m\u001b[43mmodel_kwargs\u001b[49m\u001b[43m)\u001b[49m\n\u001b[1;32m   2621\u001b[0m \u001b[38;5;66;03m# Check first if we are `from_pt`\u001b[39;00m\n\u001b[1;32m   2622\u001b[0m \u001b[38;5;28;01mif\u001b[39;00m use_keep_in_fp32_modules:\n",
      "File \u001b[0;32m~/projects/m2d2/transformers/src/transformers/models/gpt2/modeling_gpt2.py:962\u001b[0m, in \u001b[0;36mGPT2LMHeadModel.__init__\u001b[0;34m(self, config)\u001b[0m\n\u001b[1;32m    960\u001b[0m \u001b[38;5;28msuper\u001b[39m()\u001b[38;5;241m.\u001b[39m\u001b[38;5;21m__init__\u001b[39m(config)\n\u001b[1;32m    961\u001b[0m \u001b[38;5;28mself\u001b[39m\u001b[38;5;241m.\u001b[39mtransformer \u001b[38;5;241m=\u001b[39m GPT2Model(config)\n\u001b[0;32m--> 962\u001b[0m \u001b[38;5;28mself\u001b[39m\u001b[38;5;241m.\u001b[39mlm_head \u001b[38;5;241m=\u001b[39m \u001b[43mnn\u001b[49m\u001b[38;5;241;43m.\u001b[39;49m\u001b[43mLinear\u001b[49m\u001b[43m(\u001b[49m\u001b[43mconfig\u001b[49m\u001b[38;5;241;43m.\u001b[39;49m\u001b[43mn_embd\u001b[49m\u001b[43m,\u001b[49m\u001b[43m \u001b[49m\u001b[43mconfig\u001b[49m\u001b[38;5;241;43m.\u001b[39;49m\u001b[43mvocab_size\u001b[49m\u001b[43m,\u001b[49m\u001b[43m \u001b[49m\u001b[43mbias\u001b[49m\u001b[38;5;241;43m=\u001b[39;49m\u001b[38;5;28;43;01mFalse\u001b[39;49;00m\u001b[43m)\u001b[49m\n\u001b[1;32m    964\u001b[0m \u001b[38;5;66;03m# Model parallel\u001b[39;00m\n\u001b[1;32m    965\u001b[0m \u001b[38;5;28mself\u001b[39m\u001b[38;5;241m.\u001b[39mmodel_parallel \u001b[38;5;241m=\u001b[39m \u001b[38;5;28;01mFalse\u001b[39;00m\n",
      "File \u001b[0;32m~/anaconda3/envs/m2d2/lib/python3.10/site-packages/torch/nn/modules/linear.py:101\u001b[0m, in \u001b[0;36mLinear.__init__\u001b[0;34m(self, in_features, out_features, bias, device, dtype)\u001b[0m\n\u001b[1;32m     99\u001b[0m \u001b[38;5;28;01melse\u001b[39;00m:\n\u001b[1;32m    100\u001b[0m     \u001b[38;5;28mself\u001b[39m\u001b[38;5;241m.\u001b[39mregister_parameter(\u001b[38;5;124m'\u001b[39m\u001b[38;5;124mbias\u001b[39m\u001b[38;5;124m'\u001b[39m, \u001b[38;5;28;01mNone\u001b[39;00m)\n\u001b[0;32m--> 101\u001b[0m \u001b[38;5;28;43mself\u001b[39;49m\u001b[38;5;241;43m.\u001b[39;49m\u001b[43mreset_parameters\u001b[49m\u001b[43m(\u001b[49m\u001b[43m)\u001b[49m\n",
      "File \u001b[0;32m~/anaconda3/envs/m2d2/lib/python3.10/site-packages/torch/nn/modules/linear.py:107\u001b[0m, in \u001b[0;36mLinear.reset_parameters\u001b[0;34m(self)\u001b[0m\n\u001b[1;32m    103\u001b[0m \u001b[38;5;28;01mdef\u001b[39;00m \u001b[38;5;21mreset_parameters\u001b[39m(\u001b[38;5;28mself\u001b[39m) \u001b[38;5;241m-\u001b[39m\u001b[38;5;241m>\u001b[39m \u001b[38;5;28;01mNone\u001b[39;00m:\n\u001b[1;32m    104\u001b[0m     \u001b[38;5;66;03m# Setting a=sqrt(5) in kaiming_uniform is the same as initializing with\u001b[39;00m\n\u001b[1;32m    105\u001b[0m     \u001b[38;5;66;03m# uniform(-1/sqrt(in_features), 1/sqrt(in_features)). For details, see\u001b[39;00m\n\u001b[1;32m    106\u001b[0m     \u001b[38;5;66;03m# https://github.com/pytorch/pytorch/issues/57109\u001b[39;00m\n\u001b[0;32m--> 107\u001b[0m     \u001b[43minit\u001b[49m\u001b[38;5;241;43m.\u001b[39;49m\u001b[43mkaiming_uniform_\u001b[49m\u001b[43m(\u001b[49m\u001b[38;5;28;43mself\u001b[39;49m\u001b[38;5;241;43m.\u001b[39;49m\u001b[43mweight\u001b[49m\u001b[43m,\u001b[49m\u001b[43m \u001b[49m\u001b[43ma\u001b[49m\u001b[38;5;241;43m=\u001b[39;49m\u001b[43mmath\u001b[49m\u001b[38;5;241;43m.\u001b[39;49m\u001b[43msqrt\u001b[49m\u001b[43m(\u001b[49m\u001b[38;5;241;43m5\u001b[39;49m\u001b[43m)\u001b[49m\u001b[43m)\u001b[49m\n\u001b[1;32m    108\u001b[0m     \u001b[38;5;28;01mif\u001b[39;00m \u001b[38;5;28mself\u001b[39m\u001b[38;5;241m.\u001b[39mbias \u001b[38;5;129;01mis\u001b[39;00m \u001b[38;5;129;01mnot\u001b[39;00m \u001b[38;5;28;01mNone\u001b[39;00m:\n\u001b[1;32m    109\u001b[0m         fan_in, _ \u001b[38;5;241m=\u001b[39m init\u001b[38;5;241m.\u001b[39m_calculate_fan_in_and_fan_out(\u001b[38;5;28mself\u001b[39m\u001b[38;5;241m.\u001b[39mweight)\n",
      "File \u001b[0;32m~/anaconda3/envs/m2d2/lib/python3.10/site-packages/torch/nn/init.py:412\u001b[0m, in \u001b[0;36mkaiming_uniform_\u001b[0;34m(tensor, a, mode, nonlinearity)\u001b[0m\n\u001b[1;32m    410\u001b[0m bound \u001b[38;5;241m=\u001b[39m math\u001b[38;5;241m.\u001b[39msqrt(\u001b[38;5;241m3.0\u001b[39m) \u001b[38;5;241m*\u001b[39m std  \u001b[38;5;66;03m# Calculate uniform bounds from standard deviation\u001b[39;00m\n\u001b[1;32m    411\u001b[0m \u001b[38;5;28;01mwith\u001b[39;00m torch\u001b[38;5;241m.\u001b[39mno_grad():\n\u001b[0;32m--> 412\u001b[0m     \u001b[38;5;28;01mreturn\u001b[39;00m \u001b[43mtensor\u001b[49m\u001b[38;5;241;43m.\u001b[39;49m\u001b[43muniform_\u001b[49m\u001b[43m(\u001b[49m\u001b[38;5;241;43m-\u001b[39;49m\u001b[43mbound\u001b[49m\u001b[43m,\u001b[49m\u001b[43m \u001b[49m\u001b[43mbound\u001b[49m\u001b[43m)\u001b[49m\n",
      "\u001b[0;31mKeyboardInterrupt\u001b[0m: "
     ]
    }
   ],
   "source": [
    "list_results = [{} for x in range(len(list_test_data)) if x != \"\"]\n",
    "\n",
    "for input_idx, input_text in enumerate(list_test_data):\n",
    "    \n",
    "    if input_idx % 1000 == 0:\n",
    "        print(f\"input_idx: {input_idx}\")\n",
    "    \n",
    "    inputs = gpt2_tokenizer(input_text, return_tensors=\"pt\").to(device_id)\n",
    "    n_tokens = inputs['input_ids'].shape[1]\n",
    "    \n",
    "    list_input_text = gpt2_tokenizer.convert_ids_to_tokens(inputs['input_ids'][0].cpu().numpy())\n",
    "\n",
    "    for idx in range(1, n_tokens):\n",
    "        if not list_input_text[idx].startswith(\"Ġ\"):\n",
    "            list_input_text[idx-1] = list_input_text[idx-1] + \"##\"\n",
    "        list_input_text[idx] = list_input_text[idx].replace(\"Ġ\", \"\")\n",
    "        \n",
    "    # First run: clean run\n",
    "    clean_activations = {}\n",
    "    tuned_model = load_model()\n",
    "    for m_id in list_trace_module_ids:\n",
    "        tuned_model.get_submodule(m_id).register_forward_hook(save_clean_activation(m_id))\n",
    "        \n",
    "    with torch.no_grad():\n",
    "        tuned_model.eval()\n",
    "        clean_outputs = tuned_model(**inputs, labels=inputs.input_ids, output_hidden_states=True)    \n",
    "        clean_loss = np.exp(clean_outputs.loss.item())\n",
    "    \n",
    "    # Second run: corrupted run    \n",
    "    tuned_model = load_model()\n",
    "    tuned_model.get_submodule(\"transformer.h.0.attn\").register_forward_pre_hook(corrupt_input_vector)    \n",
    "    with torch.no_grad():\n",
    "        torch.manual_seed(718)\n",
    "        set_seed(718)\n",
    "        tuned_model.eval()\n",
    "        corrupted_outputs = tuned_model(**inputs, labels=inputs.input_ids, output_hidden_states=True)\n",
    "        corrupted_loss = np.exp(corrupted_outputs.loss.item())\n",
    "        \n",
    "    corrupted_loss    \n",
    "\n",
    "    # Third run: corrupted-with-restoration run    \n",
    "    restored_loss = {}\n",
    "    tuned_model = GPT2LMHeadModel.from_pretrained(tuned_model_path).to(device_id)\n",
    "\n",
    "    with torch.no_grad():\n",
    "        tuned_model.eval()\n",
    "        tuned_model.get_submodule(\"transformer.h.0.attn\").register_forward_pre_hook(corrupt_input_vector)\n",
    "        for m_id in list_trace_module_ids:\n",
    "            hook = tuned_model.get_submodule(m_id).register_forward_hook(restore_activation(m_id))\n",
    "            restored_outputs = tuned_model(**inputs, labels=inputs.input_ids, output_hidden_states=True)\n",
    "            restored_loss[m_id] = np.exp(restored_outputs.loss.item())\n",
    "            hook.remove()\n",
    "            \n",
    "    list_results[input_idx]['clean_loss'] = clean_loss\n",
    "    list_results[input_idx]['corrupted_loss'] = corrupted_loss\n",
    "    list_results[input_idx]['restored_loss'] = restored_loss"
   ]
  },
  {
   "cell_type": "code",
   "execution_count": 32,
   "metadata": {},
   "outputs": [],
   "source": [
    "import pickle as pkl\n",
    "with open('230607_run_outputs.pkl', 'wb') as pkl_file:\n",
    "    pkl.dump(list_results, pkl_file)"
   ]
  },
  {
   "cell_type": "code",
   "execution_count": 34,
   "metadata": {},
   "outputs": [
    {
     "name": "stdout",
     "output_type": "stream",
     "text": [
      "3040\n"
     ]
    }
   ],
   "source": [
    "for i, d in enumerate(list_results):\n",
    "    if len(d) == 0:\n",
    "        print(i)\n",
    "        break"
   ]
  },
  {
   "cell_type": "code",
   "execution_count": 36,
   "metadata": {},
   "outputs": [],
   "source": [
    "list_results_temp = list_results[:3000]"
   ]
  },
  {
   "cell_type": "markdown",
   "metadata": {},
   "source": [
    "# Main"
   ]
  },
  {
   "cell_type": "markdown",
   "metadata": {},
   "source": [
    "## first run - clean"
   ]
  },
  {
   "cell_type": "markdown",
   "metadata": {},
   "source": [
    "### register hook - save_clean_activation"
   ]
  },
  {
   "cell_type": "code",
   "execution_count": 635,
   "metadata": {},
   "outputs": [],
   "source": []
  },
  {
   "cell_type": "code",
   "execution_count": 636,
   "metadata": {},
   "outputs": [],
   "source": []
  },
  {
   "cell_type": "markdown",
   "metadata": {},
   "source": [
    "### get clean_activations & clean_loss"
   ]
  },
  {
   "cell_type": "code",
   "execution_count": 637,
   "metadata": {},
   "outputs": [
    {
     "data": {
      "text/plain": [
       "13.573352837326823"
      ]
     },
     "execution_count": 637,
     "metadata": {},
     "output_type": "execute_result"
    }
   ],
   "source": []
  },
  {
   "cell_type": "markdown",
   "metadata": {},
   "source": [
    "## second run - corruped"
   ]
  },
  {
   "cell_type": "markdown",
   "metadata": {},
   "source": [
    "### register hook - corrupt_input_vector"
   ]
  },
  {
   "cell_type": "code",
   "execution_count": 639,
   "metadata": {},
   "outputs": [
    {
     "data": {
      "text/plain": [
       "<torch.utils.hooks.RemovableHandle at 0x14ecff2102b0>"
      ]
     },
     "execution_count": 639,
     "metadata": {},
     "output_type": "execute_result"
    }
   ],
   "source": []
  },
  {
   "cell_type": "markdown",
   "metadata": {},
   "source": [
    "### get corrupt_input_vector & corrupted_loss"
   ]
  },
  {
   "cell_type": "code",
   "execution_count": 640,
   "metadata": {},
   "outputs": [
    {
     "data": {
      "text/plain": [
       "18.395775714257592"
      ]
     },
     "execution_count": 640,
     "metadata": {},
     "output_type": "execute_result"
    }
   ],
   "source": []
  },
  {
   "cell_type": "markdown",
   "metadata": {},
   "source": [
    "## Thrid run - corrupted-with-restoration run"
   ]
  },
  {
   "cell_type": "markdown",
   "metadata": {},
   "source": [
    "### register hook - restore_activation & restored losses"
   ]
  },
  {
   "cell_type": "code",
   "execution_count": 641,
   "metadata": {},
   "outputs": [],
   "source": []
  },
  {
   "cell_type": "code",
   "execution_count": 642,
   "metadata": {},
   "outputs": [],
   "source": []
  },
  {
   "cell_type": "code",
   "execution_count": 643,
   "metadata": {},
   "outputs": [
    {
     "data": {
      "text/plain": [
       "[('transformer.h.0.attn', 13.573352837326823),\n",
       " ('transformer.h.0.mlp', 14.274880534457854),\n",
       " ('transformer.h.1.attn', 21.543103091989984),\n",
       " ('transformer.h.1.mlp', 20.8595076933879),\n",
       " ('transformer.h.2.attn', 17.51346675330437),\n",
       " ('transformer.h.2.mlp', 18.091306491554267),\n",
       " ('transformer.h.3.attn', 16.443810897114936),\n",
       " ('transformer.h.3.mlp', 16.982345444060076),\n",
       " ('transformer.h.4.attn', 17.352509155673943),\n",
       " ('transformer.h.4.mlp', 18.33990111156065)]"
      ]
     },
     "execution_count": 643,
     "metadata": {},
     "output_type": "execute_result"
    }
   ],
   "source": [
    "list(restored_loss.items())[:10]"
   ]
  },
  {
   "cell_type": "markdown",
   "metadata": {},
   "source": [
    "## Losses"
   ]
  },
  {
   "cell_type": "code",
   "execution_count": 37,
   "metadata": {},
   "outputs": [
    {
     "data": {
      "text/plain": [
       "{'clean_loss': 63.91878399603464,\n",
       " 'corrupted_loss': 132.82606231021126,\n",
       " 'restored_loss': {'transformer.h.0.attn': 63.91878399603464,\n",
       "  'transformer.h.0.mlp': 72.45914462107228,\n",
       "  'transformer.h.1.attn': 108.48300584563944,\n",
       "  'transformer.h.1.mlp': 98.26031753662475,\n",
       "  'transformer.h.2.attn': 105.73504141607684,\n",
       "  'transformer.h.2.mlp': 157.61139900333075,\n",
       "  'transformer.h.3.attn': 114.14795095597133,\n",
       "  'transformer.h.3.mlp': 115.4669494255801,\n",
       "  'transformer.h.4.attn': 100.84907069077829,\n",
       "  'transformer.h.4.mlp': 95.89280867821321,\n",
       "  'transformer.h.5.attn': 131.30313272151864,\n",
       "  'transformer.h.5.mlp': 97.53559238094321,\n",
       "  'transformer.h.6.attn': 102.20920983898758,\n",
       "  'transformer.h.6.mlp': 109.59817642652683,\n",
       "  'transformer.h.7.attn': 106.16284752779694,\n",
       "  'transformer.h.7.mlp': 95.22004636798862,\n",
       "  'transformer.h.8.attn': 112.71103032371055,\n",
       "  'transformer.h.8.mlp': 108.70722262992827,\n",
       "  'transformer.h.9.attn': 127.16515070581757,\n",
       "  'transformer.h.9.mlp': 84.2516244105539,\n",
       "  'transformer.h.10.attn': 125.37668300778519,\n",
       "  'transformer.h.10.mlp': 118.25895329829432,\n",
       "  'transformer.h.11.attn': 115.2866072270407,\n",
       "  'transformer.h.11.mlp': 117.34363460544799}}"
      ]
     },
     "execution_count": 37,
     "metadata": {},
     "output_type": "execute_result"
    }
   ],
   "source": [
    "list_results_temp[0]"
   ]
  },
  {
   "cell_type": "code",
   "execution_count": 49,
   "metadata": {},
   "outputs": [],
   "source": [
    "def parse_code(row):\n",
    "    list_code = row.code.split(\".\")\n",
    "    row['l'] = int(list_code[2])\n",
    "    row['m'] = list_code[3]\n",
    "#     row['t'] = int(list_code[4])\n",
    "    return row"
   ]
  },
  {
   "cell_type": "code",
   "execution_count": 53,
   "metadata": {},
   "outputs": [],
   "source": [
    "list_df_ide_temp = []\n",
    "for i, d in enumerate(list_results_temp):\n",
    "    df_t = pd.DataFrame.from_dict(d['restored_loss'], orient='index')\n",
    "    TE = (corrupted_loss - clean_loss) / clean_loss\n",
    "    IDE = {}\n",
    "    for m_id in list_trace_module_ids:\n",
    "        IDE[m_id] = (restored_loss[m_id] - clean_loss) / clean_loss\n",
    "    \n",
    "    df_ide = pd.DataFrame.from_dict(IDE, orient='index').reset_index()\n",
    "    df_ide.columns = ['code', 'ide']\n",
    "    df_ide = df_ide.apply(lambda row: parse_code(row), axis=1)\n",
    "    df_ide[\"seq\"] = i\n",
    "    list_df_ide_temp.append(df_ide)\n",
    "    break"
   ]
  },
  {
   "cell_type": "code",
   "execution_count": 55,
   "metadata": {},
   "outputs": [
    {
     "data": {
      "text/html": [
       "<div>\n",
       "<style scoped>\n",
       "    .dataframe tbody tr th:only-of-type {\n",
       "        vertical-align: middle;\n",
       "    }\n",
       "\n",
       "    .dataframe tbody tr th {\n",
       "        vertical-align: top;\n",
       "    }\n",
       "\n",
       "    .dataframe thead th {\n",
       "        text-align: right;\n",
       "    }\n",
       "</style>\n",
       "<table border=\"1\" class=\"dataframe\">\n",
       "  <thead>\n",
       "    <tr style=\"text-align: right;\">\n",
       "      <th></th>\n",
       "      <th>code</th>\n",
       "      <th>ide</th>\n",
       "      <th>l</th>\n",
       "      <th>m</th>\n",
       "      <th>seq</th>\n",
       "    </tr>\n",
       "  </thead>\n",
       "  <tbody>\n",
       "    <tr>\n",
       "      <th>0</th>\n",
       "      <td>transformer.h.0.attn</td>\n",
       "      <td>-0.246547</td>\n",
       "      <td>0</td>\n",
       "      <td>attn</td>\n",
       "      <td>0</td>\n",
       "    </tr>\n",
       "    <tr>\n",
       "      <th>1</th>\n",
       "      <td>transformer.h.0.mlp</td>\n",
       "      <td>-0.165156</td>\n",
       "      <td>0</td>\n",
       "      <td>mlp</td>\n",
       "      <td>0</td>\n",
       "    </tr>\n",
       "    <tr>\n",
       "      <th>2</th>\n",
       "      <td>transformer.h.1.attn</td>\n",
       "      <td>1.243991</td>\n",
       "      <td>1</td>\n",
       "      <td>attn</td>\n",
       "      <td>0</td>\n",
       "    </tr>\n",
       "    <tr>\n",
       "      <th>3</th>\n",
       "      <td>transformer.h.1.mlp</td>\n",
       "      <td>0.427174</td>\n",
       "      <td>1</td>\n",
       "      <td>mlp</td>\n",
       "      <td>0</td>\n",
       "    </tr>\n",
       "    <tr>\n",
       "      <th>4</th>\n",
       "      <td>transformer.h.2.attn</td>\n",
       "      <td>-0.017259</td>\n",
       "      <td>2</td>\n",
       "      <td>attn</td>\n",
       "      <td>0</td>\n",
       "    </tr>\n",
       "    <tr>\n",
       "      <th>5</th>\n",
       "      <td>transformer.h.2.mlp</td>\n",
       "      <td>0.020662</td>\n",
       "      <td>2</td>\n",
       "      <td>mlp</td>\n",
       "      <td>0</td>\n",
       "    </tr>\n",
       "    <tr>\n",
       "      <th>6</th>\n",
       "      <td>transformer.h.3.attn</td>\n",
       "      <td>-0.049197</td>\n",
       "      <td>3</td>\n",
       "      <td>attn</td>\n",
       "      <td>0</td>\n",
       "    </tr>\n",
       "    <tr>\n",
       "      <th>7</th>\n",
       "      <td>transformer.h.3.mlp</td>\n",
       "      <td>-0.042981</td>\n",
       "      <td>3</td>\n",
       "      <td>mlp</td>\n",
       "      <td>0</td>\n",
       "    </tr>\n",
       "    <tr>\n",
       "      <th>8</th>\n",
       "      <td>transformer.h.4.attn</td>\n",
       "      <td>-0.026493</td>\n",
       "      <td>4</td>\n",
       "      <td>attn</td>\n",
       "      <td>0</td>\n",
       "    </tr>\n",
       "    <tr>\n",
       "      <th>9</th>\n",
       "      <td>transformer.h.4.mlp</td>\n",
       "      <td>0.050634</td>\n",
       "      <td>4</td>\n",
       "      <td>mlp</td>\n",
       "      <td>0</td>\n",
       "    </tr>\n",
       "    <tr>\n",
       "      <th>10</th>\n",
       "      <td>transformer.h.5.attn</td>\n",
       "      <td>-0.063185</td>\n",
       "      <td>5</td>\n",
       "      <td>attn</td>\n",
       "      <td>0</td>\n",
       "    </tr>\n",
       "    <tr>\n",
       "      <th>11</th>\n",
       "      <td>transformer.h.5.mlp</td>\n",
       "      <td>0.106151</td>\n",
       "      <td>5</td>\n",
       "      <td>mlp</td>\n",
       "      <td>0</td>\n",
       "    </tr>\n",
       "    <tr>\n",
       "      <th>12</th>\n",
       "      <td>transformer.h.6.attn</td>\n",
       "      <td>-0.104935</td>\n",
       "      <td>6</td>\n",
       "      <td>attn</td>\n",
       "      <td>0</td>\n",
       "    </tr>\n",
       "    <tr>\n",
       "      <th>13</th>\n",
       "      <td>transformer.h.6.mlp</td>\n",
       "      <td>-0.020819</td>\n",
       "      <td>6</td>\n",
       "      <td>mlp</td>\n",
       "      <td>0</td>\n",
       "    </tr>\n",
       "    <tr>\n",
       "      <th>14</th>\n",
       "      <td>transformer.h.7.attn</td>\n",
       "      <td>-0.051133</td>\n",
       "      <td>7</td>\n",
       "      <td>attn</td>\n",
       "      <td>0</td>\n",
       "    </tr>\n",
       "    <tr>\n",
       "      <th>15</th>\n",
       "      <td>transformer.h.7.mlp</td>\n",
       "      <td>-0.007315</td>\n",
       "      <td>7</td>\n",
       "      <td>mlp</td>\n",
       "      <td>0</td>\n",
       "    </tr>\n",
       "    <tr>\n",
       "      <th>16</th>\n",
       "      <td>transformer.h.8.attn</td>\n",
       "      <td>-0.039760</td>\n",
       "      <td>8</td>\n",
       "      <td>attn</td>\n",
       "      <td>0</td>\n",
       "    </tr>\n",
       "    <tr>\n",
       "      <th>17</th>\n",
       "      <td>transformer.h.8.mlp</td>\n",
       "      <td>-0.074888</td>\n",
       "      <td>8</td>\n",
       "      <td>mlp</td>\n",
       "      <td>0</td>\n",
       "    </tr>\n",
       "    <tr>\n",
       "      <th>18</th>\n",
       "      <td>transformer.h.9.attn</td>\n",
       "      <td>-0.042054</td>\n",
       "      <td>9</td>\n",
       "      <td>attn</td>\n",
       "      <td>0</td>\n",
       "    </tr>\n",
       "    <tr>\n",
       "      <th>19</th>\n",
       "      <td>transformer.h.9.mlp</td>\n",
       "      <td>-0.093840</td>\n",
       "      <td>9</td>\n",
       "      <td>mlp</td>\n",
       "      <td>0</td>\n",
       "    </tr>\n",
       "    <tr>\n",
       "      <th>20</th>\n",
       "      <td>transformer.h.10.attn</td>\n",
       "      <td>-0.021992</td>\n",
       "      <td>10</td>\n",
       "      <td>attn</td>\n",
       "      <td>0</td>\n",
       "    </tr>\n",
       "    <tr>\n",
       "      <th>21</th>\n",
       "      <td>transformer.h.10.mlp</td>\n",
       "      <td>-0.098737</td>\n",
       "      <td>10</td>\n",
       "      <td>mlp</td>\n",
       "      <td>0</td>\n",
       "    </tr>\n",
       "    <tr>\n",
       "      <th>22</th>\n",
       "      <td>transformer.h.11.attn</td>\n",
       "      <td>-0.005072</td>\n",
       "      <td>11</td>\n",
       "      <td>attn</td>\n",
       "      <td>0</td>\n",
       "    </tr>\n",
       "    <tr>\n",
       "      <th>23</th>\n",
       "      <td>transformer.h.11.mlp</td>\n",
       "      <td>0.032132</td>\n",
       "      <td>11</td>\n",
       "      <td>mlp</td>\n",
       "      <td>0</td>\n",
       "    </tr>\n",
       "  </tbody>\n",
       "</table>\n",
       "</div>"
      ],
      "text/plain": [
       "                     code       ide   l     m  seq\n",
       "0    transformer.h.0.attn -0.246547   0  attn    0\n",
       "1     transformer.h.0.mlp -0.165156   0   mlp    0\n",
       "2    transformer.h.1.attn  1.243991   1  attn    0\n",
       "3     transformer.h.1.mlp  0.427174   1   mlp    0\n",
       "4    transformer.h.2.attn -0.017259   2  attn    0\n",
       "5     transformer.h.2.mlp  0.020662   2   mlp    0\n",
       "6    transformer.h.3.attn -0.049197   3  attn    0\n",
       "7     transformer.h.3.mlp -0.042981   3   mlp    0\n",
       "8    transformer.h.4.attn -0.026493   4  attn    0\n",
       "9     transformer.h.4.mlp  0.050634   4   mlp    0\n",
       "10   transformer.h.5.attn -0.063185   5  attn    0\n",
       "11    transformer.h.5.mlp  0.106151   5   mlp    0\n",
       "12   transformer.h.6.attn -0.104935   6  attn    0\n",
       "13    transformer.h.6.mlp -0.020819   6   mlp    0\n",
       "14   transformer.h.7.attn -0.051133   7  attn    0\n",
       "15    transformer.h.7.mlp -0.007315   7   mlp    0\n",
       "16   transformer.h.8.attn -0.039760   8  attn    0\n",
       "17    transformer.h.8.mlp -0.074888   8   mlp    0\n",
       "18   transformer.h.9.attn -0.042054   9  attn    0\n",
       "19    transformer.h.9.mlp -0.093840   9   mlp    0\n",
       "20  transformer.h.10.attn -0.021992  10  attn    0\n",
       "21   transformer.h.10.mlp -0.098737  10   mlp    0\n",
       "22  transformer.h.11.attn -0.005072  11  attn    0\n",
       "23   transformer.h.11.mlp  0.032132  11   mlp    0"
      ]
     },
     "execution_count": 55,
     "metadata": {},
     "output_type": "execute_result"
    }
   ],
   "source": [
    "df_ide"
   ]
  },
  {
   "cell_type": "code",
   "execution_count": null,
   "metadata": {},
   "outputs": [],
   "source": []
  },
  {
   "cell_type": "code",
   "execution_count": null,
   "metadata": {},
   "outputs": [],
   "source": []
  },
  {
   "cell_type": "code",
   "execution_count": 644,
   "metadata": {},
   "outputs": [
    {
     "data": {
      "text/plain": [
       "(13.573352837326823, 18.395775714257592, 17.73122174651327)"
      ]
     },
     "execution_count": 644,
     "metadata": {},
     "output_type": "execute_result"
    }
   ],
   "source": [
    "clean_loss, corrupted_loss, np.mean(list(restored_loss.values()))"
   ]
  },
  {
   "cell_type": "code",
   "execution_count": 645,
   "metadata": {},
   "outputs": [],
   "source": [
    "# TE = (base_loss - tuned_loss) / base_loss\n",
    "# IDE = {}\n",
    "# for m_id in list_trace_module_ids:\n",
    "#     for t in range(n_tokens):\n",
    "#         IDE[m_id + f'.{t}'] = restored_loss[m_id + f'.{t}'] / base_loss\n",
    "        \n",
    "TE = (corrupted_loss - clean_loss) / clean_loss\n",
    "IDE = {}\n",
    "for m_id in list_trace_module_ids:\n",
    "    IDE[m_id] = (restored_loss[m_id] - clean_loss) / clean_loss"
   ]
  },
  {
   "cell_type": "code",
   "execution_count": 646,
   "metadata": {},
   "outputs": [],
   "source": [
    "\n",
    "\n",
    "df_ide = pd.DataFrame.from_dict(IDE, orient='index').reset_index()\n",
    "df_ide.columns = ['code', 'ide']\n",
    "df_ide = df_ide.apply(lambda row: parse_code(row), axis=1)\n",
    "# df_ide['token'] = df_ide['t'].apply(lambda x: list_input_text[int(x)])"
   ]
  },
  {
   "cell_type": "markdown",
   "metadata": {},
   "source": [
    "## Results"
   ]
  },
  {
   "cell_type": "markdown",
   "metadata": {},
   "source": [
    "##### He was a religious scholar and a prolific writer. Many of his works are used as references for church members"
   ]
  },
  {
   "cell_type": "code",
   "execution_count": 58,
   "metadata": {},
   "outputs": [
    {
     "data": {
      "text/plain": [
       "<Axes: xlabel='None-l', ylabel='m'>"
      ]
     },
     "execution_count": 58,
     "metadata": {},
     "output_type": "execute_result"
    },
    {
     "data": {
      "image/png": "[encoded data removed]",
      "text/plain": [
       "<Figure size 1000x500 with 2 Axes>"
      ]
     },
     "metadata": {},
     "output_type": "display_data"
    }
   ],
   "source": [
    "plt.rcParams[\"figure.figsize\"] = (10,5)\n",
    "\n",
    "sns.heatmap(\n",
    "    df_ide.drop(['code', 'seq'], axis=1).set_index(['m', 'l']).unstack(-1),\n",
    "    cmap='coolwarm'#, vmax=0.3, vmin=0, vmax=1.2, vmin=0.8\n",
    ")"
   ]
  },
  {
   "cell_type": "markdown",
   "metadata": {},
   "source": [
    "##### 'In popular and media culture, Anubis is often falsely portrayed as the sinister god of the dead'\n"
   ]
  },
  {
   "cell_type": "code",
   "execution_count": 599,
   "metadata": {},
   "outputs": [
    {
     "data": {
      "text/plain": [
       "<Axes: xlabel='None-l', ylabel='m'>"
      ]
     },
     "execution_count": 599,
     "metadata": {},
     "output_type": "execute_result"
    },
    {
     "data": {
      "image/png": "[encoded data removed]",
      "text/plain": [
       "<Figure size 1000x500 with 2 Axes>"
      ]
     },
     "metadata": {},
     "output_type": "display_data"
    }
   ],
   "source": [
    "plt.rcParams[\"figure.figsize\"] = (10,5)\n",
    "\n",
    "sns.heatmap(\n",
    "    df_ide.drop(['code'], axis=1).set_index(['m', 'l']).unstack(-1),\n",
    "    cmap='coolwarm'#, vmax=1.2, vmin=0.8\n",
    ")"
   ]
  },
  {
   "cell_type": "markdown",
   "metadata": {},
   "source": [
    "##### Elderly people often have limited regenerative abilities and are more susceptible to disease, syndromes, injuries and sickness than younger adults."
   ]
  },
  {
   "cell_type": "code",
   "execution_count": 615,
   "metadata": {},
   "outputs": [
    {
     "data": {
      "text/plain": [
       "<Axes: xlabel='None-l', ylabel='m'>"
      ]
     },
     "execution_count": 615,
     "metadata": {},
     "output_type": "execute_result"
    },
    {
     "data": {
      "image/png": "[encoded data removed]",
      "text/plain": [
       "<Figure size 1000x500 with 2 Axes>"
      ]
     },
     "metadata": {},
     "output_type": "display_data"
    }
   ],
   "source": [
    "plt.rcParams[\"figure.figsize\"] = (10,5)\n",
    "\n",
    "sns.heatmap(\n",
    "    df_ide.drop(['code'], axis=1).set_index(['m', 'l']).unstack(-1),\n",
    "    cmap='coolwarm'#, vmax=1.2, vmin=0.8\n",
    ")"
   ]
  },
  {
   "cell_type": "markdown",
   "metadata": {},
   "source": [
    "##### \"Zechariah's vision of recently deceased Joshua the High Priest depicts a dispute in the heavenly throne room between Satan and the Angel of the Lord\"\n"
   ]
  },
  {
   "cell_type": "code",
   "execution_count": 631,
   "metadata": {},
   "outputs": [
    {
     "data": {
      "text/plain": [
       "<Axes: xlabel='None-l', ylabel='m'>"
      ]
     },
     "execution_count": 631,
     "metadata": {},
     "output_type": "execute_result"
    },
    {
     "data": {
      "image/png": "[encoded data removed]",
      "text/plain": [
       "<Figure size 1000x500 with 2 Axes>"
      ]
     },
     "metadata": {},
     "output_type": "display_data"
    }
   ],
   "source": [
    "plt.rcParams[\"figure.figsize\"] = (10,5)\n",
    "\n",
    "sns.heatmap(\n",
    "    df_ide.drop(['code'], axis=1).set_index(['m', 'l']).unstack(-1),\n",
    "    cmap='coolwarm'#, vmax=1.2, vmin=0.8\n",
    ")"
   ]
  },
  {
   "cell_type": "markdown",
   "metadata": {},
   "source": [
    "##### The Transcendental Argument for the Existence of God (TAG) is the argument that attempts to prove the existence of God by arguing that logic, morals, and science ultimately presuppose a supreme being and that God must therefore be the source of logic and morals"
   ]
  },
  {
   "cell_type": "code",
   "execution_count": 647,
   "metadata": {},
   "outputs": [
    {
     "data": {
      "text/plain": [
       "<Axes: xlabel='None-l', ylabel='m'>"
      ]
     },
     "execution_count": 647,
     "metadata": {},
     "output_type": "execute_result"
    },
    {
     "data": {
      "image/png": "[encoded data removed]",
      "text/plain": [
       "<Figure size 1000x500 with 2 Axes>"
      ]
     },
     "metadata": {},
     "output_type": "display_data"
    }
   ],
   "source": [
    "plt.rcParams[\"figure.figsize\"] = (10,5)\n",
    "\n",
    "sns.heatmap(\n",
    "    df_ide.drop(['code'], axis=1).set_index(['m', 'l']).unstack(-1),\n",
    "    cmap='coolwarm'#, vmax=1.2, vmin=0.8\n",
    ")"
   ]
  },
  {
   "cell_type": "markdown",
   "metadata": {},
   "source": [
    "## Conclusion\n",
    "Couldn't find a specific pattern.  \n",
    "I will extend this approach, using the entire dataset and aggregating IDE values."
   ]
  },
  {
   "cell_type": "code",
   "execution_count": null,
   "metadata": {},
   "outputs": [],
   "source": []
  }
 ],
 "metadata": {
  "kernelspec": {
   "display_name": "Python [conda env:m2d2]",
   "language": "python",
   "name": "conda-env-m2d2-py"
  },
  "language_info": {
   "codemirror_mode": {
    "name": "ipython",
    "version": 3
   },
   "file_extension": ".py",
   "mimetype": "text/x-python",
   "name": "python",
   "nbconvert_exporter": "python",
   "pygments_lexer": "ipython3",
   "version": "3.10.11"
  }
 },
 "nbformat": 4,
 "nbformat_minor": 2
}
