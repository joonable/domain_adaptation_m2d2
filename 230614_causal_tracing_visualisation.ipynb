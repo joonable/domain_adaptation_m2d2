{
 "cells": [
  {
   "cell_type": "markdown",
   "metadata": {},
   "source": [
    "# 230614_causal_tracing_visualisation\n",
    "{dt}\\_omcd_{ds}.json, {dt}\\_tmod_{ds}.json loading하고 visualisation 하기 위한 노트북\n"
   ]
  },
  {
   "cell_type": "markdown",
   "metadata": {},
   "source": [
    "# Import libraries"
   ]
  },
  {
   "cell_type": "code",
   "execution_count": 1,
   "metadata": {},
   "outputs": [
    {
     "name": "stderr",
     "output_type": "stream",
     "text": [
      "/rds/general/user/jj1122/home/anaconda3/envs/m2d2/lib/python3.10/site-packages/tqdm/auto.py:21: TqdmWarning: IProgress not found. Please update jupyter and ipywidgets. See https://ipywidgets.readthedocs.io/en/stable/user_install.html\n",
      "  from .autonotebook import tqdm as notebook_tqdm\n"
     ]
    }
   ],
   "source": [
    "from transformers import GPT2LMHeadModel, GPT2TokenizerFast, GPT2Tokenizer, set_seed\n",
    "from datasets import load_dataset\n",
    "from tqdm import tqdm\n",
    "import json\n",
    "import torch\n",
    "import argparse\n",
    "import datasets\n",
    "import numpy as np\n",
    "import seaborn as sns\n",
    "import pandas as pd\n",
    "import matplotlib.pylab as plt\n",
    "from os import listdir"
   ]
  },
  {
   "cell_type": "markdown",
   "metadata": {},
   "source": [
    "# Config"
   ]
  },
  {
   "cell_type": "code",
   "execution_count": 2,
   "metadata": {},
   "outputs": [],
   "source": [
    "torch.manual_seed(718)\n",
    "set_seed(718)"
   ]
  },
  {
   "cell_type": "code",
   "execution_count": 3,
   "metadata": {},
   "outputs": [],
   "source": [
    "# ROME\n",
    "# - localisation: pre-trained LM을 대상으로 지식 정보가 담겨있는 모듈을 찾아냄\n",
    "# - ROME: 해당 부분에 적합한 \n",
    "\n",
    "# 내가 만들고 싶은 model editing은 fine-tuning을 대체할 수 있는 방법이었음"
   ]
  },
  {
   "cell_type": "code",
   "execution_count": 4,
   "metadata": {},
   "outputs": [],
   "source": [
    "list_models = [\n",
    "#     \"cs_l1\",\n",
    "#     \"nlin_l1\",\n",
    "#     \"Health_and_fitness\",\n",
    "#     \"Natural_and_physical_sciences\",\n",
    "#     \"Religion_and_belief_systems\",\n",
    "#     \"Culture_and_the_arts\",\n",
    "#     \"General_referece\",\n",
    "    \"econ_l1\",\n",
    "#     \"History_and_events\",\n",
    "#     \"Human_activites\",\n",
    "#     \"Mathematics_and_logic\",\n",
    "# #     \"astro-ph_l1\",\n",
    "# #     \"cond-mat_l1\",\n",
    "#     \"eess_l1\",\n",
    "# #     \"math_l1\",\n",
    "# #     \"physics_l1 (ERROR)\",\n",
    "#     \"q-bio_l1\",\n",
    "#     \"q-fin_l1\",\n",
    "#     \"stat_l1\",\n",
    "#     \"Philosophy\",\n",
    "#     \"Philosophy_and_thinking\",\n",
    "#     \"Society_and_social_sciences\",\n",
    "#     \"Technology_and_applied_sciences\",\n",
    "]\n",
    "# len(list_models), len(set(list_models))"
   ]
  },
  {
   "cell_type": "code",
   "execution_count": 5,
   "metadata": {},
   "outputs": [],
   "source": [
    "dataset_nm = list_models[0]\n",
    "# dataset_path = f\"../m2d2/dataset/{dataset_nm}/train.txt\"\n",
    "cache_dir=\"/rds/general/user/jj1122/ephemeral/.cache/huggingface\""
   ]
  },
  {
   "cell_type": "code",
   "execution_count": 6,
   "metadata": {},
   "outputs": [],
   "source": [
    "device_id = 'cpu'\n",
    "# tuned_model_path = f\"/rds/general/user/jj1122/home/projects/m2d2/dataset/{dataset_nm}/models\"\n",
    "n_layers = 12\n",
    "list_modules = ['attn', 'mlp']\n",
    "trace_module_id = \"transformer.h.{l}.{m}\""
   ]
  },
  {
   "cell_type": "code",
   "execution_count": 7,
   "metadata": {},
   "outputs": [],
   "source": [
    "output_dir = \"/rds/general/user/jj1122/home/projects/m2d2/utils/output_logs/\""
   ]
  },
  {
   "cell_type": "code",
   "execution_count": 8,
   "metadata": {},
   "outputs": [
    {
     "name": "stdout",
     "output_type": "stream",
     "text": [
      "['transformer.h.0.attn', 'transformer.h.0.mlp', 'transformer.h.1.attn']\n"
     ]
    }
   ],
   "source": [
    "list_trace_module_ids = []\n",
    "\n",
    "for l in range(n_layers):\n",
    "    for m in list_modules:\n",
    "        list_trace_module_ids.append(trace_module_id.format(l=l, m=m))\n",
    "\n",
    "print(list_trace_module_ids[:3])"
   ]
  },
  {
   "cell_type": "code",
   "execution_count": 9,
   "metadata": {},
   "outputs": [],
   "source": [
    "def get_json_path(dir_path, job_cd):\n",
    "    l_dir = listdir(dir_path)\n",
    "    dt = max([x.split(\"_\")[0] for x in l_dir if job_cd in x])\n",
    "    return dir_path + f\"{dt}_{job_cd}.json\""
   ]
  },
  {
   "cell_type": "markdown",
   "metadata": {},
   "source": [
    "# OMCD"
   ]
  },
  {
   "cell_type": "code",
   "execution_count": 10,
   "metadata": {},
   "outputs": [],
   "source": [
    "job_cd = f\"omcd_{dataset_nm}\""
   ]
  },
  {
   "cell_type": "code",
   "execution_count": 11,
   "metadata": {},
   "outputs": [
    {
     "data": {
      "text/plain": [
       "'/rds/general/user/jj1122/home/projects/m2d2/utils/output_logs/230624_omcd_econ_l1.json'"
      ]
     },
     "execution_count": 11,
     "metadata": {},
     "output_type": "execute_result"
    }
   ],
   "source": [
    "with open(get_json_path(output_dir, job_cd), \"r\") as json_file:\n",
    "    omcd = json.load(json_file)\n",
    "get_json_path(output_dir, job_cd)"
   ]
  },
  {
   "cell_type": "code",
   "execution_count": 12,
   "metadata": {},
   "outputs": [
    {
     "data": {
      "text/plain": [
       "{'clean_loss': 9.606649004885389,\n",
       " 'corrupted_loss': 13.049214888045217,\n",
       " 'restored_loss': {'transformer.h.0.attn': 10.096801253158114,\n",
       "  'transformer.h.0.mlp': 11.607725700445368,\n",
       "  'transformer.h.1.attn': 16.53244859580643,\n",
       "  'transformer.h.1.mlp': 48.915638019943025,\n",
       "  'transformer.h.2.attn': 11.948290308315624,\n",
       "  'transformer.h.2.mlp': 12.320097835431625,\n",
       "  'transformer.h.3.attn': 12.442908066656887,\n",
       "  'transformer.h.3.mlp': 10.467200167893132,\n",
       "  'transformer.h.4.attn': 13.222219227319277,\n",
       "  'transformer.h.4.mlp': 12.350663465749813,\n",
       "  'transformer.h.5.attn': 11.852744593827968,\n",
       "  'transformer.h.5.mlp': 12.320326950099187,\n",
       "  'transformer.h.6.attn': 11.685034671486452,\n",
       "  'transformer.h.6.mlp': 12.627006443068655,\n",
       "  'transformer.h.7.attn': 12.001250615913376,\n",
       "  'transformer.h.7.mlp': 12.37450554182634,\n",
       "  'transformer.h.8.attn': 12.551656246562002,\n",
       "  'transformer.h.8.mlp': 10.943333679434359,\n",
       "  'transformer.h.9.attn': 11.847023498092666,\n",
       "  'transformer.h.9.mlp': 11.910019698448009,\n",
       "  'transformer.h.10.attn': 12.232344516637376,\n",
       "  'transformer.h.10.mlp': 11.018455693302466,\n",
       "  'transformer.h.11.attn': 12.829498421421615,\n",
       "  'transformer.h.11.mlp': 12.632724701523953}}"
      ]
     },
     "execution_count": 12,
     "metadata": {},
     "output_type": "execute_result"
    }
   ],
   "source": [
    "omcd[5000]"
   ]
  },
  {
   "cell_type": "code",
   "execution_count": 13,
   "metadata": {},
   "outputs": [],
   "source": [
    "list_df_temp = list(range(len(omcd)))\n",
    "\n",
    "for i, d in enumerate(omcd):\n",
    "#     print(i)\n",
    "    TE = (d[\"corrupted_loss\"] - d[\"clean_loss\"]) / d[\"clean_loss\"]\n",
    "    IE = {}\n",
    "    for m_id in list_trace_module_ids:\n",
    "        IE[m_id] = (d[\"restored_loss\"][m_id] - d[\"clean_loss\"]) / d[\"clean_loss\"]\n",
    "    list_df_temp[i] = pd.DataFrame.from_dict(IE, orient=\"index\").reset_index()\n",
    "    list_df_temp[i].columns = [\"code\", \"IE\"]\n",
    "    list_df_temp[i][\"TE\"] = TE\n",
    "    list_df_temp[i][\"clean_loss\"] = d[\"clean_loss\"]\n",
    "    list_df_temp[i][\"corrupted_loss\"] = d[\"corrupted_loss\"]\n",
    "    list_df_temp[i][\"restored_loss\"] = list(d[\"restored_loss\"].values())\n",
    "    list_df_temp[i][\"sent_id\"] = i\n",
    "    del TE, IE\n"
   ]
  },
  {
   "cell_type": "code",
   "execution_count": 14,
   "metadata": {},
   "outputs": [
    {
     "data": {
      "text/plain": [
       "{'clean_loss': 27.827308442067025,\n",
       " 'corrupted_loss': 140.87757282243842,\n",
       " 'restored_loss': {'transformer.h.0.attn': 34.476418677200904,\n",
       "  'transformer.h.0.mlp': 29.37763075965806,\n",
       "  'transformer.h.1.attn': 123.0649411087044,\n",
       "  'transformer.h.1.mlp': 79.37217706129343,\n",
       "  'transformer.h.2.attn': 102.61629123529467,\n",
       "  'transformer.h.2.mlp': 72.91651989462308,\n",
       "  'transformer.h.3.attn': 100.86965470523452,\n",
       "  'transformer.h.3.mlp': 101.09115017384312,\n",
       "  'transformer.h.4.attn': 95.16548584889892,\n",
       "  'transformer.h.4.mlp': 81.1298090834099,\n",
       "  'transformer.h.5.attn': 97.17187738765452,\n",
       "  'transformer.h.5.mlp': 213.02858390748224,\n",
       "  'transformer.h.6.attn': 84.87464988596346,\n",
       "  'transformer.h.6.mlp': 103.06096058057292,\n",
       "  'transformer.h.7.attn': 93.97231534195983,\n",
       "  'transformer.h.7.mlp': 83.56982790405058,\n",
       "  'transformer.h.8.attn': 92.15859327817208,\n",
       "  'transformer.h.8.mlp': 87.47170624839183,\n",
       "  'transformer.h.9.attn': 101.55642228900977,\n",
       "  'transformer.h.9.mlp': 84.01272576800608,\n",
       "  'transformer.h.10.attn': 101.13854582936342,\n",
       "  'transformer.h.10.mlp': 78.96940637273241,\n",
       "  'transformer.h.11.attn': 109.91994529348804,\n",
       "  'transformer.h.11.mlp': 91.09859546394037}}"
      ]
     },
     "execution_count": 14,
     "metadata": {},
     "output_type": "execute_result"
    }
   ],
   "source": [
    "omcd[5002]"
   ]
  },
  {
   "cell_type": "code",
   "execution_count": 15,
   "metadata": {},
   "outputs": [],
   "source": [
    "def parse_code(row):\n",
    "    list_code = row.code.split(\".\")\n",
    "    row['l'] = int(list_code[2])\n",
    "    row['m'] = list_code[3]\n",
    "#     row['t'] = int(list_code[4])\n",
    "    return row"
   ]
  },
  {
   "cell_type": "code",
   "execution_count": 16,
   "metadata": {},
   "outputs": [],
   "source": [
    "df_omcd = pd.concat(list_df_temp, axis=0, ignore_index=True).reset_index(drop=True)\n",
    "# df_omcd = df_omcd.apply(lambda row: parse_code(row), axis=1)"
   ]
  },
  {
   "cell_type": "code",
   "execution_count": 17,
   "metadata": {},
   "outputs": [],
   "source": [
    "\n",
    "df_omcd[\"list_code\"] = df_omcd[\"code\"].apply(lambda code: code.split(\".\"))\n",
    "df_omcd[\"l\"] = df_omcd[\"list_code\"].apply(lambda l: int(l[2]))\n",
    "df_omcd[\"m\"] = df_omcd[\"list_code\"].apply(lambda l: l[3])"
   ]
  },
  {
   "cell_type": "code",
   "execution_count": 18,
   "metadata": {},
   "outputs": [],
   "source": [
    "del omcd, list_df_temp, df_omcd[\"list_code\"]"
   ]
  },
  {
   "cell_type": "code",
   "execution_count": 19,
   "metadata": {},
   "outputs": [],
   "source": [
    "df_omcd = df_omcd.rename({\"IE\": \"omcd_IE\"}, axis=1)\n",
    "df_omcd_ie = df_omcd.groupby([\"l\", \"m\"]).agg({\"omcd_IE\": ['mean', 'std']})"
   ]
  },
  {
   "cell_type": "markdown",
   "metadata": {},
   "source": [
    "# tmod"
   ]
  },
  {
   "cell_type": "code",
   "execution_count": 20,
   "metadata": {},
   "outputs": [],
   "source": [
    "job_cd = f\"tmod_{dataset_nm}\""
   ]
  },
  {
   "cell_type": "code",
   "execution_count": 21,
   "metadata": {},
   "outputs": [
    {
     "data": {
      "text/plain": [
       "'/rds/general/user/jj1122/home/projects/m2d2/utils/output_logs/230627_tmod_econ_l1.json'"
      ]
     },
     "execution_count": 21,
     "metadata": {},
     "output_type": "execute_result"
    }
   ],
   "source": [
    "with open(get_json_path(output_dir, job_cd), \"r\") as json_file:\n",
    "    tmod = json.load(json_file)\n",
    "get_json_path(output_dir, job_cd)"
   ]
  },
  {
   "cell_type": "code",
   "execution_count": 22,
   "metadata": {},
   "outputs": [],
   "source": [
    "list_df_temp = list(range(len(tmod)))\n",
    "\n",
    "for i, d in enumerate(tmod):\n",
    "    TE = (d[\"corrupted_loss\"] - d[\"clean_loss\"]) / d[\"clean_loss\"]\n",
    "    IE = {}\n",
    "    for m_id in list_trace_module_ids:\n",
    "        IE[m_id] = (d[\"restored_loss\"][m_id] - d[\"clean_loss\"]) / d[\"clean_loss\"]\n",
    "    list_df_temp[i] = pd.DataFrame.from_dict(IE, orient=\"index\").reset_index()\n",
    "    list_df_temp[i].columns = [\"code\", \"IE\"]\n",
    "    list_df_temp[i][\"TE\"] = TE\n",
    "    list_df_temp[i][\"clean_loss\"] = d[\"clean_loss\"]\n",
    "    list_df_temp[i][\"corrupted_loss\"] = d[\"corrupted_loss\"]\n",
    "    list_df_temp[i][\"restored_loss\"] = list(d[\"restored_loss\"].values())\n",
    "    list_df_temp[i][\"sent_id\"] = i\n",
    "    del TE, IE\n"
   ]
  },
  {
   "cell_type": "code",
   "execution_count": 23,
   "metadata": {},
   "outputs": [],
   "source": [
    "df_tmod = pd.concat(list_df_temp, axis=0, ignore_index=True).reset_index(drop=True)"
   ]
  },
  {
   "cell_type": "code",
   "execution_count": 24,
   "metadata": {},
   "outputs": [],
   "source": [
    "df_tmod[\"list_code\"] = df_tmod[\"code\"].apply(lambda code: code.split(\".\"))\n",
    "df_tmod[\"l\"] = df_tmod[\"list_code\"].apply(lambda l: int(l[2]))\n",
    "df_tmod[\"m\"] = df_tmod[\"list_code\"].apply(lambda l: l[3])"
   ]
  },
  {
   "cell_type": "code",
   "execution_count": 25,
   "metadata": {},
   "outputs": [],
   "source": [
    "del tmod, list_df_temp, df_tmod[\"list_code\"]"
   ]
  },
  {
   "cell_type": "code",
   "execution_count": 26,
   "metadata": {},
   "outputs": [],
   "source": [
    "df_tmod = df_tmod.rename({\"IE\": \"tmod_IE\"}, axis=1)"
   ]
  },
  {
   "cell_type": "code",
   "execution_count": 27,
   "metadata": {},
   "outputs": [],
   "source": [
    "df_tmod_ie = df_tmod.groupby([\"l\", \"m\"]).agg({\"tmod_IE\": ['mean', 'std']})"
   ]
  },
  {
   "cell_type": "markdown",
   "metadata": {},
   "source": [
    "## Visualisation"
   ]
  },
  {
   "cell_type": "code",
   "execution_count": 28,
   "metadata": {},
   "outputs": [
    {
     "data": {
      "text/html": [
       "<div>\n",
       "<style scoped>\n",
       "    .dataframe tbody tr th:only-of-type {\n",
       "        vertical-align: middle;\n",
       "    }\n",
       "\n",
       "    .dataframe tbody tr th {\n",
       "        vertical-align: top;\n",
       "    }\n",
       "\n",
       "    .dataframe thead tr th {\n",
       "        text-align: left;\n",
       "    }\n",
       "\n",
       "    .dataframe thead tr:last-of-type th {\n",
       "        text-align: right;\n",
       "    }\n",
       "</style>\n",
       "<table border=\"1\" class=\"dataframe\">\n",
       "  <thead>\n",
       "    <tr>\n",
       "      <th></th>\n",
       "      <th colspan=\"4\" halign=\"left\">tmod_IE</th>\n",
       "    </tr>\n",
       "    <tr>\n",
       "      <th></th>\n",
       "      <th colspan=\"2\" halign=\"left\">mean</th>\n",
       "      <th colspan=\"2\" halign=\"left\">std</th>\n",
       "    </tr>\n",
       "    <tr>\n",
       "      <th>m</th>\n",
       "      <th>attn</th>\n",
       "      <th>mlp</th>\n",
       "      <th>attn</th>\n",
       "      <th>mlp</th>\n",
       "    </tr>\n",
       "    <tr>\n",
       "      <th>l</th>\n",
       "      <th></th>\n",
       "      <th></th>\n",
       "      <th></th>\n",
       "      <th></th>\n",
       "    </tr>\n",
       "  </thead>\n",
       "  <tbody>\n",
       "    <tr>\n",
       "      <th>0</th>\n",
       "      <td>2.596232</td>\n",
       "      <td>2.241391</td>\n",
       "      <td>5.002927</td>\n",
       "      <td>3.808259</td>\n",
       "    </tr>\n",
       "    <tr>\n",
       "      <th>1</th>\n",
       "      <td>2.729091</td>\n",
       "      <td>2.620212</td>\n",
       "      <td>5.470792</td>\n",
       "      <td>5.438404</td>\n",
       "    </tr>\n",
       "    <tr>\n",
       "      <th>2</th>\n",
       "      <td>2.942899</td>\n",
       "      <td>2.467333</td>\n",
       "      <td>6.477697</td>\n",
       "      <td>4.835054</td>\n",
       "    </tr>\n",
       "    <tr>\n",
       "      <th>3</th>\n",
       "      <td>2.846573</td>\n",
       "      <td>2.535872</td>\n",
       "      <td>6.544505</td>\n",
       "      <td>5.881089</td>\n",
       "    </tr>\n",
       "    <tr>\n",
       "      <th>4</th>\n",
       "      <td>2.828730</td>\n",
       "      <td>2.556809</td>\n",
       "      <td>6.454928</td>\n",
       "      <td>4.998028</td>\n",
       "    </tr>\n",
       "    <tr>\n",
       "      <th>5</th>\n",
       "      <td>2.779391</td>\n",
       "      <td>2.411849</td>\n",
       "      <td>6.346486</td>\n",
       "      <td>4.851334</td>\n",
       "    </tr>\n",
       "    <tr>\n",
       "      <th>6</th>\n",
       "      <td>2.749847</td>\n",
       "      <td>2.309956</td>\n",
       "      <td>6.291502</td>\n",
       "      <td>4.631292</td>\n",
       "    </tr>\n",
       "    <tr>\n",
       "      <th>7</th>\n",
       "      <td>2.660074</td>\n",
       "      <td>2.101164</td>\n",
       "      <td>6.068424</td>\n",
       "      <td>3.813747</td>\n",
       "    </tr>\n",
       "    <tr>\n",
       "      <th>8</th>\n",
       "      <td>2.662988</td>\n",
       "      <td>1.918132</td>\n",
       "      <td>6.025850</td>\n",
       "      <td>3.359917</td>\n",
       "    </tr>\n",
       "    <tr>\n",
       "      <th>9</th>\n",
       "      <td>2.716406</td>\n",
       "      <td>1.817307</td>\n",
       "      <td>6.424118</td>\n",
       "      <td>3.078375</td>\n",
       "    </tr>\n",
       "    <tr>\n",
       "      <th>10</th>\n",
       "      <td>2.726520</td>\n",
       "      <td>1.858763</td>\n",
       "      <td>6.350793</td>\n",
       "      <td>3.259076</td>\n",
       "    </tr>\n",
       "    <tr>\n",
       "      <th>11</th>\n",
       "      <td>2.850842</td>\n",
       "      <td>2.338023</td>\n",
       "      <td>6.387064</td>\n",
       "      <td>3.996299</td>\n",
       "    </tr>\n",
       "  </tbody>\n",
       "</table>\n",
       "</div>"
      ],
      "text/plain": [
       "     tmod_IE                              \n",
       "        mean                 std          \n",
       "m       attn       mlp      attn       mlp\n",
       "l                                         \n",
       "0   2.596232  2.241391  5.002927  3.808259\n",
       "1   2.729091  2.620212  5.470792  5.438404\n",
       "2   2.942899  2.467333  6.477697  4.835054\n",
       "3   2.846573  2.535872  6.544505  5.881089\n",
       "4   2.828730  2.556809  6.454928  4.998028\n",
       "5   2.779391  2.411849  6.346486  4.851334\n",
       "6   2.749847  2.309956  6.291502  4.631292\n",
       "7   2.660074  2.101164  6.068424  3.813747\n",
       "8   2.662988  1.918132  6.025850  3.359917\n",
       "9   2.716406  1.817307  6.424118  3.078375\n",
       "10  2.726520  1.858763  6.350793  3.259076\n",
       "11  2.850842  2.338023  6.387064  3.996299"
      ]
     },
     "execution_count": 28,
     "metadata": {},
     "output_type": "execute_result"
    }
   ],
   "source": [
    "df_tmod_ie.unstack(-1)"
   ]
  },
  {
   "cell_type": "code",
   "execution_count": 29,
   "metadata": {},
   "outputs": [
    {
     "data": {
      "text/html": [
       "<div>\n",
       "<style scoped>\n",
       "    .dataframe tbody tr th:only-of-type {\n",
       "        vertical-align: middle;\n",
       "    }\n",
       "\n",
       "    .dataframe tbody tr th {\n",
       "        vertical-align: top;\n",
       "    }\n",
       "\n",
       "    .dataframe thead tr th {\n",
       "        text-align: left;\n",
       "    }\n",
       "\n",
       "    .dataframe thead tr:last-of-type th {\n",
       "        text-align: right;\n",
       "    }\n",
       "</style>\n",
       "<table border=\"1\" class=\"dataframe\">\n",
       "  <thead>\n",
       "    <tr>\n",
       "      <th></th>\n",
       "      <th colspan=\"4\" halign=\"left\">omcd_IE</th>\n",
       "    </tr>\n",
       "    <tr>\n",
       "      <th></th>\n",
       "      <th colspan=\"2\" halign=\"left\">mean</th>\n",
       "      <th colspan=\"2\" halign=\"left\">std</th>\n",
       "    </tr>\n",
       "    <tr>\n",
       "      <th>m</th>\n",
       "      <th>attn</th>\n",
       "      <th>mlp</th>\n",
       "      <th>attn</th>\n",
       "      <th>mlp</th>\n",
       "    </tr>\n",
       "    <tr>\n",
       "      <th>l</th>\n",
       "      <th></th>\n",
       "      <th></th>\n",
       "      <th></th>\n",
       "      <th></th>\n",
       "    </tr>\n",
       "  </thead>\n",
       "  <tbody>\n",
       "    <tr>\n",
       "      <th>0</th>\n",
       "      <td>0.359047</td>\n",
       "      <td>0.058125</td>\n",
       "      <td>0.442029</td>\n",
       "      <td>0.084256</td>\n",
       "    </tr>\n",
       "    <tr>\n",
       "      <th>1</th>\n",
       "      <td>2.989029</td>\n",
       "      <td>2.408109</td>\n",
       "      <td>3.427487</td>\n",
       "      <td>3.709924</td>\n",
       "    </tr>\n",
       "    <tr>\n",
       "      <th>2</th>\n",
       "      <td>2.463498</td>\n",
       "      <td>1.876507</td>\n",
       "      <td>4.093031</td>\n",
       "      <td>2.059568</td>\n",
       "    </tr>\n",
       "    <tr>\n",
       "      <th>3</th>\n",
       "      <td>2.247659</td>\n",
       "      <td>1.712601</td>\n",
       "      <td>3.771080</td>\n",
       "      <td>1.791527</td>\n",
       "    </tr>\n",
       "    <tr>\n",
       "      <th>4</th>\n",
       "      <td>2.296415</td>\n",
       "      <td>1.724588</td>\n",
       "      <td>3.454904</td>\n",
       "      <td>1.727021</td>\n",
       "    </tr>\n",
       "    <tr>\n",
       "      <th>5</th>\n",
       "      <td>1.960788</td>\n",
       "      <td>2.584607</td>\n",
       "      <td>2.938638</td>\n",
       "      <td>2.908851</td>\n",
       "    </tr>\n",
       "    <tr>\n",
       "      <th>6</th>\n",
       "      <td>1.925964</td>\n",
       "      <td>2.396549</td>\n",
       "      <td>3.040526</td>\n",
       "      <td>2.686030</td>\n",
       "    </tr>\n",
       "    <tr>\n",
       "      <th>7</th>\n",
       "      <td>1.737966</td>\n",
       "      <td>1.918331</td>\n",
       "      <td>3.104494</td>\n",
       "      <td>1.963694</td>\n",
       "    </tr>\n",
       "    <tr>\n",
       "      <th>8</th>\n",
       "      <td>1.907174</td>\n",
       "      <td>1.694374</td>\n",
       "      <td>3.281666</td>\n",
       "      <td>1.674025</td>\n",
       "    </tr>\n",
       "    <tr>\n",
       "      <th>9</th>\n",
       "      <td>2.018796</td>\n",
       "      <td>1.569262</td>\n",
       "      <td>3.217344</td>\n",
       "      <td>1.574654</td>\n",
       "    </tr>\n",
       "    <tr>\n",
       "      <th>10</th>\n",
       "      <td>2.181782</td>\n",
       "      <td>1.631805</td>\n",
       "      <td>3.654496</td>\n",
       "      <td>1.689695</td>\n",
       "    </tr>\n",
       "    <tr>\n",
       "      <th>11</th>\n",
       "      <td>2.426785</td>\n",
       "      <td>2.506455</td>\n",
       "      <td>3.365925</td>\n",
       "      <td>2.629557</td>\n",
       "    </tr>\n",
       "  </tbody>\n",
       "</table>\n",
       "</div>"
      ],
      "text/plain": [
       "     omcd_IE                              \n",
       "        mean                 std          \n",
       "m       attn       mlp      attn       mlp\n",
       "l                                         \n",
       "0   0.359047  0.058125  0.442029  0.084256\n",
       "1   2.989029  2.408109  3.427487  3.709924\n",
       "2   2.463498  1.876507  4.093031  2.059568\n",
       "3   2.247659  1.712601  3.771080  1.791527\n",
       "4   2.296415  1.724588  3.454904  1.727021\n",
       "5   1.960788  2.584607  2.938638  2.908851\n",
       "6   1.925964  2.396549  3.040526  2.686030\n",
       "7   1.737966  1.918331  3.104494  1.963694\n",
       "8   1.907174  1.694374  3.281666  1.674025\n",
       "9   2.018796  1.569262  3.217344  1.574654\n",
       "10  2.181782  1.631805  3.654496  1.689695\n",
       "11  2.426785  2.506455  3.365925  2.629557"
      ]
     },
     "execution_count": 29,
     "metadata": {},
     "output_type": "execute_result"
    }
   ],
   "source": [
    "df_omcd_ie.unstack(-1)"
   ]
  },
  {
   "cell_type": "code",
   "execution_count": 30,
   "metadata": {},
   "outputs": [
    {
     "data": {
      "text/html": [
       "<div>\n",
       "<style scoped>\n",
       "    .dataframe tbody tr th:only-of-type {\n",
       "        vertical-align: middle;\n",
       "    }\n",
       "\n",
       "    .dataframe tbody tr th {\n",
       "        vertical-align: top;\n",
       "    }\n",
       "\n",
       "    .dataframe thead th {\n",
       "        text-align: right;\n",
       "    }\n",
       "</style>\n",
       "<table border=\"1\" class=\"dataframe\">\n",
       "  <thead>\n",
       "    <tr style=\"text-align: right;\">\n",
       "      <th></th>\n",
       "      <th>code</th>\n",
       "      <th>omcd_IE</th>\n",
       "      <th>TE</th>\n",
       "      <th>clean_loss</th>\n",
       "      <th>corrupted_loss</th>\n",
       "      <th>restored_loss</th>\n",
       "      <th>sent_id</th>\n",
       "      <th>l</th>\n",
       "      <th>m</th>\n",
       "    </tr>\n",
       "  </thead>\n",
       "  <tbody>\n",
       "    <tr>\n",
       "      <th>0</th>\n",
       "      <td>transformer.h.0.attn</td>\n",
       "      <td>0.205455</td>\n",
       "      <td>3.065850</td>\n",
       "      <td>24.447821</td>\n",
       "      <td>99.401182</td>\n",
       "      <td>29.470737</td>\n",
       "      <td>0</td>\n",
       "      <td>0</td>\n",
       "      <td>attn</td>\n",
       "    </tr>\n",
       "    <tr>\n",
       "      <th>24</th>\n",
       "      <td>transformer.h.0.attn</td>\n",
       "      <td>0.346638</td>\n",
       "      <td>4.484085</td>\n",
       "      <td>33.725719</td>\n",
       "      <td>184.954693</td>\n",
       "      <td>45.416318</td>\n",
       "      <td>1</td>\n",
       "      <td>0</td>\n",
       "      <td>attn</td>\n",
       "    </tr>\n",
       "    <tr>\n",
       "      <th>48</th>\n",
       "      <td>transformer.h.0.attn</td>\n",
       "      <td>0.363871</td>\n",
       "      <td>10.979901</td>\n",
       "      <td>11.963204</td>\n",
       "      <td>143.318003</td>\n",
       "      <td>16.316268</td>\n",
       "      <td>2</td>\n",
       "      <td>0</td>\n",
       "      <td>attn</td>\n",
       "    </tr>\n",
       "    <tr>\n",
       "      <th>72</th>\n",
       "      <td>transformer.h.0.attn</td>\n",
       "      <td>0.608681</td>\n",
       "      <td>7.578590</td>\n",
       "      <td>15.502882</td>\n",
       "      <td>132.992868</td>\n",
       "      <td>24.939189</td>\n",
       "      <td>3</td>\n",
       "      <td>0</td>\n",
       "      <td>attn</td>\n",
       "    </tr>\n",
       "    <tr>\n",
       "      <th>96</th>\n",
       "      <td>transformer.h.0.attn</td>\n",
       "      <td>0.038286</td>\n",
       "      <td>0.776935</td>\n",
       "      <td>20.832525</td>\n",
       "      <td>37.018049</td>\n",
       "      <td>21.630123</td>\n",
       "      <td>4</td>\n",
       "      <td>0</td>\n",
       "      <td>attn</td>\n",
       "    </tr>\n",
       "    <tr>\n",
       "      <th>...</th>\n",
       "      <td>...</td>\n",
       "      <td>...</td>\n",
       "      <td>...</td>\n",
       "      <td>...</td>\n",
       "      <td>...</td>\n",
       "      <td>...</td>\n",
       "      <td>...</td>\n",
       "      <td>...</td>\n",
       "      <td>...</td>\n",
       "    </tr>\n",
       "    <tr>\n",
       "      <th>349296</th>\n",
       "      <td>transformer.h.0.attn</td>\n",
       "      <td>0.050742</td>\n",
       "      <td>0.691646</td>\n",
       "      <td>21.892721</td>\n",
       "      <td>37.034725</td>\n",
       "      <td>23.003603</td>\n",
       "      <td>14554</td>\n",
       "      <td>0</td>\n",
       "      <td>attn</td>\n",
       "    </tr>\n",
       "    <tr>\n",
       "      <th>349320</th>\n",
       "      <td>transformer.h.0.attn</td>\n",
       "      <td>0.231943</td>\n",
       "      <td>3.061203</td>\n",
       "      <td>13.929048</td>\n",
       "      <td>56.568693</td>\n",
       "      <td>17.159790</td>\n",
       "      <td>14555</td>\n",
       "      <td>0</td>\n",
       "      <td>attn</td>\n",
       "    </tr>\n",
       "    <tr>\n",
       "      <th>349344</th>\n",
       "      <td>transformer.h.0.attn</td>\n",
       "      <td>0.180187</td>\n",
       "      <td>0.438961</td>\n",
       "      <td>14.547698</td>\n",
       "      <td>20.933567</td>\n",
       "      <td>17.169010</td>\n",
       "      <td>14556</td>\n",
       "      <td>0</td>\n",
       "      <td>attn</td>\n",
       "    </tr>\n",
       "    <tr>\n",
       "      <th>349368</th>\n",
       "      <td>transformer.h.0.attn</td>\n",
       "      <td>0.964715</td>\n",
       "      <td>6.660107</td>\n",
       "      <td>18.302065</td>\n",
       "      <td>140.195783</td>\n",
       "      <td>35.958338</td>\n",
       "      <td>14557</td>\n",
       "      <td>0</td>\n",
       "      <td>attn</td>\n",
       "    </tr>\n",
       "    <tr>\n",
       "      <th>349392</th>\n",
       "      <td>transformer.h.0.attn</td>\n",
       "      <td>0.286474</td>\n",
       "      <td>2.886472</td>\n",
       "      <td>34.281987</td>\n",
       "      <td>133.235973</td>\n",
       "      <td>44.102898</td>\n",
       "      <td>14558</td>\n",
       "      <td>0</td>\n",
       "      <td>attn</td>\n",
       "    </tr>\n",
       "  </tbody>\n",
       "</table>\n",
       "<p>14559 rows × 9 columns</p>\n",
       "</div>"
      ],
      "text/plain": [
       "                        code   omcd_IE         TE  clean_loss  corrupted_loss   \n",
       "0       transformer.h.0.attn  0.205455   3.065850   24.447821       99.401182  \\\n",
       "24      transformer.h.0.attn  0.346638   4.484085   33.725719      184.954693   \n",
       "48      transformer.h.0.attn  0.363871  10.979901   11.963204      143.318003   \n",
       "72      transformer.h.0.attn  0.608681   7.578590   15.502882      132.992868   \n",
       "96      transformer.h.0.attn  0.038286   0.776935   20.832525       37.018049   \n",
       "...                      ...       ...        ...         ...             ...   \n",
       "349296  transformer.h.0.attn  0.050742   0.691646   21.892721       37.034725   \n",
       "349320  transformer.h.0.attn  0.231943   3.061203   13.929048       56.568693   \n",
       "349344  transformer.h.0.attn  0.180187   0.438961   14.547698       20.933567   \n",
       "349368  transformer.h.0.attn  0.964715   6.660107   18.302065      140.195783   \n",
       "349392  transformer.h.0.attn  0.286474   2.886472   34.281987      133.235973   \n",
       "\n",
       "        restored_loss  sent_id  l     m  \n",
       "0           29.470737        0  0  attn  \n",
       "24          45.416318        1  0  attn  \n",
       "48          16.316268        2  0  attn  \n",
       "72          24.939189        3  0  attn  \n",
       "96          21.630123        4  0  attn  \n",
       "...               ...      ... ..   ...  \n",
       "349296      23.003603    14554  0  attn  \n",
       "349320      17.159790    14555  0  attn  \n",
       "349344      17.169010    14556  0  attn  \n",
       "349368      35.958338    14557  0  attn  \n",
       "349392      44.102898    14558  0  attn  \n",
       "\n",
       "[14559 rows x 9 columns]"
      ]
     },
     "execution_count": 30,
     "metadata": {},
     "output_type": "execute_result"
    }
   ],
   "source": [
    "df_omcd.loc[(df_omcd[\"l\"] == 0) & (df_omcd[\"m\"] == \"attn\")]"
   ]
  },
  {
   "cell_type": "markdown",
   "metadata": {},
   "source": [
    "### Mean"
   ]
  },
  {
   "cell_type": "code",
   "execution_count": 31,
   "metadata": {},
   "outputs": [
    {
     "data": {
      "text/plain": [
       "<Axes: xlabel='l', ylabel='None-None-m'>"
      ]
     },
     "execution_count": 31,
     "metadata": {},
     "output_type": "execute_result"
    },
    {
     "data": {
      "image/png": "[encoded data removed]",
      "text/plain": [
       "<Figure size 1000x500 with 2 Axes>"
      ]
     },
     "metadata": {},
     "output_type": "display_data"
    }
   ],
   "source": [
    "plt.rcParams[\"figure.figsize\"] = (10,5)\n",
    "\n",
    "sns.heatmap(\n",
    "    pd.concat(\n",
    "        [df_omcd_ie.drop([(\"omcd_IE\", \"std\")], axis=1).unstack(-1).T, \n",
    "         df_tmod_ie.drop([(\"tmod_IE\", \"std\")], axis=1).unstack(-1).T],\n",
    "        axis=0#, ignore_index=True\n",
    "    ),\n",
    "    cmap = 'viridis_r', annot=True\n",
    ")"
   ]
  },
  {
   "cell_type": "code",
   "execution_count": 32,
   "metadata": {},
   "outputs": [
    {
     "data": {
      "text/plain": [
       "(3.3904595559429067, 3.0319837091771245)"
      ]
     },
     "execution_count": 32,
     "metadata": {},
     "output_type": "execute_result"
    }
   ],
   "source": [
    "df_omcd[\"TE\"].mean(), df_tmod[\"TE\"].mean()"
   ]
  },
  {
   "cell_type": "markdown",
   "metadata": {},
   "source": [
    "### STD"
   ]
  },
  {
   "cell_type": "code",
   "execution_count": 33,
   "metadata": {},
   "outputs": [
    {
     "data": {
      "text/plain": [
       "<Axes: xlabel='l', ylabel='None-None-m'>"
      ]
     },
     "execution_count": 33,
     "metadata": {},
     "output_type": "execute_result"
    },
    {
     "data": {
      "image/png": "[encoded data removed]",
      "text/plain": [
       "<Figure size 1000x500 with 2 Axes>"
      ]
     },
     "metadata": {},
     "output_type": "display_data"
    }
   ],
   "source": [
    "plt.rcParams[\"figure.figsize\"] = (10,5)\n",
    "\n",
    "sns.heatmap(\n",
    "    pd.concat(\n",
    "        [df_omcd_ie.drop([(\"omcd_IE\", \"mean\")], axis=1).unstack(-1).T, \n",
    "         df_tmod_ie.drop([(\"tmod_IE\", \"mean\")], axis=1).unstack(-1).T],\n",
    "        axis=0#, ignore_index=True\n",
    "    ),\n",
    "    cmap = 'viridis_r', annot=True\n",
    ")"
   ]
  },
  {
   "cell_type": "code",
   "execution_count": 192,
   "metadata": {},
   "outputs": [
    {
     "data": {
      "text/html": [
       "<div>\n",
       "<style scoped>\n",
       "    .dataframe tbody tr th:only-of-type {\n",
       "        vertical-align: middle;\n",
       "    }\n",
       "\n",
       "    .dataframe tbody tr th {\n",
       "        vertical-align: top;\n",
       "    }\n",
       "\n",
       "    .dataframe thead tr th {\n",
       "        text-align: left;\n",
       "    }\n",
       "\n",
       "    .dataframe thead tr:last-of-type th {\n",
       "        text-align: right;\n",
       "    }\n",
       "</style>\n",
       "<table border=\"1\" class=\"dataframe\">\n",
       "  <thead>\n",
       "    <tr>\n",
       "      <th></th>\n",
       "      <th></th>\n",
       "      <th colspan=\"2\" halign=\"left\">tmod_IE</th>\n",
       "    </tr>\n",
       "    <tr>\n",
       "      <th></th>\n",
       "      <th></th>\n",
       "      <th>mean</th>\n",
       "      <th>std</th>\n",
       "    </tr>\n",
       "    <tr>\n",
       "      <th>l</th>\n",
       "      <th>m</th>\n",
       "      <th></th>\n",
       "      <th></th>\n",
       "    </tr>\n",
       "  </thead>\n",
       "  <tbody>\n",
       "    <tr>\n",
       "      <th rowspan=\"2\" valign=\"top\">0</th>\n",
       "      <th>attn</th>\n",
       "      <td>1.392550</td>\n",
       "      <td>4.755750</td>\n",
       "    </tr>\n",
       "    <tr>\n",
       "      <th>mlp</th>\n",
       "      <td>1.239698</td>\n",
       "      <td>5.352454</td>\n",
       "    </tr>\n",
       "    <tr>\n",
       "      <th rowspan=\"2\" valign=\"top\">1</th>\n",
       "      <th>attn</th>\n",
       "      <td>1.392361</td>\n",
       "      <td>5.056961</td>\n",
       "    </tr>\n",
       "    <tr>\n",
       "      <th>mlp</th>\n",
       "      <td>1.347994</td>\n",
       "      <td>5.546974</td>\n",
       "    </tr>\n",
       "    <tr>\n",
       "      <th rowspan=\"2\" valign=\"top\">2</th>\n",
       "      <th>attn</th>\n",
       "      <td>1.379095</td>\n",
       "      <td>5.367181</td>\n",
       "    </tr>\n",
       "    <tr>\n",
       "      <th>mlp</th>\n",
       "      <td>0.969292</td>\n",
       "      <td>4.091656</td>\n",
       "    </tr>\n",
       "    <tr>\n",
       "      <th rowspan=\"2\" valign=\"top\">3</th>\n",
       "      <th>attn</th>\n",
       "      <td>1.425283</td>\n",
       "      <td>5.418646</td>\n",
       "    </tr>\n",
       "    <tr>\n",
       "      <th>mlp</th>\n",
       "      <td>1.328863</td>\n",
       "      <td>4.971496</td>\n",
       "    </tr>\n",
       "    <tr>\n",
       "      <th rowspan=\"2\" valign=\"top\">4</th>\n",
       "      <th>attn</th>\n",
       "      <td>1.412697</td>\n",
       "      <td>5.753466</td>\n",
       "    </tr>\n",
       "    <tr>\n",
       "      <th>mlp</th>\n",
       "      <td>1.275896</td>\n",
       "      <td>4.335904</td>\n",
       "    </tr>\n",
       "    <tr>\n",
       "      <th rowspan=\"2\" valign=\"top\">5</th>\n",
       "      <th>attn</th>\n",
       "      <td>1.421866</td>\n",
       "      <td>5.498844</td>\n",
       "    </tr>\n",
       "    <tr>\n",
       "      <th>mlp</th>\n",
       "      <td>1.208429</td>\n",
       "      <td>4.135693</td>\n",
       "    </tr>\n",
       "    <tr>\n",
       "      <th rowspan=\"2\" valign=\"top\">6</th>\n",
       "      <th>attn</th>\n",
       "      <td>1.382109</td>\n",
       "      <td>5.340853</td>\n",
       "    </tr>\n",
       "    <tr>\n",
       "      <th>mlp</th>\n",
       "      <td>1.141260</td>\n",
       "      <td>4.321564</td>\n",
       "    </tr>\n",
       "    <tr>\n",
       "      <th rowspan=\"2\" valign=\"top\">7</th>\n",
       "      <th>attn</th>\n",
       "      <td>1.365664</td>\n",
       "      <td>5.306649</td>\n",
       "    </tr>\n",
       "    <tr>\n",
       "      <th>mlp</th>\n",
       "      <td>0.992000</td>\n",
       "      <td>3.205233</td>\n",
       "    </tr>\n",
       "    <tr>\n",
       "      <th rowspan=\"2\" valign=\"top\">8</th>\n",
       "      <th>attn</th>\n",
       "      <td>1.363969</td>\n",
       "      <td>5.716667</td>\n",
       "    </tr>\n",
       "    <tr>\n",
       "      <th>mlp</th>\n",
       "      <td>0.890063</td>\n",
       "      <td>3.271982</td>\n",
       "    </tr>\n",
       "    <tr>\n",
       "      <th rowspan=\"2\" valign=\"top\">9</th>\n",
       "      <th>attn</th>\n",
       "      <td>1.353166</td>\n",
       "      <td>5.365762</td>\n",
       "    </tr>\n",
       "    <tr>\n",
       "      <th>mlp</th>\n",
       "      <td>0.906373</td>\n",
       "      <td>3.711678</td>\n",
       "    </tr>\n",
       "    <tr>\n",
       "      <th rowspan=\"2\" valign=\"top\">10</th>\n",
       "      <th>attn</th>\n",
       "      <td>1.374312</td>\n",
       "      <td>5.537928</td>\n",
       "    </tr>\n",
       "    <tr>\n",
       "      <th>mlp</th>\n",
       "      <td>0.756289</td>\n",
       "      <td>2.345117</td>\n",
       "    </tr>\n",
       "    <tr>\n",
       "      <th rowspan=\"2\" valign=\"top\">11</th>\n",
       "      <th>attn</th>\n",
       "      <td>1.755053</td>\n",
       "      <td>6.847063</td>\n",
       "    </tr>\n",
       "    <tr>\n",
       "      <th>mlp</th>\n",
       "      <td>1.213411</td>\n",
       "      <td>3.752539</td>\n",
       "    </tr>\n",
       "  </tbody>\n",
       "</table>\n",
       "</div>"
      ],
      "text/plain": [
       "          tmod_IE          \n",
       "             mean       std\n",
       "l  m                       \n",
       "0  attn  1.392550  4.755750\n",
       "   mlp   1.239698  5.352454\n",
       "1  attn  1.392361  5.056961\n",
       "   mlp   1.347994  5.546974\n",
       "2  attn  1.379095  5.367181\n",
       "   mlp   0.969292  4.091656\n",
       "3  attn  1.425283  5.418646\n",
       "   mlp   1.328863  4.971496\n",
       "4  attn  1.412697  5.753466\n",
       "   mlp   1.275896  4.335904\n",
       "5  attn  1.421866  5.498844\n",
       "   mlp   1.208429  4.135693\n",
       "6  attn  1.382109  5.340853\n",
       "   mlp   1.141260  4.321564\n",
       "7  attn  1.365664  5.306649\n",
       "   mlp   0.992000  3.205233\n",
       "8  attn  1.363969  5.716667\n",
       "   mlp   0.890063  3.271982\n",
       "9  attn  1.353166  5.365762\n",
       "   mlp   0.906373  3.711678\n",
       "10 attn  1.374312  5.537928\n",
       "   mlp   0.756289  2.345117\n",
       "11 attn  1.755053  6.847063\n",
       "   mlp   1.213411  3.752539"
      ]
     },
     "execution_count": 192,
     "metadata": {},
     "output_type": "execute_result"
    }
   ],
   "source": [
    "df_tmod_ie"
   ]
  },
  {
   "cell_type": "code",
   "execution_count": 193,
   "metadata": {},
   "outputs": [
    {
     "data": {
      "text/html": [
       "<div>\n",
       "<style scoped>\n",
       "    .dataframe tbody tr th:only-of-type {\n",
       "        vertical-align: middle;\n",
       "    }\n",
       "\n",
       "    .dataframe tbody tr th {\n",
       "        vertical-align: top;\n",
       "    }\n",
       "\n",
       "    .dataframe thead tr th {\n",
       "        text-align: left;\n",
       "    }\n",
       "\n",
       "    .dataframe thead tr:last-of-type th {\n",
       "        text-align: right;\n",
       "    }\n",
       "</style>\n",
       "<table border=\"1\" class=\"dataframe\">\n",
       "  <thead>\n",
       "    <tr>\n",
       "      <th></th>\n",
       "      <th></th>\n",
       "      <th colspan=\"2\" halign=\"left\">omcd_IE</th>\n",
       "    </tr>\n",
       "    <tr>\n",
       "      <th></th>\n",
       "      <th></th>\n",
       "      <th>mean</th>\n",
       "      <th>std</th>\n",
       "    </tr>\n",
       "    <tr>\n",
       "      <th>l</th>\n",
       "      <th>m</th>\n",
       "      <th></th>\n",
       "      <th></th>\n",
       "    </tr>\n",
       "  </thead>\n",
       "  <tbody>\n",
       "    <tr>\n",
       "      <th rowspan=\"2\" valign=\"top\">0</th>\n",
       "      <th>attn</th>\n",
       "      <td>0.000000</td>\n",
       "      <td>0.000000</td>\n",
       "    </tr>\n",
       "    <tr>\n",
       "      <th>mlp</th>\n",
       "      <td>0.254446</td>\n",
       "      <td>0.880258</td>\n",
       "    </tr>\n",
       "    <tr>\n",
       "      <th rowspan=\"2\" valign=\"top\">1</th>\n",
       "      <th>attn</th>\n",
       "      <td>1.509759</td>\n",
       "      <td>6.338639</td>\n",
       "    </tr>\n",
       "    <tr>\n",
       "      <th>mlp</th>\n",
       "      <td>1.088170</td>\n",
       "      <td>5.017040</td>\n",
       "    </tr>\n",
       "    <tr>\n",
       "      <th rowspan=\"2\" valign=\"top\">2</th>\n",
       "      <th>attn</th>\n",
       "      <td>0.805924</td>\n",
       "      <td>5.049498</td>\n",
       "    </tr>\n",
       "    <tr>\n",
       "      <th>mlp</th>\n",
       "      <td>0.895984</td>\n",
       "      <td>3.699546</td>\n",
       "    </tr>\n",
       "    <tr>\n",
       "      <th rowspan=\"2\" valign=\"top\">3</th>\n",
       "      <th>attn</th>\n",
       "      <td>0.806140</td>\n",
       "      <td>4.403909</td>\n",
       "    </tr>\n",
       "    <tr>\n",
       "      <th>mlp</th>\n",
       "      <td>0.765413</td>\n",
       "      <td>7.922298</td>\n",
       "    </tr>\n",
       "    <tr>\n",
       "      <th rowspan=\"2\" valign=\"top\">4</th>\n",
       "      <th>attn</th>\n",
       "      <td>0.861360</td>\n",
       "      <td>6.070074</td>\n",
       "    </tr>\n",
       "    <tr>\n",
       "      <th>mlp</th>\n",
       "      <td>0.769589</td>\n",
       "      <td>2.782282</td>\n",
       "    </tr>\n",
       "    <tr>\n",
       "      <th rowspan=\"2\" valign=\"top\">5</th>\n",
       "      <th>attn</th>\n",
       "      <td>0.820727</td>\n",
       "      <td>3.976727</td>\n",
       "    </tr>\n",
       "    <tr>\n",
       "      <th>mlp</th>\n",
       "      <td>0.734714</td>\n",
       "      <td>3.754888</td>\n",
       "    </tr>\n",
       "    <tr>\n",
       "      <th rowspan=\"2\" valign=\"top\">6</th>\n",
       "      <th>attn</th>\n",
       "      <td>0.802472</td>\n",
       "      <td>4.274798</td>\n",
       "    </tr>\n",
       "    <tr>\n",
       "      <th>mlp</th>\n",
       "      <td>0.686684</td>\n",
       "      <td>2.627810</td>\n",
       "    </tr>\n",
       "    <tr>\n",
       "      <th rowspan=\"2\" valign=\"top\">7</th>\n",
       "      <th>attn</th>\n",
       "      <td>0.850917</td>\n",
       "      <td>6.900412</td>\n",
       "    </tr>\n",
       "    <tr>\n",
       "      <th>mlp</th>\n",
       "      <td>0.633919</td>\n",
       "      <td>1.725676</td>\n",
       "    </tr>\n",
       "    <tr>\n",
       "      <th rowspan=\"2\" valign=\"top\">8</th>\n",
       "      <th>attn</th>\n",
       "      <td>0.907005</td>\n",
       "      <td>8.791721</td>\n",
       "    </tr>\n",
       "    <tr>\n",
       "      <th>mlp</th>\n",
       "      <td>0.662103</td>\n",
       "      <td>2.859513</td>\n",
       "    </tr>\n",
       "    <tr>\n",
       "      <th rowspan=\"2\" valign=\"top\">9</th>\n",
       "      <th>attn</th>\n",
       "      <td>0.874409</td>\n",
       "      <td>4.616572</td>\n",
       "    </tr>\n",
       "    <tr>\n",
       "      <th>mlp</th>\n",
       "      <td>0.624362</td>\n",
       "      <td>3.218762</td>\n",
       "    </tr>\n",
       "    <tr>\n",
       "      <th rowspan=\"2\" valign=\"top\">10</th>\n",
       "      <th>attn</th>\n",
       "      <td>0.948723</td>\n",
       "      <td>6.384575</td>\n",
       "    </tr>\n",
       "    <tr>\n",
       "      <th>mlp</th>\n",
       "      <td>0.637038</td>\n",
       "      <td>5.260665</td>\n",
       "    </tr>\n",
       "    <tr>\n",
       "      <th rowspan=\"2\" valign=\"top\">11</th>\n",
       "      <th>attn</th>\n",
       "      <td>0.897728</td>\n",
       "      <td>4.863683</td>\n",
       "    </tr>\n",
       "    <tr>\n",
       "      <th>mlp</th>\n",
       "      <td>0.794367</td>\n",
       "      <td>4.932191</td>\n",
       "    </tr>\n",
       "  </tbody>\n",
       "</table>\n",
       "</div>"
      ],
      "text/plain": [
       "          omcd_IE          \n",
       "             mean       std\n",
       "l  m                       \n",
       "0  attn  0.000000  0.000000\n",
       "   mlp   0.254446  0.880258\n",
       "1  attn  1.509759  6.338639\n",
       "   mlp   1.088170  5.017040\n",
       "2  attn  0.805924  5.049498\n",
       "   mlp   0.895984  3.699546\n",
       "3  attn  0.806140  4.403909\n",
       "   mlp   0.765413  7.922298\n",
       "4  attn  0.861360  6.070074\n",
       "   mlp   0.769589  2.782282\n",
       "5  attn  0.820727  3.976727\n",
       "   mlp   0.734714  3.754888\n",
       "6  attn  0.802472  4.274798\n",
       "   mlp   0.686684  2.627810\n",
       "7  attn  0.850917  6.900412\n",
       "   mlp   0.633919  1.725676\n",
       "8  attn  0.907005  8.791721\n",
       "   mlp   0.662103  2.859513\n",
       "9  attn  0.874409  4.616572\n",
       "   mlp   0.624362  3.218762\n",
       "10 attn  0.948723  6.384575\n",
       "   mlp   0.637038  5.260665\n",
       "11 attn  0.897728  4.863683\n",
       "   mlp   0.794367  4.932191"
      ]
     },
     "execution_count": 193,
     "metadata": {},
     "output_type": "execute_result"
    }
   ],
   "source": [
    "df_omcd_ie"
   ]
  },
  {
   "cell_type": "code",
   "execution_count": null,
   "metadata": {},
   "outputs": [],
   "source": []
  },
  {
   "cell_type": "code",
   "execution_count": null,
   "metadata": {},
   "outputs": [],
   "source": []
  },
  {
   "cell_type": "code",
   "execution_count": null,
   "metadata": {},
   "outputs": [],
   "source": []
  },
  {
   "cell_type": "code",
   "execution_count": null,
   "metadata": {},
   "outputs": [],
   "source": []
  },
  {
   "cell_type": "code",
   "execution_count": null,
   "metadata": {},
   "outputs": [],
   "source": []
  },
  {
   "cell_type": "code",
   "execution_count": null,
   "metadata": {},
   "outputs": [],
   "source": []
  },
  {
   "cell_type": "code",
   "execution_count": null,
   "metadata": {},
   "outputs": [],
   "source": []
  },
  {
   "cell_type": "code",
   "execution_count": null,
   "metadata": {},
   "outputs": [],
   "source": []
  },
  {
   "cell_type": "code",
   "execution_count": null,
   "metadata": {},
   "outputs": [],
   "source": []
  },
  {
   "cell_type": "code",
   "execution_count": null,
   "metadata": {},
   "outputs": [],
   "source": []
  },
  {
   "cell_type": "markdown",
   "metadata": {},
   "source": [
    "# Model"
   ]
  },
  {
   "cell_type": "code",
   "execution_count": null,
   "metadata": {},
   "outputs": [],
   "source": []
  },
  {
   "cell_type": "markdown",
   "metadata": {},
   "source": [
    "## load models"
   ]
  },
  {
   "cell_type": "code",
   "execution_count": 23,
   "metadata": {},
   "outputs": [],
   "source": [
    "base_model = GPT2LMHeadModel.from_pretrained(\"gpt2\", cache_dir=cache_dir).to(device_id)\n",
    "gpt2_tokenizer = GPT2Tokenizer.from_pretrained(tuned_model_path)\n",
    "tuned_model = GPT2LMHeadModel.from_pretrained(tuned_model_path).to(device_id)"
   ]
  },
  {
   "cell_type": "code",
   "execution_count": null,
   "metadata": {},
   "outputs": [],
   "source": [
    "# base_model = GPT2LMHeadModel.from_pretrained(\"gpt2\").to(device_id)\n",
    "# tuned_model = GPT2LMHeadModel.from_pretrained(tuned_model_path).to(device_id)"
   ]
  },
  {
   "cell_type": "code",
   "execution_count": null,
   "metadata": {},
   "outputs": [],
   "source": [
    "# diff_weights = {}\n",
    "# for tuned_tup, base_tup in zip(list(tuned_model.named_parameters()), list(base_model.named_parameters())):\n",
    "#     diff_weights[tuned_tup[0]] = torch.abs(tuned_tup[1] - base_tup[1]).mean().item()\n",
    "    \n",
    "# diff_weights"
   ]
  },
  {
   "cell_type": "markdown",
   "metadata": {},
   "source": [
    "# Data"
   ]
  },
  {
   "cell_type": "code",
   "execution_count": null,
   "metadata": {},
   "outputs": [],
   "source": []
  },
  {
   "cell_type": "code",
   "execution_count": null,
   "metadata": {},
   "outputs": [],
   "source": []
  },
  {
   "cell_type": "code",
   "execution_count": null,
   "metadata": {},
   "outputs": [],
   "source": []
  },
  {
   "cell_type": "code",
   "execution_count": null,
   "metadata": {},
   "outputs": [],
   "source": []
  },
  {
   "cell_type": "code",
   "execution_count": null,
   "metadata": {},
   "outputs": [],
   "source": []
  },
  {
   "cell_type": "code",
   "execution_count": null,
   "metadata": {},
   "outputs": [],
   "source": []
  },
  {
   "cell_type": "code",
   "execution_count": null,
   "metadata": {},
   "outputs": [],
   "source": []
  },
  {
   "cell_type": "code",
   "execution_count": null,
   "metadata": {},
   "outputs": [],
   "source": []
  },
  {
   "cell_type": "code",
   "execution_count": null,
   "metadata": {},
   "outputs": [],
   "source": []
  },
  {
   "cell_type": "code",
   "execution_count": null,
   "metadata": {},
   "outputs": [],
   "source": []
  },
  {
   "cell_type": "code",
   "execution_count": null,
   "metadata": {},
   "outputs": [],
   "source": []
  },
  {
   "cell_type": "code",
   "execution_count": null,
   "metadata": {},
   "outputs": [],
   "source": []
  },
  {
   "cell_type": "code",
   "execution_count": null,
   "metadata": {},
   "outputs": [],
   "source": []
  },
  {
   "cell_type": "code",
   "execution_count": null,
   "metadata": {},
   "outputs": [],
   "source": []
  },
  {
   "cell_type": "code",
   "execution_count": 22,
   "metadata": {},
   "outputs": [
    {
     "name": "stderr",
     "output_type": "stream",
     "text": [
      "Found cached dataset m2d2 (/rds/general/user/jj1122/ephemeral/.cache/huggingface/machelreid___m2d2/Religion_and_belief_systems/0.0.0/eb235f33a5de3163c10549b7f63c906910539c8a8c0ec5ade1285ccbf5067d00)\n",
      "100%|██████████| 3/3 [00:00<00:00, 229.65it/s]\n"
     ]
    }
   ],
   "source": [
    "dataset = load_dataset(\"machelreid/m2d2\", dataset_nm, cache_dir=cache_dir)"
   ]
  },
  {
   "cell_type": "code",
   "execution_count": null,
   "metadata": {},
   "outputs": [],
   "source": [
    "# np.random.seed(718)\n",
    "\n",
    "# x = 10 * np.random.randint(100000)\n",
    "\n",
    "# dataset['train']['text'][x:x+10]"
   ]
  },
  {
   "cell_type": "code",
   "execution_count": null,
   "metadata": {},
   "outputs": [],
   "source": [
    "# # input_text = \"He was a religious scholar and a prolific writer. Many of his works are used as references for church members\"\n",
    "\n",
    "# # input_text = \"In popular and media culture, Anubis is often falsely portrayed as the sinister god of the dead\"\n",
    "\n",
    "# # input_text = \"Ankou appears as a man or skeleton wearing a black robe and a large hat which conceals his face, or, on occasion, simply as a shadow\"\n",
    "\n",
    "# # input_text = \"Zechariah's vision of recently deceased Joshua the High Priest depicts a dispute in the heavenly throne room between Satan and the Angel of the Lord\"\n",
    "\n",
    "# input_text = \"The Transcendental Argument for the Existence of God (TAG) is the argument that attempts to prove the existence of God by arguing that logic, morals, and science ultimately presuppose a supreme being and that God must therefore be the source of logic and morals\"\n"
   ]
  },
  {
   "cell_type": "code",
   "execution_count": 24,
   "metadata": {},
   "outputs": [],
   "source": [
    "list_test_data = [x for x in dataset['test']['text'].copy() if x!=''] "
   ]
  },
  {
   "cell_type": "code",
   "execution_count": 25,
   "metadata": {},
   "outputs": [],
   "source": [
    "def load_model():\n",
    "    return GPT2LMHeadModel.from_pretrained(tuned_model_path).to(device_id)"
   ]
  },
  {
   "cell_type": "code",
   "execution_count": 26,
   "metadata": {},
   "outputs": [],
   "source": [
    "def save_clean_activation(m_id):\n",
    "    def save_clean_activation_hook(module, _input, _output):\n",
    "#         print(m_id, _output.shape)\n",
    "        if m_id.endswith('attn'):\n",
    "            clean_activations[m_id] = _output[0].detach()\n",
    "        elif m_id.endswith('mlp'):\n",
    "#         else:\n",
    "            clean_activations[m_id] = _output.detach()\n",
    "    return save_clean_activation_hook\n",
    "\n",
    "\n",
    "def corrupt_input_vector(module, _input):#, _output):\n",
    "    torch.manual_seed(718)\n",
    "    std = torch.std(_input[0])\n",
    "    return tuple([_input[0] + (std*1.5) * torch.randn(_input[0].shape).to(device_id), ])\n",
    "\n",
    "def restore_activation(m_id):\n",
    "    def restore_activation_hook(module, _input, _output):\n",
    "        clean_activation = clean_activations[m_id]#[:, t]\n",
    "        if m_id.endswith('attn'):\n",
    "#             corrupted_activation = _output[0].detach()\n",
    "#             base_output[:, t] = tuned_output\n",
    "#             corrupted_activation = clean_activation\n",
    "            return tuple([clean_activation, tuple([_output[1][0], _output[1][1]])])\n",
    "        elif m_id.endswith('mlp'):           \n",
    "            base_output = _output.detach()\n",
    "#             base_output[:, t] = tuned_output\n",
    "            base_output = clean_activation\n",
    "            return base_output\n",
    "    return restore_activation_hook"
   ]
  },
  {
   "cell_type": "code",
   "execution_count": null,
   "metadata": {},
   "outputs": [],
   "source": [
    "def restore_activation(m_id):\n",
    "    def restore_activation_hook(module, _input, _output):\n",
    "        clean_activation = clean_activations[m_id]\n",
    "        if m_id.endswith('attn'):\n",
    "            return tuple([clean_activation, tuple([_output[1][0], _output[1][1]])])\n",
    "        elif m_id.endswith('mlp'):           \n",
    "            base_output = _output.detach()\n",
    "            base_output = clean_activation\n",
    "            return base_output\n",
    "    return restore_activation_hook"
   ]
  },
  {
   "cell_type": "code",
   "execution_count": 27,
   "metadata": {},
   "outputs": [],
   "source": [
    "def corrupt_input_vector(module, _input):#, _output):\n",
    "    torch.manual_seed(718)\n",
    "    std = torch.std(_input[0])\n",
    "    return tuple([_input[0] + (std*1.5) * torch.randn(_input[0].shape).to(device_id), ])"
   ]
  },
  {
   "cell_type": "code",
   "execution_count": 28,
   "metadata": {},
   "outputs": [],
   "source": [
    "def restore_activation(m_id):\n",
    "    def restore_activation_hook(module, _input, _output):\n",
    "        clean_activation = clean_activations[m_id]#[:, t]\n",
    "        if m_id.endswith('attn'):\n",
    "#             corrupted_activation = _output[0].detach()\n",
    "#             base_output[:, t] = tuned_output\n",
    "#             corrupted_activation = clean_activation\n",
    "            return tuple([clean_activation, tuple([_output[1][0], _output[1][1]])])\n",
    "        elif m_id.endswith('mlp'):           \n",
    "            base_output = _output.detach()\n",
    "#             base_output[:, t] = tuned_output\n",
    "            base_output = clean_activation\n",
    "            return base_output\n",
    "    return restore_activation_hook"
   ]
  },
  {
   "cell_type": "code",
   "execution_count": null,
   "metadata": {},
   "outputs": [],
   "source": []
  },
  {
   "cell_type": "markdown",
   "metadata": {},
   "source": [
    "## 10:45"
   ]
  },
  {
   "cell_type": "code",
   "execution_count": 30,
   "metadata": {},
   "outputs": [
    {
     "name": "stdout",
     "output_type": "stream",
     "text": [
      "input_idx: 0\n",
      "input_idx: 1000\n",
      "input_idx: 2000\n",
      "input_idx: 3000\n"
     ]
    },
    {
     "ename": "KeyboardInterrupt",
     "evalue": "",
     "output_type": "error",
     "traceback": [
      "\u001b[0;31m---------------------------------------------------------------------------\u001b[0m",
      "\u001b[0;31mKeyboardInterrupt\u001b[0m                         Traceback (most recent call last)",
      "Cell \u001b[0;32mIn[30], line 30\u001b[0m\n\u001b[1;32m     27\u001b[0m     clean_loss \u001b[38;5;241m=\u001b[39m np\u001b[38;5;241m.\u001b[39mexp(clean_outputs\u001b[38;5;241m.\u001b[39mloss\u001b[38;5;241m.\u001b[39mitem())\n\u001b[1;32m     29\u001b[0m \u001b[38;5;66;03m# Second run: corrupted run    \u001b[39;00m\n\u001b[0;32m---> 30\u001b[0m tuned_model \u001b[38;5;241m=\u001b[39m \u001b[43mload_model\u001b[49m\u001b[43m(\u001b[49m\u001b[43m)\u001b[49m\n\u001b[1;32m     31\u001b[0m tuned_model\u001b[38;5;241m.\u001b[39mget_submodule(\u001b[38;5;124m\"\u001b[39m\u001b[38;5;124mtransformer.h.0.attn\u001b[39m\u001b[38;5;124m\"\u001b[39m)\u001b[38;5;241m.\u001b[39mregister_forward_pre_hook(corrupt_input_vector)    \n\u001b[1;32m     32\u001b[0m \u001b[38;5;28;01mwith\u001b[39;00m torch\u001b[38;5;241m.\u001b[39mno_grad():\n",
      "Cell \u001b[0;32mIn[25], line 2\u001b[0m, in \u001b[0;36mload_model\u001b[0;34m()\u001b[0m\n\u001b[1;32m      1\u001b[0m \u001b[38;5;28;01mdef\u001b[39;00m \u001b[38;5;21mload_model\u001b[39m():\n\u001b[0;32m----> 2\u001b[0m     \u001b[38;5;28;01mreturn\u001b[39;00m \u001b[43mGPT2LMHeadModel\u001b[49m\u001b[38;5;241;43m.\u001b[39;49m\u001b[43mfrom_pretrained\u001b[49m\u001b[43m(\u001b[49m\u001b[43mtuned_model_path\u001b[49m\u001b[43m)\u001b[49m\u001b[38;5;241m.\u001b[39mto(device_id)\n",
      "File \u001b[0;32m~/projects/m2d2/transformers/src/transformers/modeling_utils.py:2619\u001b[0m, in \u001b[0;36mPreTrainedModel.from_pretrained\u001b[0;34m(cls, pretrained_model_name_or_path, *model_args, **kwargs)\u001b[0m\n\u001b[1;32m   2616\u001b[0m     init_contexts\u001b[38;5;241m.\u001b[39mappend(init_empty_weights())\n\u001b[1;32m   2618\u001b[0m \u001b[38;5;28;01mwith\u001b[39;00m ContextManagers(init_contexts):\n\u001b[0;32m-> 2619\u001b[0m     model \u001b[38;5;241m=\u001b[39m \u001b[38;5;28;43mcls\u001b[39;49m\u001b[43m(\u001b[49m\u001b[43mconfig\u001b[49m\u001b[43m,\u001b[49m\u001b[43m \u001b[49m\u001b[38;5;241;43m*\u001b[39;49m\u001b[43mmodel_args\u001b[49m\u001b[43m,\u001b[49m\u001b[43m \u001b[49m\u001b[38;5;241;43m*\u001b[39;49m\u001b[38;5;241;43m*\u001b[39;49m\u001b[43mmodel_kwargs\u001b[49m\u001b[43m)\u001b[49m\n\u001b[1;32m   2621\u001b[0m \u001b[38;5;66;03m# Check first if we are `from_pt`\u001b[39;00m\n\u001b[1;32m   2622\u001b[0m \u001b[38;5;28;01mif\u001b[39;00m use_keep_in_fp32_modules:\n",
      "File \u001b[0;32m~/projects/m2d2/transformers/src/transformers/models/gpt2/modeling_gpt2.py:962\u001b[0m, in \u001b[0;36mGPT2LMHeadModel.__init__\u001b[0;34m(self, config)\u001b[0m\n\u001b[1;32m    960\u001b[0m \u001b[38;5;28msuper\u001b[39m()\u001b[38;5;241m.\u001b[39m\u001b[38;5;21m__init__\u001b[39m(config)\n\u001b[1;32m    961\u001b[0m \u001b[38;5;28mself\u001b[39m\u001b[38;5;241m.\u001b[39mtransformer \u001b[38;5;241m=\u001b[39m GPT2Model(config)\n\u001b[0;32m--> 962\u001b[0m \u001b[38;5;28mself\u001b[39m\u001b[38;5;241m.\u001b[39mlm_head \u001b[38;5;241m=\u001b[39m \u001b[43mnn\u001b[49m\u001b[38;5;241;43m.\u001b[39;49m\u001b[43mLinear\u001b[49m\u001b[43m(\u001b[49m\u001b[43mconfig\u001b[49m\u001b[38;5;241;43m.\u001b[39;49m\u001b[43mn_embd\u001b[49m\u001b[43m,\u001b[49m\u001b[43m \u001b[49m\u001b[43mconfig\u001b[49m\u001b[38;5;241;43m.\u001b[39;49m\u001b[43mvocab_size\u001b[49m\u001b[43m,\u001b[49m\u001b[43m \u001b[49m\u001b[43mbias\u001b[49m\u001b[38;5;241;43m=\u001b[39;49m\u001b[38;5;28;43;01mFalse\u001b[39;49;00m\u001b[43m)\u001b[49m\n\u001b[1;32m    964\u001b[0m \u001b[38;5;66;03m# Model parallel\u001b[39;00m\n\u001b[1;32m    965\u001b[0m \u001b[38;5;28mself\u001b[39m\u001b[38;5;241m.\u001b[39mmodel_parallel \u001b[38;5;241m=\u001b[39m \u001b[38;5;28;01mFalse\u001b[39;00m\n",
      "File \u001b[0;32m~/anaconda3/envs/m2d2/lib/python3.10/site-packages/torch/nn/modules/linear.py:101\u001b[0m, in \u001b[0;36mLinear.__init__\u001b[0;34m(self, in_features, out_features, bias, device, dtype)\u001b[0m\n\u001b[1;32m     99\u001b[0m \u001b[38;5;28;01melse\u001b[39;00m:\n\u001b[1;32m    100\u001b[0m     \u001b[38;5;28mself\u001b[39m\u001b[38;5;241m.\u001b[39mregister_parameter(\u001b[38;5;124m'\u001b[39m\u001b[38;5;124mbias\u001b[39m\u001b[38;5;124m'\u001b[39m, \u001b[38;5;28;01mNone\u001b[39;00m)\n\u001b[0;32m--> 101\u001b[0m \u001b[38;5;28;43mself\u001b[39;49m\u001b[38;5;241;43m.\u001b[39;49m\u001b[43mreset_parameters\u001b[49m\u001b[43m(\u001b[49m\u001b[43m)\u001b[49m\n",
      "File \u001b[0;32m~/anaconda3/envs/m2d2/lib/python3.10/site-packages/torch/nn/modules/linear.py:107\u001b[0m, in \u001b[0;36mLinear.reset_parameters\u001b[0;34m(self)\u001b[0m\n\u001b[1;32m    103\u001b[0m \u001b[38;5;28;01mdef\u001b[39;00m \u001b[38;5;21mreset_parameters\u001b[39m(\u001b[38;5;28mself\u001b[39m) \u001b[38;5;241m-\u001b[39m\u001b[38;5;241m>\u001b[39m \u001b[38;5;28;01mNone\u001b[39;00m:\n\u001b[1;32m    104\u001b[0m     \u001b[38;5;66;03m# Setting a=sqrt(5) in kaiming_uniform is the same as initializing with\u001b[39;00m\n\u001b[1;32m    105\u001b[0m     \u001b[38;5;66;03m# uniform(-1/sqrt(in_features), 1/sqrt(in_features)). For details, see\u001b[39;00m\n\u001b[1;32m    106\u001b[0m     \u001b[38;5;66;03m# https://github.com/pytorch/pytorch/issues/57109\u001b[39;00m\n\u001b[0;32m--> 107\u001b[0m     \u001b[43minit\u001b[49m\u001b[38;5;241;43m.\u001b[39;49m\u001b[43mkaiming_uniform_\u001b[49m\u001b[43m(\u001b[49m\u001b[38;5;28;43mself\u001b[39;49m\u001b[38;5;241;43m.\u001b[39;49m\u001b[43mweight\u001b[49m\u001b[43m,\u001b[49m\u001b[43m \u001b[49m\u001b[43ma\u001b[49m\u001b[38;5;241;43m=\u001b[39;49m\u001b[43mmath\u001b[49m\u001b[38;5;241;43m.\u001b[39;49m\u001b[43msqrt\u001b[49m\u001b[43m(\u001b[49m\u001b[38;5;241;43m5\u001b[39;49m\u001b[43m)\u001b[49m\u001b[43m)\u001b[49m\n\u001b[1;32m    108\u001b[0m     \u001b[38;5;28;01mif\u001b[39;00m \u001b[38;5;28mself\u001b[39m\u001b[38;5;241m.\u001b[39mbias \u001b[38;5;129;01mis\u001b[39;00m \u001b[38;5;129;01mnot\u001b[39;00m \u001b[38;5;28;01mNone\u001b[39;00m:\n\u001b[1;32m    109\u001b[0m         fan_in, _ \u001b[38;5;241m=\u001b[39m init\u001b[38;5;241m.\u001b[39m_calculate_fan_in_and_fan_out(\u001b[38;5;28mself\u001b[39m\u001b[38;5;241m.\u001b[39mweight)\n",
      "File \u001b[0;32m~/anaconda3/envs/m2d2/lib/python3.10/site-packages/torch/nn/init.py:412\u001b[0m, in \u001b[0;36mkaiming_uniform_\u001b[0;34m(tensor, a, mode, nonlinearity)\u001b[0m\n\u001b[1;32m    410\u001b[0m bound \u001b[38;5;241m=\u001b[39m math\u001b[38;5;241m.\u001b[39msqrt(\u001b[38;5;241m3.0\u001b[39m) \u001b[38;5;241m*\u001b[39m std  \u001b[38;5;66;03m# Calculate uniform bounds from standard deviation\u001b[39;00m\n\u001b[1;32m    411\u001b[0m \u001b[38;5;28;01mwith\u001b[39;00m torch\u001b[38;5;241m.\u001b[39mno_grad():\n\u001b[0;32m--> 412\u001b[0m     \u001b[38;5;28;01mreturn\u001b[39;00m \u001b[43mtensor\u001b[49m\u001b[38;5;241;43m.\u001b[39;49m\u001b[43muniform_\u001b[49m\u001b[43m(\u001b[49m\u001b[38;5;241;43m-\u001b[39;49m\u001b[43mbound\u001b[49m\u001b[43m,\u001b[49m\u001b[43m \u001b[49m\u001b[43mbound\u001b[49m\u001b[43m)\u001b[49m\n",
      "\u001b[0;31mKeyboardInterrupt\u001b[0m: "
     ]
    }
   ],
   "source": [
    "list_results = [{} for x in range(len(list_test_data)) if x != \"\"]\n",
    "\n",
    "for input_idx, input_text in enumerate(list_test_data):\n",
    "    \n",
    "    if input_idx % 1000 == 0:\n",
    "        print(f\"input_idx: {input_idx}\")\n",
    "    \n",
    "    inputs = gpt2_tokenizer(input_text, return_tensors=\"pt\").to(device_id)\n",
    "    n_tokens = inputs['input_ids'].shape[1]\n",
    "    \n",
    "    list_input_text = gpt2_tokenizer.convert_ids_to_tokens(inputs['input_ids'][0].cpu().numpy())\n",
    "\n",
    "    for idx in range(1, n_tokens):\n",
    "        if not list_input_text[idx].startswith(\"Ġ\"):\n",
    "            list_input_text[idx-1] = list_input_text[idx-1] + \"##\"\n",
    "        list_input_text[idx] = list_input_text[idx].replace(\"Ġ\", \"\")\n",
    "        \n",
    "    # First run: clean run\n",
    "    clean_activations = {}\n",
    "    tuned_model = load_model()\n",
    "    for m_id in list_trace_module_ids:\n",
    "        tuned_model.get_submodule(m_id).register_forward_hook(save_clean_activation(m_id))\n",
    "        \n",
    "    with torch.no_grad():\n",
    "        tuned_model.eval()\n",
    "        clean_outputs = tuned_model(**inputs, labels=inputs.input_ids, output_hidden_states=True)    \n",
    "        clean_loss = np.exp(clean_outputs.loss.item())\n",
    "    \n",
    "    # Second run: corrupted run    \n",
    "    tuned_model = load_model()\n",
    "    tuned_model.get_submodule(\"transformer.h.0.attn\").register_forward_pre_hook(corrupt_input_vector)    \n",
    "    with torch.no_grad():\n",
    "        torch.manual_seed(718)\n",
    "        set_seed(718)\n",
    "        tuned_model.eval()\n",
    "        corrupted_outputs = tuned_model(**inputs, labels=inputs.input_ids, output_hidden_states=True)\n",
    "        corrupted_loss = np.exp(corrupted_outputs.loss.item())\n",
    "        \n",
    "    corrupted_loss    \n",
    "\n",
    "    # Third run: corrupted-with-restoration run    \n",
    "    restored_loss = {}\n",
    "    tuned_model = GPT2LMHeadModel.from_pretrained(tuned_model_path).to(device_id)\n",
    "\n",
    "    with torch.no_grad():\n",
    "        tuned_model.eval()\n",
    "        tuned_model.get_submodule(\"transformer.h.0.attn\").register_forward_pre_hook(corrupt_input_vector)\n",
    "        for m_id in list_trace_module_ids:\n",
    "            hook = tuned_model.get_submodule(m_id).register_forward_hook(restore_activation(m_id))\n",
    "            restored_outputs = tuned_model(**inputs, labels=inputs.input_ids, output_hidden_states=True)\n",
    "            restored_loss[m_id] = np.exp(restored_outputs.loss.item())\n",
    "            hook.remove()\n",
    "            \n",
    "    list_results[input_idx]['clean_loss'] = clean_loss\n",
    "    list_results[input_idx]['corrupted_loss'] = corrupted_loss\n",
    "    list_results[input_idx]['restored_loss'] = restored_loss"
   ]
  },
  {
   "cell_type": "code",
   "execution_count": 32,
   "metadata": {},
   "outputs": [],
   "source": [
    "import pickle as pkl\n",
    "with open('230607_run_outputs.pkl', 'wb') as pkl_file:\n",
    "    pkl.dump(list_results, pkl_file)"
   ]
  },
  {
   "cell_type": "code",
   "execution_count": 34,
   "metadata": {},
   "outputs": [
    {
     "name": "stdout",
     "output_type": "stream",
     "text": [
      "3040\n"
     ]
    }
   ],
   "source": [
    "for i, d in enumerate(list_results):\n",
    "    if len(d) == 0:\n",
    "        print(i)\n",
    "        break"
   ]
  },
  {
   "cell_type": "code",
   "execution_count": 36,
   "metadata": {},
   "outputs": [],
   "source": [
    "list_results_temp = list_results[:3000]"
   ]
  },
  {
   "cell_type": "markdown",
   "metadata": {},
   "source": [
    "# Main"
   ]
  },
  {
   "cell_type": "markdown",
   "metadata": {},
   "source": [
    "## first run - clean"
   ]
  },
  {
   "cell_type": "markdown",
   "metadata": {},
   "source": [
    "### register hook - save_clean_activation"
   ]
  },
  {
   "cell_type": "code",
   "execution_count": 635,
   "metadata": {},
   "outputs": [],
   "source": []
  },
  {
   "cell_type": "code",
   "execution_count": 636,
   "metadata": {},
   "outputs": [],
   "source": []
  },
  {
   "cell_type": "markdown",
   "metadata": {},
   "source": [
    "### get clean_activations & clean_loss"
   ]
  },
  {
   "cell_type": "code",
   "execution_count": 637,
   "metadata": {},
   "outputs": [
    {
     "data": {
      "text/plain": [
       "13.573352837326823"
      ]
     },
     "execution_count": 637,
     "metadata": {},
     "output_type": "execute_result"
    }
   ],
   "source": []
  },
  {
   "cell_type": "markdown",
   "metadata": {},
   "source": [
    "## second run - corruped"
   ]
  },
  {
   "cell_type": "markdown",
   "metadata": {},
   "source": [
    "### register hook - corrupt_input_vector"
   ]
  },
  {
   "cell_type": "code",
   "execution_count": 639,
   "metadata": {},
   "outputs": [
    {
     "data": {
      "text/plain": [
       "<torch.utils.hooks.RemovableHandle at 0x14ecff2102b0>"
      ]
     },
     "execution_count": 639,
     "metadata": {},
     "output_type": "execute_result"
    }
   ],
   "source": []
  },
  {
   "cell_type": "markdown",
   "metadata": {},
   "source": [
    "### get corrupt_input_vector & corrupted_loss"
   ]
  },
  {
   "cell_type": "code",
   "execution_count": 640,
   "metadata": {},
   "outputs": [
    {
     "data": {
      "text/plain": [
       "18.395775714257592"
      ]
     },
     "execution_count": 640,
     "metadata": {},
     "output_type": "execute_result"
    }
   ],
   "source": []
  },
  {
   "cell_type": "markdown",
   "metadata": {},
   "source": [
    "## Thrid run - corrupted-with-restoration run"
   ]
  },
  {
   "cell_type": "markdown",
   "metadata": {},
   "source": [
    "### register hook - restore_activation & restored losses"
   ]
  },
  {
   "cell_type": "code",
   "execution_count": 641,
   "metadata": {},
   "outputs": [],
   "source": []
  },
  {
   "cell_type": "code",
   "execution_count": 642,
   "metadata": {},
   "outputs": [],
   "source": []
  },
  {
   "cell_type": "code",
   "execution_count": 643,
   "metadata": {},
   "outputs": [
    {
     "data": {
      "text/plain": [
       "[('transformer.h.0.attn', 13.573352837326823),\n",
       " ('transformer.h.0.mlp', 14.274880534457854),\n",
       " ('transformer.h.1.attn', 21.543103091989984),\n",
       " ('transformer.h.1.mlp', 20.8595076933879),\n",
       " ('transformer.h.2.attn', 17.51346675330437),\n",
       " ('transformer.h.2.mlp', 18.091306491554267),\n",
       " ('transformer.h.3.attn', 16.443810897114936),\n",
       " ('transformer.h.3.mlp', 16.982345444060076),\n",
       " ('transformer.h.4.attn', 17.352509155673943),\n",
       " ('transformer.h.4.mlp', 18.33990111156065)]"
      ]
     },
     "execution_count": 643,
     "metadata": {},
     "output_type": "execute_result"
    }
   ],
   "source": [
    "list(restored_loss.items())[:10]"
   ]
  },
  {
   "cell_type": "markdown",
   "metadata": {},
   "source": [
    "## Losses"
   ]
  },
  {
   "cell_type": "code",
   "execution_count": 37,
   "metadata": {},
   "outputs": [
    {
     "data": {
      "text/plain": [
       "{'clean_loss': 63.91878399603464,\n",
       " 'corrupted_loss': 132.82606231021126,\n",
       " 'restored_loss': {'transformer.h.0.attn': 63.91878399603464,\n",
       "  'transformer.h.0.mlp': 72.45914462107228,\n",
       "  'transformer.h.1.attn': 108.48300584563944,\n",
       "  'transformer.h.1.mlp': 98.26031753662475,\n",
       "  'transformer.h.2.attn': 105.73504141607684,\n",
       "  'transformer.h.2.mlp': 157.61139900333075,\n",
       "  'transformer.h.3.attn': 114.14795095597133,\n",
       "  'transformer.h.3.mlp': 115.4669494255801,\n",
       "  'transformer.h.4.attn': 100.84907069077829,\n",
       "  'transformer.h.4.mlp': 95.89280867821321,\n",
       "  'transformer.h.5.attn': 131.30313272151864,\n",
       "  'transformer.h.5.mlp': 97.53559238094321,\n",
       "  'transformer.h.6.attn': 102.20920983898758,\n",
       "  'transformer.h.6.mlp': 109.59817642652683,\n",
       "  'transformer.h.7.attn': 106.16284752779694,\n",
       "  'transformer.h.7.mlp': 95.22004636798862,\n",
       "  'transformer.h.8.attn': 112.71103032371055,\n",
       "  'transformer.h.8.mlp': 108.70722262992827,\n",
       "  'transformer.h.9.attn': 127.16515070581757,\n",
       "  'transformer.h.9.mlp': 84.2516244105539,\n",
       "  'transformer.h.10.attn': 125.37668300778519,\n",
       "  'transformer.h.10.mlp': 118.25895329829432,\n",
       "  'transformer.h.11.attn': 115.2866072270407,\n",
       "  'transformer.h.11.mlp': 117.34363460544799}}"
      ]
     },
     "execution_count": 37,
     "metadata": {},
     "output_type": "execute_result"
    }
   ],
   "source": [
    "list_results_temp[0]"
   ]
  },
  {
   "cell_type": "code",
   "execution_count": 53,
   "metadata": {},
   "outputs": [],
   "source": [
    "def parse_code(row):\n",
    "    list_code = row.code.split(\".\")\n",
    "    row['l'] = int(list_code[2])\n",
    "    row['m'] = list_code[3]\n",
    "#     row['t'] = int(list_code[4])\n",
    "    return row\n",
    "\n",
    "list_df_ide_temp = []\n",
    "for i, d in enumerate(list_results_temp):\n",
    "    df_t = pd.DataFrame.from_dict(d['restored_loss'], orient='index')\n",
    "    TE = (corrupted_loss - clean_loss) / clean_loss\n",
    "    IDE = {}\n",
    "    for m_id in list_trace_module_ids:\n",
    "        IDE[m_id] = (restored_loss[m_id] - clean_loss) / clean_loss\n",
    "    \n",
    "    df_ide = pd.DataFrame.from_dict(IDE, orient='index').reset_index()\n",
    "    df_ide.columns = ['code', 'ide']\n",
    "    df_ide = df_ide.apply(lambda row: parse_code(row), axis=1)\n",
    "    df_ide[\"seq\"] = i\n",
    "    list_df_ide_temp.append(df_ide)\n",
    "    break"
   ]
  },
  {
   "cell_type": "code",
   "execution_count": null,
   "metadata": {},
   "outputs": [],
   "source": []
  },
  {
   "cell_type": "code",
   "execution_count": null,
   "metadata": {},
   "outputs": [],
   "source": []
  },
  {
   "cell_type": "code",
   "execution_count": 644,
   "metadata": {},
   "outputs": [
    {
     "data": {
      "text/plain": [
       "(13.573352837326823, 18.395775714257592, 17.73122174651327)"
      ]
     },
     "execution_count": 644,
     "metadata": {},
     "output_type": "execute_result"
    }
   ],
   "source": [
    "clean_loss, corrupted_loss, np.mean(list(restored_loss.values()))"
   ]
  },
  {
   "cell_type": "code",
   "execution_count": 645,
   "metadata": {},
   "outputs": [],
   "source": [
    "# TE = (base_loss - tuned_loss) / base_loss\n",
    "# IDE = {}\n",
    "# for m_id in list_trace_module_ids:\n",
    "#     for t in range(n_tokens):\n",
    "#         IDE[m_id + f'.{t}'] = restored_loss[m_id + f'.{t}'] / base_loss\n",
    "        \n",
    "TE = (corrupted_loss - clean_loss) / clean_loss\n",
    "IDE = {}\n",
    "for m_id in list_trace_module_ids:\n",
    "    IDE[m_id] = (restored_loss[m_id] - clean_loss) / clean_loss"
   ]
  },
  {
   "cell_type": "code",
   "execution_count": 646,
   "metadata": {},
   "outputs": [],
   "source": [
    "\n",
    "\n",
    "df_ide = pd.DataFrame.from_dict(IDE, orient='index').reset_index()\n",
    "df_ide.columns = ['code', 'ide']\n",
    "df_ide = df_ide.apply(lambda row: parse_code(row), axis=1)\n",
    "# df_ide['token'] = df_ide['t'].apply(lambda x: list_input_text[int(x)])"
   ]
  },
  {
   "cell_type": "markdown",
   "metadata": {},
   "source": [
    "## Results"
   ]
  },
  {
   "cell_type": "markdown",
   "metadata": {},
   "source": [
    "##### He was a religious scholar and a prolific writer. Many of his works are used as references for church members"
   ]
  },
  {
   "cell_type": "code",
   "execution_count": 58,
   "metadata": {},
   "outputs": [
    {
     "data": {
      "text/plain": [
       "<Axes: xlabel='None-l', ylabel='m'>"
      ]
     },
     "execution_count": 58,
     "metadata": {},
     "output_type": "execute_result"
    },
    {
     "data": {
      "image/png": "[encoded data removed]",
      "text/plain": [
       "<Figure size 1000x500 with 2 Axes>"
      ]
     },
     "metadata": {},
     "output_type": "display_data"
    }
   ],
   "source": [
    "plt.rcParams[\"figure.figsize\"] = (10,5)\n",
    "\n",
    "sns.heatmap(\n",
    "    df_ide.drop(['code', 'seq'], axis=1).set_index(['m', 'l']).unstack(-1),\n",
    "    cmap='coolwarm'#, vmax=0.3, vmin=0, vmax=1.2, vmin=0.8\n",
    ")"
   ]
  },
  {
   "cell_type": "markdown",
   "metadata": {},
   "source": [
    "##### 'In popular and media culture, Anubis is often falsely portrayed as the sinister god of the dead'\n"
   ]
  },
  {
   "cell_type": "code",
   "execution_count": 599,
   "metadata": {},
   "outputs": [
    {
     "data": {
      "text/plain": [
       "<Axes: xlabel='None-l', ylabel='m'>"
      ]
     },
     "execution_count": 599,
     "metadata": {},
     "output_type": "execute_result"
    },
    {
     "data": {
      "image/png": "[encoded data removed]",
      "text/plain": [
       "<Figure size 1000x500 with 2 Axes>"
      ]
     },
     "metadata": {},
     "output_type": "display_data"
    }
   ],
   "source": [
    "plt.rcParams[\"figure.figsize\"] = (10,5)\n",
    "\n",
    "sns.heatmap(\n",
    "    df_ide.drop(['code'], axis=1).set_index(['m', 'l']).unstack(-1),\n",
    "    cmap='coolwarm'#, vmax=1.2, vmin=0.8\n",
    ")"
   ]
  },
  {
   "cell_type": "markdown",
   "metadata": {},
   "source": [
    "##### Elderly people often have limited regenerative abilities and are more susceptible to disease, syndromes, injuries and sickness than younger adults."
   ]
  },
  {
   "cell_type": "code",
   "execution_count": 615,
   "metadata": {},
   "outputs": [
    {
     "data": {
      "text/plain": [
       "<Axes: xlabel='None-l', ylabel='m'>"
      ]
     },
     "execution_count": 615,
     "metadata": {},
     "output_type": "execute_result"
    },
    {
     "data": {
      "image/png": "[encoded data removed]",
      "text/plain": [
       "<Figure size 1000x500 with 2 Axes>"
      ]
     },
     "metadata": {},
     "output_type": "display_data"
    }
   ],
   "source": [
    "plt.rcParams[\"figure.figsize\"] = (10,5)\n",
    "\n",
    "sns.heatmap(\n",
    "    df_ide.drop(['code'], axis=1).set_index(['m', 'l']).unstack(-1),\n",
    "    cmap='coolwarm'#, vmax=1.2, vmin=0.8\n",
    ")"
   ]
  },
  {
   "cell_type": "markdown",
   "metadata": {},
   "source": [
    "##### \"Zechariah's vision of recently deceased Joshua the High Priest depicts a dispute in the heavenly throne room between Satan and the Angel of the Lord\"\n"
   ]
  },
  {
   "cell_type": "code",
   "execution_count": 631,
   "metadata": {},
   "outputs": [
    {
     "data": {
      "text/plain": [
       "<Axes: xlabel='None-l', ylabel='m'>"
      ]
     },
     "execution_count": 631,
     "metadata": {},
     "output_type": "execute_result"
    },
    {
     "data": {
      "image/png": "[encoded data removed]",
      "text/plain": [
       "<Figure size 1000x500 with 2 Axes>"
      ]
     },
     "metadata": {},
     "output_type": "display_data"
    }
   ],
   "source": [
    "plt.rcParams[\"figure.figsize\"] = (10,5)\n",
    "\n",
    "sns.heatmap(\n",
    "    df_ide.drop(['code'], axis=1).set_index(['m', 'l']).unstack(-1),\n",
    "    cmap='coolwarm'#, vmax=1.2, vmin=0.8\n",
    ")"
   ]
  },
  {
   "cell_type": "markdown",
   "metadata": {},
   "source": [
    "##### The Transcendental Argument for the Existence of God (TAG) is the argument that attempts to prove the existence of God by arguing that logic, morals, and science ultimately presuppose a supreme being and that God must therefore be the source of logic and morals"
   ]
  },
  {
   "cell_type": "code",
   "execution_count": 647,
   "metadata": {},
   "outputs": [
    {
     "data": {
      "text/plain": [
       "<Axes: xlabel='None-l', ylabel='m'>"
      ]
     },
     "execution_count": 647,
     "metadata": {},
     "output_type": "execute_result"
    },
    {
     "data": {
      "image/png": "[encoded data removed]",
      "text/plain": [
       "<Figure size 1000x500 with 2 Axes>"
      ]
     },
     "metadata": {},
     "output_type": "display_data"
    }
   ],
   "source": [
    "plt.rcParams[\"figure.figsize\"] = (10,5)\n",
    "\n",
    "sns.heatmap(\n",
    "    df_ide.drop(['code'], axis=1).set_index(['m', 'l']).unstack(-1),\n",
    "    cmap='coolwarm'#, vmax=1.2, vmin=0.8\n",
    ")"
   ]
  },
  {
   "cell_type": "markdown",
   "metadata": {},
   "source": [
    "## Conclusion\n",
    "Couldn't find a specific pattern.  \n",
    "I will extend this approach, using the entire dataset and aggregating IDE values."
   ]
  },
  {
   "cell_type": "code",
   "execution_count": null,
   "metadata": {},
   "outputs": [],
   "source": []
  }
 ],
 "metadata": {
  "kernelspec": {
   "display_name": "m2d2_env",
   "language": "python",
   "name": "m2d2_env"
  },
  "language_info": {
   "codemirror_mode": {
    "name": "ipython",
    "version": 3
   },
   "file_extension": ".py",
   "mimetype": "text/x-python",
   "name": "python",
   "nbconvert_exporter": "python",
   "pygments_lexer": "ipython3",
   "version": "3.10.11"
  }
 },
 "nbformat": 4,
 "nbformat_minor": 2
}
