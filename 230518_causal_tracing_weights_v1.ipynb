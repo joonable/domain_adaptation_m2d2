{
 "cells": [
  {
   "cell_type": "markdown",
   "metadata": {},
   "source": [
    "# 230518_causal_tracing_weights_v1"
   ]
  },
  {
   "cell_type": "markdown",
   "metadata": {},
   "source": [
    "# Import libraries"
   ]
  },
  {
   "cell_type": "code",
   "execution_count": 1,
   "metadata": {},
   "outputs": [
    {
     "name": "stderr",
     "output_type": "stream",
     "text": [
      "/rds/general/user/jj1122/home/anaconda3/envs/test1/lib/python3.9/site-packages/tqdm/auto.py:21: TqdmWarning: IProgress not found. Please update jupyter and ipywidgets. See https://ipywidgets.readthedocs.io/en/stable/user_install.html\n",
      "  from .autonotebook import tqdm as notebook_tqdm\n"
     ]
    }
   ],
   "source": [
    "from transformers import GPT2LMHeadModel, GPT2TokenizerFast, GPT2Tokenizer\n",
    "from datasets import load_dataset\n",
    "from tqdm import tqdm\n",
    "import json\n",
    "import torch\n",
    "import argparse\n",
    "import datasets\n",
    "import numpy as np\n",
    "import seaborn as sns\n",
    "import pandas as pd\n",
    "import matplotlib.pylab as plt\n",
    "from os import listdir"
   ]
  },
  {
   "cell_type": "markdown",
   "metadata": {},
   "source": [
    "# Config"
   ]
  },
  {
   "cell_type": "code",
   "execution_count": 2,
   "metadata": {},
   "outputs": [],
   "source": [
    "# dataset_nm = \"Health_and_fitness\"\n",
    "# dataset_path = f\"../m2d2/dataset/{dataset_nm}/train.txt\""
   ]
  },
  {
   "cell_type": "code",
   "execution_count": 3,
   "metadata": {},
   "outputs": [],
   "source": [
    "data_dir = \"../m2d2/dataset\""
   ]
  },
  {
   "cell_type": "code",
   "execution_count": 4,
   "metadata": {},
   "outputs": [],
   "source": [
    "def get_model_path(model_id):\n",
    "    model_path_format = \"/rds/general/user/jj1122/home/projects/m2d2/dataset/{model_id}/models\"\n",
    "    ckpt_path_format = \"/checkpoint-{ckpt}\"\n",
    "\n",
    "    if model_id == \"gpt2\":\n",
    "        model_path = \"gpt2\"\n",
    "#         ckpt = \"zs\"\n",
    "    else:\n",
    "        model_path = model_path_format.format(model_id=model_id)\n",
    "        l_dir = listdir(model_path)\n",
    "\n",
    "        if all([len(x.split(\".\")) == 1 for x in l_dir]):\n",
    "            ckpt = max([int(x.split(\"-\")[1]) for x in l_dir])\n",
    "            model_path += ckpt_path_format.format(ckpt=ckpt)\n",
    "#         else:\n",
    "#             ckpt = \"final\"\n",
    "    return model_path\n",
    "\n",
    "    "
   ]
  },
  {
   "cell_type": "code",
   "execution_count": 5,
   "metadata": {},
   "outputs": [
    {
     "data": {
      "text/plain": [
       "'/rds/general/user/jj1122/home/projects/m2d2/dataset/cs_l1/models'"
      ]
     },
     "execution_count": 5,
     "metadata": {},
     "output_type": "execute_result"
    }
   ],
   "source": [
    "get_model_path(\"cs_l1\")"
   ]
  },
  {
   "cell_type": "code",
   "execution_count": 6,
   "metadata": {},
   "outputs": [],
   "source": [
    "list_models = [\n",
    "    \"cs_l1\",\n",
    "    \"nlin_l1\",\n",
    "    \"Health_and_fitness\",\n",
    "    \"Natural_and_physical_sciences\",\n",
    "    \"Religion_and_belief_systems\",\n",
    "    \"Culture_and_the_arts\",\n",
    "    \"General_referece\",\n",
    "    \"econ_l1\",\n",
    "    \"History_and_events\",\n",
    "    \"Mathematics_and_logic\",\n",
    "    \"q-fin_l1\",\n",
    "    \"Philosophy_and_thinking\",\n",
    "    \"Society_and_social_sciences\"\n",
    "]"
   ]
  },
  {
   "cell_type": "code",
   "execution_count": 7,
   "metadata": {},
   "outputs": [],
   "source": [
    "config_models = {model_id: {} for model_id in list_models}\n",
    "for model_id in list_models:\n",
    "    config_models[model_id][\"model_path\"] = get_model_path(model_id)"
   ]
  },
  {
   "cell_type": "code",
   "execution_count": 8,
   "metadata": {},
   "outputs": [
    {
     "data": {
      "text/plain": [
       "{'cs_l1': {'model_path': '/rds/general/user/jj1122/home/projects/m2d2/dataset/cs_l1/models'},\n",
       " 'nlin_l1': {'model_path': '/rds/general/user/jj1122/home/projects/m2d2/dataset/nlin_l1/models'},\n",
       " 'Health_and_fitness': {'model_path': '/rds/general/user/jj1122/home/projects/m2d2/dataset/Health_and_fitness/models'},\n",
       " 'Natural_and_physical_sciences': {'model_path': '/rds/general/user/jj1122/home/projects/m2d2/dataset/Natural_and_physical_sciences/models'},\n",
       " 'Religion_and_belief_systems': {'model_path': '/rds/general/user/jj1122/home/projects/m2d2/dataset/Religion_and_belief_systems/models'},\n",
       " 'Culture_and_the_arts': {'model_path': '/rds/general/user/jj1122/home/projects/m2d2/dataset/Culture_and_the_arts/models'},\n",
       " 'General_referece': {'model_path': '/rds/general/user/jj1122/home/projects/m2d2/dataset/General_referece/models'},\n",
       " 'econ_l1': {'model_path': '/rds/general/user/jj1122/home/projects/m2d2/dataset/econ_l1/models'},\n",
       " 'History_and_events': {'model_path': '/rds/general/user/jj1122/home/projects/m2d2/dataset/History_and_events/models'},\n",
       " 'Mathematics_and_logic': {'model_path': '/rds/general/user/jj1122/home/projects/m2d2/dataset/Mathematics_and_logic/models'},\n",
       " 'q-fin_l1': {'model_path': '/rds/general/user/jj1122/home/projects/m2d2/dataset/q-fin_l1/models'},\n",
       " 'Philosophy_and_thinking': {'model_path': '/rds/general/user/jj1122/home/projects/m2d2/dataset/Philosophy_and_thinking/models'},\n",
       " 'Society_and_social_sciences': {'model_path': '/rds/general/user/jj1122/home/projects/m2d2/dataset/Society_and_social_sciences/models'}}"
      ]
     },
     "execution_count": 8,
     "metadata": {},
     "output_type": "execute_result"
    }
   ],
   "source": [
    "config_models"
   ]
  },
  {
   "cell_type": "code",
   "execution_count": 9,
   "metadata": {},
   "outputs": [],
   "source": [
    "device_id = 'cpu'\n",
    "\n",
    "# tuned_model_paths = \"../m2d2/dataset/Health_and_fitness/models/checkpoint-20000/\"\n",
    "n_layers = 12\n",
    "list_modules = ['attn', 'mlp']\n",
    "trace_module_id = \"transformer.h.{l}.{m}\""
   ]
  },
  {
   "cell_type": "code",
   "execution_count": 10,
   "metadata": {},
   "outputs": [
    {
     "name": "stdout",
     "output_type": "stream",
     "text": [
      "['transformer.h.0.attn', 'transformer.h.0.mlp', 'transformer.h.1.attn']\n"
     ]
    }
   ],
   "source": [
    "list_trace_module_ids = []\n",
    "\n",
    "for l in range(n_layers):\n",
    "    for m in list_modules:\n",
    "        list_trace_module_ids.append(trace_module_id.format(l=l, m=m))\n",
    "\n",
    "print(list_trace_module_ids[:3])"
   ]
  },
  {
   "cell_type": "markdown",
   "metadata": {},
   "source": [
    "# Model"
   ]
  },
  {
   "cell_type": "markdown",
   "metadata": {},
   "source": [
    "## load models"
   ]
  },
  {
   "cell_type": "code",
   "execution_count": 29,
   "metadata": {},
   "outputs": [
    {
     "name": "stdout",
     "output_type": "stream",
     "text": [
      "Religion_and_belief_systems\n",
      "General_referece\n",
      "nlin_l1\n",
      "Health_and_fitness\n",
      "cs_l1\n"
     ]
    }
   ],
   "source": [
    "dict_models = {}\n",
    "for k, v_dict in config_models.items():\n",
    "    print(k)\n",
    "    dict_models[k] = GPT2LMHeadModel.from_pretrained(v_dict[\"model_path\"]).to(device_id)\n",
    "    \n"
   ]
  },
  {
   "cell_type": "code",
   "execution_count": 30,
   "metadata": {},
   "outputs": [],
   "source": [
    "base_model = GPT2LMHeadModel.from_pretrained(\"gpt2\").to(device_id)\n",
    "gpt2_tokenizer = GPT2Tokenizer.from_pretrained(\"gpt2\")"
   ]
  },
  {
   "cell_type": "markdown",
   "metadata": {},
   "source": [
    "## Get difference of weights\n",
    "```diff = np.mean(np.abs(model_a.weights - model_b.weights))```"
   ]
  },
  {
   "cell_type": "code",
   "execution_count": 31,
   "metadata": {},
   "outputs": [],
   "source": [
    "dict_diff_weights = {}\n",
    "for k, tuned_model in dict_models.items():\n",
    "    for tuned_tup, base_tup in zip(list(tuned_model.named_parameters()), list(base_model.named_parameters())):\n",
    "        dict_diff_weights[k +\".\"+tuned_tup[0]] = torch.abs(tuned_tup[1] - base_tup[1]).mean().item()\n",
    "    \n"
   ]
  },
  {
   "cell_type": "code",
   "execution_count": 32,
   "metadata": {},
   "outputs": [],
   "source": [
    "df_avg_diff_weights = pd.DataFrame.from_dict(dict_diff_weights, orient='index')"
   ]
  },
  {
   "cell_type": "code",
   "execution_count": 33,
   "metadata": {},
   "outputs": [],
   "source": [
    "df_avg_diff_weights = df_avg_diff_weights.reset_index()\n",
    "df_avg_diff_weights.columns = [\"code\", \"diff\"]"
   ]
  },
  {
   "cell_type": "code",
   "execution_count": 35,
   "metadata": {},
   "outputs": [],
   "source": [
    "df_avg_diff_weights[\"code_split\"] = df_avg_diff_weights[\"code\"].str.split(\".\")\n",
    "df_avg_diff_weights[\"dataset\"] = df_avg_diff_weights[\"code_split\"].apply(lambda l: l[0])\n",
    "# df_avg_diff_weights[\"module\"] = df_avg_diff_weights[\"code_split\"][2]\n",
    "df_avg_diff_weights[\"layer\"] = df_avg_diff_weights[\"code_split\"].apply(lambda l: int(l[3]) if l[2] == \"h\" else -1)\n",
    "df_avg_diff_weights[\"module\"] = df_avg_diff_weights[\"code_split\"].apply(lambda l: l[4] if l[2] == \"h\" else l[2])\n",
    "df_avg_diff_weights[\"w_or_b\"] = df_avg_diff_weights[\"code_split\"].apply(lambda l: l[-1])\n",
    "\n",
    "del df_avg_diff_weights[\"code\"], df_avg_diff_weights[\"code_split\"]"
   ]
  },
  {
   "cell_type": "code",
   "execution_count": 37,
   "metadata": {},
   "outputs": [
    {
     "data": {
      "text/html": [
       "<div>\n",
       "<style scoped>\n",
       "    .dataframe tbody tr th:only-of-type {\n",
       "        vertical-align: middle;\n",
       "    }\n",
       "\n",
       "    .dataframe tbody tr th {\n",
       "        vertical-align: top;\n",
       "    }\n",
       "\n",
       "    .dataframe thead th {\n",
       "        text-align: right;\n",
       "    }\n",
       "</style>\n",
       "<table border=\"1\" class=\"dataframe\">\n",
       "  <thead>\n",
       "    <tr style=\"text-align: right;\">\n",
       "      <th></th>\n",
       "      <th>diff</th>\n",
       "      <th>dataset</th>\n",
       "      <th>layer</th>\n",
       "      <th>module</th>\n",
       "      <th>w_or_b</th>\n",
       "    </tr>\n",
       "  </thead>\n",
       "  <tbody>\n",
       "    <tr>\n",
       "      <th>2</th>\n",
       "      <td>0.024056</td>\n",
       "      <td>Religion_and_belief_systems</td>\n",
       "      <td>0</td>\n",
       "      <td>ln_1</td>\n",
       "      <td>weight</td>\n",
       "    </tr>\n",
       "    <tr>\n",
       "      <th>3</th>\n",
       "      <td>0.006673</td>\n",
       "      <td>Religion_and_belief_systems</td>\n",
       "      <td>0</td>\n",
       "      <td>ln_1</td>\n",
       "      <td>bias</td>\n",
       "    </tr>\n",
       "    <tr>\n",
       "      <th>4</th>\n",
       "      <td>0.015205</td>\n",
       "      <td>Religion_and_belief_systems</td>\n",
       "      <td>0</td>\n",
       "      <td>attn</td>\n",
       "      <td>weight</td>\n",
       "    </tr>\n",
       "    <tr>\n",
       "      <th>5</th>\n",
       "      <td>0.011436</td>\n",
       "      <td>Religion_and_belief_systems</td>\n",
       "      <td>0</td>\n",
       "      <td>attn</td>\n",
       "      <td>bias</td>\n",
       "    </tr>\n",
       "    <tr>\n",
       "      <th>6</th>\n",
       "      <td>0.010350</td>\n",
       "      <td>Religion_and_belief_systems</td>\n",
       "      <td>0</td>\n",
       "      <td>attn</td>\n",
       "      <td>weight</td>\n",
       "    </tr>\n",
       "    <tr>\n",
       "      <th>...</th>\n",
       "      <td>...</td>\n",
       "      <td>...</td>\n",
       "      <td>...</td>\n",
       "      <td>...</td>\n",
       "      <td>...</td>\n",
       "    </tr>\n",
       "    <tr>\n",
       "      <th>733</th>\n",
       "      <td>0.014882</td>\n",
       "      <td>cs_l1</td>\n",
       "      <td>11</td>\n",
       "      <td>ln_2</td>\n",
       "      <td>bias</td>\n",
       "    </tr>\n",
       "    <tr>\n",
       "      <th>734</th>\n",
       "      <td>0.030184</td>\n",
       "      <td>cs_l1</td>\n",
       "      <td>11</td>\n",
       "      <td>mlp</td>\n",
       "      <td>weight</td>\n",
       "    </tr>\n",
       "    <tr>\n",
       "      <th>735</th>\n",
       "      <td>0.008063</td>\n",
       "      <td>cs_l1</td>\n",
       "      <td>11</td>\n",
       "      <td>mlp</td>\n",
       "      <td>bias</td>\n",
       "    </tr>\n",
       "    <tr>\n",
       "      <th>736</th>\n",
       "      <td>0.036656</td>\n",
       "      <td>cs_l1</td>\n",
       "      <td>11</td>\n",
       "      <td>mlp</td>\n",
       "      <td>weight</td>\n",
       "    </tr>\n",
       "    <tr>\n",
       "      <th>737</th>\n",
       "      <td>0.007527</td>\n",
       "      <td>cs_l1</td>\n",
       "      <td>11</td>\n",
       "      <td>mlp</td>\n",
       "      <td>bias</td>\n",
       "    </tr>\n",
       "  </tbody>\n",
       "</table>\n",
       "<p>720 rows × 5 columns</p>\n",
       "</div>"
      ],
      "text/plain": [
       "         diff                      dataset  layer module  w_or_b\n",
       "2    0.024056  Religion_and_belief_systems      0   ln_1  weight\n",
       "3    0.006673  Religion_and_belief_systems      0   ln_1    bias\n",
       "4    0.015205  Religion_and_belief_systems      0   attn  weight\n",
       "5    0.011436  Religion_and_belief_systems      0   attn    bias\n",
       "6    0.010350  Religion_and_belief_systems      0   attn  weight\n",
       "..        ...                          ...    ...    ...     ...\n",
       "733  0.014882                        cs_l1     11   ln_2    bias\n",
       "734  0.030184                        cs_l1     11    mlp  weight\n",
       "735  0.008063                        cs_l1     11    mlp    bias\n",
       "736  0.036656                        cs_l1     11    mlp  weight\n",
       "737  0.007527                        cs_l1     11    mlp    bias\n",
       "\n",
       "[720 rows x 5 columns]"
      ]
     },
     "execution_count": 37,
     "metadata": {},
     "output_type": "execute_result"
    }
   ],
   "source": [
    "df_avg_diff_weights.loc[df_avg_diff_weights.layer != -1]"
   ]
  },
  {
   "cell_type": "markdown",
   "metadata": {},
   "source": [
    "# Result"
   ]
  },
  {
   "cell_type": "markdown",
   "metadata": {},
   "source": [
    "### Avg diff group by layer number"
   ]
  },
  {
   "cell_type": "code",
   "execution_count": 54,
   "metadata": {},
   "outputs": [
    {
     "data": {
      "text/html": [
       "<div>\n",
       "<style scoped>\n",
       "    .dataframe tbody tr th:only-of-type {\n",
       "        vertical-align: middle;\n",
       "    }\n",
       "\n",
       "    .dataframe tbody tr th {\n",
       "        vertical-align: top;\n",
       "    }\n",
       "\n",
       "    .dataframe thead tr th {\n",
       "        text-align: left;\n",
       "    }\n",
       "\n",
       "    .dataframe thead tr:last-of-type th {\n",
       "        text-align: right;\n",
       "    }\n",
       "</style>\n",
       "<table border=\"1\" class=\"dataframe\">\n",
       "  <thead>\n",
       "    <tr>\n",
       "      <th></th>\n",
       "      <th colspan=\"4\" halign=\"left\">diff</th>\n",
       "    </tr>\n",
       "    <tr>\n",
       "      <th></th>\n",
       "      <th colspan=\"2\" halign=\"left\">mean</th>\n",
       "      <th colspan=\"2\" halign=\"left\">std</th>\n",
       "    </tr>\n",
       "    <tr>\n",
       "      <th>w_or_b</th>\n",
       "      <th>bias</th>\n",
       "      <th>weight</th>\n",
       "      <th>bias</th>\n",
       "      <th>weight</th>\n",
       "    </tr>\n",
       "    <tr>\n",
       "      <th>layer</th>\n",
       "      <th></th>\n",
       "      <th></th>\n",
       "      <th></th>\n",
       "      <th></th>\n",
       "    </tr>\n",
       "  </thead>\n",
       "  <tbody>\n",
       "    <tr>\n",
       "      <th>0</th>\n",
       "      <td>0.005424</td>\n",
       "      <td>0.018411</td>\n",
       "      <td>0.003830</td>\n",
       "      <td>0.008636</td>\n",
       "    </tr>\n",
       "    <tr>\n",
       "      <th>1</th>\n",
       "      <td>0.004104</td>\n",
       "      <td>0.010829</td>\n",
       "      <td>0.002321</td>\n",
       "      <td>0.005719</td>\n",
       "    </tr>\n",
       "    <tr>\n",
       "      <th>2</th>\n",
       "      <td>0.004952</td>\n",
       "      <td>0.012249</td>\n",
       "      <td>0.003189</td>\n",
       "      <td>0.006069</td>\n",
       "    </tr>\n",
       "    <tr>\n",
       "      <th>3</th>\n",
       "      <td>0.003729</td>\n",
       "      <td>0.012651</td>\n",
       "      <td>0.001992</td>\n",
       "      <td>0.006267</td>\n",
       "    </tr>\n",
       "    <tr>\n",
       "      <th>4</th>\n",
       "      <td>0.003214</td>\n",
       "      <td>0.012810</td>\n",
       "      <td>0.001420</td>\n",
       "      <td>0.006213</td>\n",
       "    </tr>\n",
       "    <tr>\n",
       "      <th>5</th>\n",
       "      <td>0.004334</td>\n",
       "      <td>0.013397</td>\n",
       "      <td>0.003130</td>\n",
       "      <td>0.005885</td>\n",
       "    </tr>\n",
       "    <tr>\n",
       "      <th>6</th>\n",
       "      <td>0.003143</td>\n",
       "      <td>0.013661</td>\n",
       "      <td>0.001289</td>\n",
       "      <td>0.006093</td>\n",
       "    </tr>\n",
       "    <tr>\n",
       "      <th>7</th>\n",
       "      <td>0.003332</td>\n",
       "      <td>0.014153</td>\n",
       "      <td>0.001347</td>\n",
       "      <td>0.007005</td>\n",
       "    </tr>\n",
       "    <tr>\n",
       "      <th>8</th>\n",
       "      <td>0.003729</td>\n",
       "      <td>0.014572</td>\n",
       "      <td>0.001685</td>\n",
       "      <td>0.007522</td>\n",
       "    </tr>\n",
       "    <tr>\n",
       "      <th>9</th>\n",
       "      <td>0.004311</td>\n",
       "      <td>0.015131</td>\n",
       "      <td>0.002068</td>\n",
       "      <td>0.007870</td>\n",
       "    </tr>\n",
       "    <tr>\n",
       "      <th>10</th>\n",
       "      <td>0.005497</td>\n",
       "      <td>0.016623</td>\n",
       "      <td>0.002333</td>\n",
       "      <td>0.008210</td>\n",
       "    </tr>\n",
       "    <tr>\n",
       "      <th>11</th>\n",
       "      <td>0.007107</td>\n",
       "      <td>0.023247</td>\n",
       "      <td>0.002854</td>\n",
       "      <td>0.015040</td>\n",
       "    </tr>\n",
       "  </tbody>\n",
       "</table>\n",
       "</div>"
      ],
      "text/plain": [
       "            diff                              \n",
       "            mean                 std          \n",
       "w_or_b      bias    weight      bias    weight\n",
       "layer                                         \n",
       "0       0.005424  0.018411  0.003830  0.008636\n",
       "1       0.004104  0.010829  0.002321  0.005719\n",
       "2       0.004952  0.012249  0.003189  0.006069\n",
       "3       0.003729  0.012651  0.001992  0.006267\n",
       "4       0.003214  0.012810  0.001420  0.006213\n",
       "5       0.004334  0.013397  0.003130  0.005885\n",
       "6       0.003143  0.013661  0.001289  0.006093\n",
       "7       0.003332  0.014153  0.001347  0.007005\n",
       "8       0.003729  0.014572  0.001685  0.007522\n",
       "9       0.004311  0.015131  0.002068  0.007870\n",
       "10      0.005497  0.016623  0.002333  0.008210\n",
       "11      0.007107  0.023247  0.002854  0.015040"
      ]
     },
     "execution_count": 54,
     "metadata": {},
     "output_type": "execute_result"
    }
   ],
   "source": [
    "df_avg_diff_weights.loc[df_avg_diff_weights.layer != -1]\\\n",
    "    .groupby([\"w_or_b\", \"layer\"])[['diff']].describe()[[('diff', 'mean'), ('diff', 'std')]]\\\n",
    "    .sort_values(by=[('diff', 'mean'), ('diff', 'std')]).unstack(-2)"
   ]
  },
  {
   "cell_type": "code",
   "execution_count": 45,
   "metadata": {},
   "outputs": [
    {
     "data": {
      "text/plain": [
       "<Axes: xlabel='layer', ylabel='diff'>"
      ]
     },
     "execution_count": 45,
     "metadata": {},
     "output_type": "execute_result"
    },
    {
     "data": {
      "image/png": "[encoded data removed]",
      "text/plain": [
       "<Figure size 1000x500 with 1 Axes>"
      ]
     },
     "metadata": {},
     "output_type": "display_data"
    }
   ],
   "source": [
    "plt.rcParams[\"figure.figsize\"] = (10,5)\n",
    "\n",
    "sns.barplot(df_avg_diff_weights.loc[df_avg_diff_weights.layer != -1], x='layer', y='diff', errorbar='sd', hue=\"w_or_b\")"
   ]
  },
  {
   "cell_type": "markdown",
   "metadata": {},
   "source": [
    "- weight: The first and last layers changed the most\n",
    "- bias: no insightful pattern"
   ]
  },
  {
   "cell_type": "markdown",
   "metadata": {},
   "source": [
    "### Avg diff group by module"
   ]
  },
  {
   "cell_type": "code",
   "execution_count": 55,
   "metadata": {},
   "outputs": [
    {
     "data": {
      "text/html": [
       "<div>\n",
       "<style scoped>\n",
       "    .dataframe tbody tr th:only-of-type {\n",
       "        vertical-align: middle;\n",
       "    }\n",
       "\n",
       "    .dataframe tbody tr th {\n",
       "        vertical-align: top;\n",
       "    }\n",
       "\n",
       "    .dataframe thead tr th {\n",
       "        text-align: left;\n",
       "    }\n",
       "\n",
       "    .dataframe thead tr:last-of-type th {\n",
       "        text-align: right;\n",
       "    }\n",
       "</style>\n",
       "<table border=\"1\" class=\"dataframe\">\n",
       "  <thead>\n",
       "    <tr>\n",
       "      <th></th>\n",
       "      <th colspan=\"4\" halign=\"left\">diff</th>\n",
       "    </tr>\n",
       "    <tr>\n",
       "      <th></th>\n",
       "      <th colspan=\"2\" halign=\"left\">mean</th>\n",
       "      <th colspan=\"2\" halign=\"left\">std</th>\n",
       "    </tr>\n",
       "    <tr>\n",
       "      <th>w_or_b</th>\n",
       "      <th>bias</th>\n",
       "      <th>weight</th>\n",
       "      <th>bias</th>\n",
       "      <th>weight</th>\n",
       "    </tr>\n",
       "    <tr>\n",
       "      <th>module</th>\n",
       "      <th></th>\n",
       "      <th></th>\n",
       "      <th></th>\n",
       "      <th></th>\n",
       "    </tr>\n",
       "  </thead>\n",
       "  <tbody>\n",
       "    <tr>\n",
       "      <th>attn</th>\n",
       "      <td>0.004261</td>\n",
       "      <td>0.016026</td>\n",
       "      <td>0.002106</td>\n",
       "      <td>0.005917</td>\n",
       "    </tr>\n",
       "    <tr>\n",
       "      <th>ln_1</th>\n",
       "      <td>0.006750</td>\n",
       "      <td>0.013198</td>\n",
       "      <td>0.002351</td>\n",
       "      <td>0.008798</td>\n",
       "    </tr>\n",
       "    <tr>\n",
       "      <th>ln_2</th>\n",
       "      <td>0.005334</td>\n",
       "      <td>0.010799</td>\n",
       "      <td>0.003101</td>\n",
       "      <td>0.013099</td>\n",
       "    </tr>\n",
       "    <tr>\n",
       "      <th>mlp</th>\n",
       "      <td>0.002917</td>\n",
       "      <td>0.016408</td>\n",
       "      <td>0.001867</td>\n",
       "      <td>0.006549</td>\n",
       "    </tr>\n",
       "  </tbody>\n",
       "</table>\n",
       "</div>"
      ],
      "text/plain": [
       "            diff                              \n",
       "            mean                 std          \n",
       "w_or_b      bias    weight      bias    weight\n",
       "module                                        \n",
       "attn    0.004261  0.016026  0.002106  0.005917\n",
       "ln_1    0.006750  0.013198  0.002351  0.008798\n",
       "ln_2    0.005334  0.010799  0.003101  0.013099\n",
       "mlp     0.002917  0.016408  0.001867  0.006549"
      ]
     },
     "execution_count": 55,
     "metadata": {},
     "output_type": "execute_result"
    }
   ],
   "source": [
    "df_avg_diff_weights.loc[df_avg_diff_weights.layer != -1]\\\n",
    "    .groupby([\"w_or_b\", \"module\"])[['diff']].describe()[[('diff', 'mean'), ('diff', 'std')]]\\\n",
    "    .sort_values(by=[('diff', 'mean'), ('diff', 'std')]).unstack(-2)"
   ]
  },
  {
   "cell_type": "code",
   "execution_count": 59,
   "metadata": {},
   "outputs": [
    {
     "data": {
      "text/plain": [
       "<Axes: xlabel='module', ylabel='diff'>"
      ]
     },
     "execution_count": 59,
     "metadata": {},
     "output_type": "execute_result"
    },
    {
     "data": {
      "image/png": "[encoded data removed]",
      "text/plain": [
       "<Figure size 500x500 with 1 Axes>"
      ]
     },
     "metadata": {},
     "output_type": "display_data"
    }
   ],
   "source": [
    "plt.rcParams[\"figure.figsize\"] = (5,5)\n",
    "\n",
    "sns.barplot(df_avg_diff_weights.loc[df_avg_diff_weights.layer != -1], x='module', y='diff', errorbar='sd', hue=\"w_or_b\")"
   ]
  },
  {
   "cell_type": "markdown",
   "metadata": {},
   "source": [
    "### Avg diff \"weight\" group by layer and module"
   ]
  },
  {
   "cell_type": "code",
   "execution_count": 56,
   "metadata": {},
   "outputs": [
    {
     "data": {
      "text/plain": [
       "<Axes: xlabel='layer', ylabel='diff'>"
      ]
     },
     "execution_count": 56,
     "metadata": {},
     "output_type": "execute_result"
    },
    {
     "data": {
      "image/png": "[encoded data removed]",
      "text/plain": [
       "<Figure size 1500x500 with 1 Axes>"
      ]
     },
     "metadata": {},
     "output_type": "display_data"
    }
   ],
   "source": [
    "plt.rcParams[\"figure.figsize\"] = (15,5)\n",
    "\n",
    "sns.barplot(df_avg_diff_weights.loc[(df_avg_diff_weights.layer != -1) & (df_avg_diff_weights.w_or_b == 'weight')], x='layer', hue='module', y='diff', errorbar='sd')"
   ]
  },
  {
   "cell_type": "code",
   "execution_count": null,
   "metadata": {},
   "outputs": [],
   "source": []
  },
  {
   "cell_type": "markdown",
   "metadata": {},
   "source": [
    "- key, Query, Value\n",
    "- how many parameters\n",
    "- which parameters are changed the most by rank"
   ]
  },
  {
   "cell_type": "markdown",
   "metadata": {},
   "source": [
    "- The first ln_1 and the last ln_2 changed the most\n",
    "- mlp and attn weight show equally changed "
   ]
  },
  {
   "cell_type": "markdown",
   "metadata": {},
   "source": [
    "### Avg diff \"bias\" group by layer and module"
   ]
  },
  {
   "cell_type": "code",
   "execution_count": 57,
   "metadata": {},
   "outputs": [
    {
     "data": {
      "text/plain": [
       "<Axes: xlabel='layer', ylabel='diff'>"
      ]
     },
     "execution_count": 57,
     "metadata": {},
     "output_type": "execute_result"
    },
    {
     "data": {
      "image/png": "[encoded data removed]",
      "text/plain": [
       "<Figure size 1500x500 with 1 Axes>"
      ]
     },
     "metadata": {},
     "output_type": "display_data"
    }
   ],
   "source": [
    "plt.rcParams[\"figure.figsize\"] = (15,5)\n",
    "\n",
    "sns.barplot(df_avg_diff_weights.loc[(df_avg_diff_weights.layer != -1) & (df_avg_diff_weights.w_or_b == 'bias')], x='layer', hue='module', y='diff', errorbar='sd')"
   ]
  },
  {
   "cell_type": "code",
   "execution_count": null,
   "metadata": {},
   "outputs": [],
   "source": []
  },
  {
   "cell_type": "code",
   "execution_count": null,
   "metadata": {},
   "outputs": [],
   "source": []
  }
 ],
 "metadata": {
  "kernelspec": {
   "display_name": "Python [conda env:test1]",
   "language": "python",
   "name": "conda-env-test1-py"
  },
  "language_info": {
   "codemirror_mode": {
    "name": "ipython",
    "version": 3
   },
   "file_extension": ".py",
   "mimetype": "text/x-python",
   "name": "python",
   "nbconvert_exporter": "python",
   "pygments_lexer": "ipython3",
   "version": "3.9.16"
  }
 },
 "nbformat": 4,
 "nbformat_minor": 2
}
