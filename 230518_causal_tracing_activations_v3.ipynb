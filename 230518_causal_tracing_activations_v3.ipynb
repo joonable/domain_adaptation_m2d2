{
 "cells": [
  {
   "cell_type": "markdown",
   "metadata": {},
   "source": [
    "# 230518_causal_tracing_activations_v3\n",
    "Religion_and_belief_systems and layer level"
   ]
  },
  {
   "cell_type": "markdown",
   "metadata": {},
   "source": [
    "# Import libraries"
   ]
  },
  {
   "cell_type": "code",
   "execution_count": null,
   "metadata": {},
   "outputs": [],
   "source": [
    "from transformers import GPT2LMHeadModel, GPT2TokenizerFast, GPT2Tokenizer\n",
    "from datasets import load_dataset\n",
    "from tqdm import tqdm\n",
    "import json\n",
    "import torch\n",
    "import argparse\n",
    "import datasets\n",
    "import numpy as np\n",
    "import seaborn as sns\n",
    "import pandas as pd\n",
    "import matplotlib.pylab as plt"
   ]
  },
  {
   "cell_type": "markdown",
   "metadata": {},
   "source": [
    "# Config"
   ]
  },
  {
   "cell_type": "code",
   "execution_count": null,
   "metadata": {},
   "outputs": [],
   "source": [
    "dataset_nm = \"Religion_and_belief_systems\"\n",
    "# dataset_path = f\"../m2d2/dataset/{dataset_nm}/train.txt\""
   ]
  },
  {
   "cell_type": "code",
   "execution_count": null,
   "metadata": {},
   "outputs": [],
   "source": [
    "device_id = 'cuda'\n",
    "tuned_model_path = \"../m2d2/dataset/Religion_and_belief_systems/models/\"\n",
    "n_layers = 12\n",
    "list_modules = ['attn', 'mlp']\n",
    "trace_module_id = \"transformer.h.{l}.{m}\""
   ]
  },
  {
   "cell_type": "code",
   "execution_count": 5,
   "metadata": {},
   "outputs": [
    {
     "name": "stdout",
     "output_type": "stream",
     "text": [
      "['transformer.h.0.attn', 'transformer.h.0.mlp', 'transformer.h.1.attn']\n"
     ]
    }
   ],
   "source": [
    "list_trace_module_ids = []\n",
    "\n",
    "for l in range(n_layers):\n",
    "    for m in list_modules:\n",
    "        list_trace_module_ids.append(trace_module_id.format(l=l, m=m))\n",
    "\n",
    "print(list_trace_module_ids[:3])"
   ]
  },
  {
   "cell_type": "markdown",
   "metadata": {},
   "source": [
    "# Model"
   ]
  },
  {
   "cell_type": "markdown",
   "metadata": {},
   "source": [
    "## load models"
   ]
  },
  {
   "cell_type": "code",
   "execution_count": 6,
   "metadata": {},
   "outputs": [],
   "source": [
    "base_model = GPT2LMHeadModel.from_pretrained(\"gpt2\").to(device_id)\n",
    "tuned_model = GPT2LMHeadModel.from_pretrained(tuned_model_path).to(device_id)\n",
    "gpt2_tokenizer = GPT2Tokenizer.from_pretrained(\"gpt2\")"
   ]
  },
  {
   "cell_type": "code",
   "execution_count": 230,
   "metadata": {},
   "outputs": [],
   "source": [
    "base_model = GPT2LMHeadModel.from_pretrained(\"gpt2\").to(device_id)\n",
    "tuned_model = GPT2LMHeadModel.from_pretrained(tuned_model_path).to(device_id)"
   ]
  },
  {
   "cell_type": "markdown",
   "metadata": {},
   "source": [
    "## save_tuned_model_activation_hook"
   ]
  },
  {
   "cell_type": "code",
   "execution_count": 7,
   "metadata": {},
   "outputs": [],
   "source": [
    "def save_tuned_model_activation(m_id):\n",
    "    def save_tuned_model_activation_hook(module, _input, _output):\n",
    "        if m_id.endswith('attn'):\n",
    "            tuned_model_activations[m_id] = _output[0].detach()\n",
    "        elif m_id.endswith('mlp'):\n",
    "            tuned_model_activations[m_id] = _output.detach()\n",
    "    return save_tuned_model_activation_hook"
   ]
  },
  {
   "cell_type": "markdown",
   "metadata": {},
   "source": [
    "## restore_tuned_model_activation_hook"
   ]
  },
  {
   "cell_type": "code",
   "execution_count": 9,
   "metadata": {},
   "outputs": [],
   "source": [
    "# def restore_base_model_activation(m_id, t):\n",
    "#     def restore_base_model_activation_hook(module, _input, _output):\n",
    "#         tuned_output = tuned_model_activations[m_id][:, t]\n",
    "#         if m_id.endswith('attn'):\n",
    "#             base_output = _output[0].detach()\n",
    "#             base_output[:, t] = tuned_output\n",
    "#             return tuple([base_output, tuple([_output[1][0], _output[1][1]])])\n",
    "#         elif m_id.endswith('mlp'):\n",
    "#             base_output = _output.detach()\n",
    "#             base_output[:, t] = tuned_output\n",
    "#             return base_output\n",
    "#     return restore_base_model_activation_hook\n",
    "\n",
    "\n",
    "def restore_base_model_activation(m_id):\n",
    "    def restore_base_model_activation_hook(module, _input, _output):\n",
    "        tuned_output = tuned_model_activations[m_id]#[:, t]\n",
    "        if m_id.endswith('attn'):\n",
    "            base_output = _output[0].detach()\n",
    "#             base_output[:, t] = tuned_output\n",
    "            base_output = tuned_output\n",
    "            return tuple([base_output, tuple([_output[1][0], _output[1][1]])])\n",
    "        elif m_id.endswith('mlp'):\n",
    "            base_output = _output.detach()\n",
    "#             base_output[:, t] = tuned_output\n",
    "            base_output = tuned_output\n",
    "            return base_output\n",
    "    return restore_base_model_activation_hook"
   ]
  },
  {
   "cell_type": "code",
   "execution_count": 10,
   "metadata": {},
   "outputs": [],
   "source": [
    "# diff_weights = {}\n",
    "# for tuned_tup, base_tup in zip(list(tuned_model.named_parameters()), list(base_model.named_parameters())):\n",
    "#     diff_weights[tuned_tup[0]] = torch.abs(tuned_tup[1] - base_tup[1]).mean().item()\n",
    "    \n",
    "# diff_weights"
   ]
  },
  {
   "cell_type": "markdown",
   "metadata": {},
   "source": [
    "# Data"
   ]
  },
  {
   "cell_type": "code",
   "execution_count": 11,
   "metadata": {},
   "outputs": [
    {
     "name": "stderr",
     "output_type": "stream",
     "text": [
      "Found cached dataset m2d2 (/rds/general/user/jj1122/home/.cache/huggingface/datasets/machelreid___m2d2/Religion_and_belief_systems/0.0.0/eb235f33a5de3163c10549b7f63c906910539c8a8c0ec5ade1285ccbf5067d00)\n",
      "100%|██████████| 3/3 [00:00<00:00, 242.67it/s]\n"
     ]
    }
   ],
   "source": [
    "dataset = load_dataset(\"machelreid/m2d2\", dataset_nm)\n"
   ]
  },
  {
   "cell_type": "code",
   "execution_count": 184,
   "metadata": {},
   "outputs": [
    {
     "data": {
      "text/plain": [
       "['In the \"Dialogues\", Hume\\'s characters debate a number of arguments for the existence of God, and arguments whose proponents believe through which we may come to know the nature of God. Such topics debated include the argument from design—for which Hume uses a house—and whether there is more suffering or good in the world (argument from evil).',\n",
       " 'Hume started writing the \"Dialogues\" in 1750 but did not complete them until 1776, shortly before his death. They are based partly on Cicero\\'s \"De Natura Deorum\". The \"Dialogues\" were published posthumously in 1779, originally with neither the author\\'s nor the publisher\\'s name.',\n",
       " 'In \"The Blind Watchmaker\" (1986), evolutionary biologist Richard Dawkins discussed his choice to title his book after theologian William Paley\\'s famous statement of the teleological argument, the watchmaker analogy, and noted that Hume\\'s critique of the argument from design as an explanation of design in nature was the initial criticism that would ultimately be answered by Charles Darwin in \"On the Origin of Species\" (1859). In the second part of the \"Dialogues\" (1779), the character Philo observes that animal reproduction appears to be more responsible for the intricacies and order of organic bodies rather than intelligent design.',\n",
       " '',\n",
       " '',\n",
       " 'Transcendental argument for the existence of God',\n",
       " '',\n",
       " 'The Transcendental Argument for the Existence of God (TAG) is the argument that attempts to prove the existence of God by arguing that logic, morals, and science ultimately presuppose a supreme being and that God must therefore be the source of logic and morals.',\n",
       " 'A version was formulated by Immanuel Kant in his 1763 work \"The Only Possible Argument in Support of a Demonstration of the Existence of God\", and most contemporary formulations of the transcendental argument have been developed within the framework of Christian presuppositional apologetics.',\n",
       " 'Transcendental reasoning.']"
      ]
     },
     "execution_count": 184,
     "metadata": {},
     "output_type": "execute_result"
    }
   ],
   "source": [
    "x = 10 * np.random.randint(100000)\n",
    "\n",
    "dataset['train']['text'][x:x+10]"
   ]
  },
  {
   "cell_type": "code",
   "execution_count": 185,
   "metadata": {},
   "outputs": [],
   "source": [
    "\n",
    "input_text = \"He was a religious scholar and a prolific writer. Many of his works are used as references for church members\"\n",
    "\n",
    "input_text = \"In popular and media culture, Anubis is often falsely portrayed as the sinister god of the dead\"\n",
    "\n",
    "input_text = \"Ankou appears as a man or skeleton wearing a black robe and a large hat which conceals his face, or, on occasion, simply as a shadow\"\n",
    "\n",
    "input_text = \"Zechariah's vision of recently deceased Joshua the High Priest depicts a dispute in the heavenly throne room between Satan and the Angel of the Lord\"\n",
    "\n",
    "input_text = \"The Transcendental Argument for the Existence of God (TAG) is the argument that attempts to prove the existence of God by arguing that logic, morals, and science ultimately presuppose a supreme being and that God must therefore be the source of logic and morals\"\n"
   ]
  },
  {
   "cell_type": "code",
   "execution_count": 186,
   "metadata": {},
   "outputs": [
    {
     "data": {
      "text/plain": [
       "52"
      ]
     },
     "execution_count": 186,
     "metadata": {},
     "output_type": "execute_result"
    }
   ],
   "source": [
    "inputs = gpt2_tokenizer(input_text, return_tensors=\"pt\").to(device_id)\n",
    "n_tokens = inputs['input_ids'].shape[1]\n",
    "n_tokens"
   ]
  },
  {
   "cell_type": "code",
   "execution_count": 187,
   "metadata": {},
   "outputs": [],
   "source": [
    "list_input_text = gpt2_tokenizer.convert_ids_to_tokens(inputs['input_ids'][0].cpu().numpy())\n",
    "\n",
    "for idx in range(1, n_tokens):\n",
    "    if not list_input_text[idx].startswith(\"Ġ\"):\n",
    "        list_input_text[idx-1] = list_input_text[idx-1] + \"##\"\n",
    "    list_input_text[idx] = list_input_text[idx].replace(\"Ġ\", \"\")"
   ]
  },
  {
   "cell_type": "markdown",
   "metadata": {},
   "source": [
    "# Main"
   ]
  },
  {
   "cell_type": "markdown",
   "metadata": {},
   "source": [
    "## first run - tuned model (clean)"
   ]
  },
  {
   "cell_type": "markdown",
   "metadata": {},
   "source": [
    "### register hook - save_tuned_model_activation"
   ]
  },
  {
   "cell_type": "code",
   "execution_count": 188,
   "metadata": {},
   "outputs": [],
   "source": [
    "tuned_model_activations = {}\n",
    "for m_id in list_trace_module_ids:\n",
    "    tuned_model.get_submodule(m_id).register_forward_hook(save_tuned_model_activation(m_id))"
   ]
  },
  {
   "cell_type": "markdown",
   "metadata": {},
   "source": [
    "### get tuned_model_activation & tuned_loss"
   ]
  },
  {
   "cell_type": "code",
   "execution_count": 189,
   "metadata": {},
   "outputs": [],
   "source": [
    "with torch.no_grad():\n",
    "    tuned_model.eval()\n",
    "    tuned_outputs = tuned_model(**inputs, labels=inputs.input_ids, output_hidden_states=True)    \n",
    "    tuned_loss = np.exp(tuned_outputs.loss.item())\n",
    "    "
   ]
  },
  {
   "cell_type": "markdown",
   "metadata": {},
   "source": [
    "## second run - base model (corruped)"
   ]
  },
  {
   "cell_type": "markdown",
   "metadata": {},
   "source": [
    "### get tuned_model_activation & base_loss"
   ]
  },
  {
   "cell_type": "code",
   "execution_count": 190,
   "metadata": {},
   "outputs": [],
   "source": [
    "with torch.no_grad():\n",
    "    base_model.eval()\n",
    "    base_outputs = base_model(**inputs, labels=inputs.input_ids, output_hidden_states=True)\n",
    "    base_loss = np.exp(base_outputs.loss.item())\n",
    "    "
   ]
  },
  {
   "cell_type": "markdown",
   "metadata": {},
   "source": [
    "## Thrid run - corrupted-with-restoration run"
   ]
  },
  {
   "cell_type": "markdown",
   "metadata": {},
   "source": [
    "### register hook - restore_base_model_activation & restored losses"
   ]
  },
  {
   "cell_type": "code",
   "execution_count": 191,
   "metadata": {},
   "outputs": [],
   "source": [
    "# restored_loss = {}\n",
    "# with torch.no_grad():\n",
    "#     tuned_model.eval()\n",
    "#     base_model.eval()\n",
    "#     for m_id in list_trace_module_ids:\n",
    "#         for t in range(n_tokens):\n",
    "#             hook = base_model.get_submodule(m_id).register_forward_hook(restore_base_model_activation(m_id, t))\n",
    "#             restored_outputs = base_model(**inputs, labels=inputs.input_ids, output_hidden_states=True)\n",
    "#             restored_loss[m_id + f\".{t}\"] = np.exp(restored_outputs.loss.item())\n",
    "#             hook.remove()\n",
    "\n",
    "restored_loss = {}\n",
    "with torch.no_grad():\n",
    "    tuned_model.eval()\n",
    "    base_model.eval()\n",
    "    for m_id in list_trace_module_ids:\n",
    "#         for t in range(n_tokens):\n",
    "        hook = base_model.get_submodule(m_id).register_forward_hook(restore_base_model_activation(m_id))\n",
    "        restored_outputs = base_model(**inputs, labels=inputs.input_ids, output_hidden_states=True)\n",
    "        restored_loss[m_id] = np.exp(restored_outputs.loss.item())\n",
    "        hook.remove()\n",
    "        "
   ]
  },
  {
   "cell_type": "code",
   "execution_count": 192,
   "metadata": {},
   "outputs": [
    {
     "data": {
      "text/plain": [
       "[('transformer.h.0.attn', 20.01987558304445),\n",
       " ('transformer.h.0.mlp', 19.224473884251445),\n",
       " ('transformer.h.1.attn', 20.266302507933972),\n",
       " ('transformer.h.1.mlp', 20.01359992683733),\n",
       " ('transformer.h.2.attn', 20.432266746563865),\n",
       " ('transformer.h.2.mlp', 19.856105909906205),\n",
       " ('transformer.h.3.attn', 20.240410611904498),\n",
       " ('transformer.h.3.mlp', 19.668937658090545),\n",
       " ('transformer.h.4.attn', 20.405939018985784),\n",
       " ('transformer.h.4.mlp', 19.561963365582674)]"
      ]
     },
     "execution_count": 192,
     "metadata": {},
     "output_type": "execute_result"
    }
   ],
   "source": [
    "list(restored_loss.items())[:10]"
   ]
  },
  {
   "cell_type": "markdown",
   "metadata": {},
   "source": [
    "## Losses"
   ]
  },
  {
   "cell_type": "code",
   "execution_count": 193,
   "metadata": {},
   "outputs": [
    {
     "data": {
      "text/plain": [
       "(13.573352837326823, 20.486738508955135, 19.729322115422764)"
      ]
     },
     "execution_count": 193,
     "metadata": {},
     "output_type": "execute_result"
    }
   ],
   "source": [
    "tuned_loss, base_loss, np.mean(list(restored_loss.values()))"
   ]
  },
  {
   "cell_type": "code",
   "execution_count": 194,
   "metadata": {},
   "outputs": [],
   "source": [
    "# TE = (base_loss - tuned_loss) / base_loss\n",
    "# IDE = {}\n",
    "# for m_id in list_trace_module_ids:\n",
    "#     for t in range(n_tokens):\n",
    "#         IDE[m_id + f'.{t}'] = restored_loss[m_id + f'.{t}'] / base_loss\n",
    "        \n",
    "TE = (base_loss - tuned_loss) / base_loss\n",
    "IDE = {}\n",
    "for m_id in list_trace_module_ids:\n",
    "    IDE[m_id] = restored_loss[m_id] / base_loss"
   ]
  },
  {
   "cell_type": "code",
   "execution_count": 195,
   "metadata": {},
   "outputs": [],
   "source": [
    "def parse_code(row):\n",
    "    list_code = row.code.split(\".\")\n",
    "    row['l'] = int(list_code[2])\n",
    "    row['m'] = list_code[3]\n",
    "#     row['t'] = int(list_code[4])\n",
    "    return row\n",
    "\n",
    "df_ide = pd.DataFrame.from_dict(IDE, orient='index').reset_index()\n",
    "df_ide.columns = ['code', 'ide']\n",
    "df_ide = df_ide.apply(lambda row: parse_code(row), axis=1)\n",
    "# df_ide['token'] = df_ide['t'].apply(lambda x: list_input_text[int(x)])"
   ]
  },
  {
   "cell_type": "markdown",
   "metadata": {},
   "source": [
    "## Results"
   ]
  },
  {
   "cell_type": "markdown",
   "metadata": {},
   "source": [
    "##### He was a religious scholar and a prolific writer. Many of his works are used as references for church members"
   ]
  },
  {
   "cell_type": "code",
   "execution_count": 128,
   "metadata": {},
   "outputs": [
    {
     "data": {
      "text/plain": [
       "<Axes: xlabel='None-l', ylabel='m'>"
      ]
     },
     "execution_count": 128,
     "metadata": {},
     "output_type": "execute_result"
    },
    {
     "data": {
      "image/png": "[encoded data removed]",
      "text/plain": [
       "<Figure size 1000x500 with 2 Axes>"
      ]
     },
     "metadata": {},
     "output_type": "display_data"
    }
   ],
   "source": [
    "plt.rcParams[\"figure.figsize\"] = (10,5)\n",
    "\n",
    "sns.heatmap(\n",
    "    df_ide.drop(['code'], axis=1).set_index(['m', 'l']).unstack(-1),\n",
    "    cmap='coolwarm', vmax=1.2, vmin=0.8\n",
    ")"
   ]
  },
  {
   "cell_type": "markdown",
   "metadata": {},
   "source": [
    "##### 'In popular and media culture, Anubis is often falsely portrayed as the sinister god of the dead'\n"
   ]
  },
  {
   "cell_type": "code",
   "execution_count": 115,
   "metadata": {},
   "outputs": [
    {
     "data": {
      "text/plain": [
       "<Axes: xlabel='None-l', ylabel='m'>"
      ]
     },
     "execution_count": 115,
     "metadata": {},
     "output_type": "execute_result"
    },
    {
     "data": {
      "image/png": "[encoded data removed]",
      "text/plain": [
       "<Figure size 1000x500 with 2 Axes>"
      ]
     },
     "metadata": {},
     "output_type": "display_data"
    }
   ],
   "source": [
    "plt.rcParams[\"figure.figsize\"] = (10,5)\n",
    "\n",
    "sns.heatmap(\n",
    "    df_ide.drop(['code'], axis=1).set_index(['m', 'l']).unstack(-1),\n",
    "    cmap='coolwarm', vmax=1.2, vmin=0.8\n",
    ")"
   ]
  },
  {
   "cell_type": "markdown",
   "metadata": {},
   "source": [
    "##### Elderly people often have limited regenerative abilities and are more susceptible to disease, syndromes, injuries and sickness than younger adults."
   ]
  },
  {
   "cell_type": "code",
   "execution_count": 141,
   "metadata": {},
   "outputs": [
    {
     "data": {
      "text/plain": [
       "<Axes: xlabel='None-l', ylabel='m'>"
      ]
     },
     "execution_count": 141,
     "metadata": {},
     "output_type": "execute_result"
    },
    {
     "data": {
      "image/png": "[encoded data removed]",
      "text/plain": [
       "<Figure size 1000x500 with 2 Axes>"
      ]
     },
     "metadata": {},
     "output_type": "display_data"
    }
   ],
   "source": [
    "plt.rcParams[\"figure.figsize\"] = (10,5)\n",
    "\n",
    "sns.heatmap(\n",
    "    df_ide.drop(['code'], axis=1).set_index(['m', 'l']).unstack(-1),\n",
    "    cmap='coolwarm', vmax=1.2, vmin=0.8\n",
    ")"
   ]
  },
  {
   "cell_type": "markdown",
   "metadata": {},
   "source": [
    "##### \"Zechariah's vision of recently deceased Joshua the High Priest depicts a dispute in the heavenly throne room between Satan and the Angel of the Lord\"\n"
   ]
  },
  {
   "cell_type": "code",
   "execution_count": 157,
   "metadata": {},
   "outputs": [
    {
     "data": {
      "text/plain": [
       "<Axes: xlabel='None-l', ylabel='m'>"
      ]
     },
     "execution_count": 157,
     "metadata": {},
     "output_type": "execute_result"
    },
    {
     "data": {
      "image/png": "[encoded data removed]",
      "text/plain": [
       "<Figure size 1000x500 with 2 Axes>"
      ]
     },
     "metadata": {},
     "output_type": "display_data"
    }
   ],
   "source": [
    "plt.rcParams[\"figure.figsize\"] = (10,5)\n",
    "\n",
    "sns.heatmap(\n",
    "    df_ide.drop(['code'], axis=1).set_index(['m', 'l']).unstack(-1),\n",
    "    cmap='coolwarm', vmax=1.2, vmin=0.8\n",
    ")"
   ]
  },
  {
   "cell_type": "markdown",
   "metadata": {},
   "source": [
    "##### The Transcendental Argument for the Existence of God (TAG) is the argument that attempts to prove the existence of God by arguing that logic, morals, and science ultimately presuppose a supreme being and that God must therefore be the source of logic and morals"
   ]
  },
  {
   "cell_type": "code",
   "execution_count": 196,
   "metadata": {},
   "outputs": [
    {
     "data": {
      "text/plain": [
       "<Axes: xlabel='None-l', ylabel='m'>"
      ]
     },
     "execution_count": 196,
     "metadata": {},
     "output_type": "execute_result"
    },
    {
     "data": {
      "image/png": "[encoded data removed]",
      "text/plain": [
       "<Figure size 1000x500 with 2 Axes>"
      ]
     },
     "metadata": {},
     "output_type": "display_data"
    }
   ],
   "source": [
    "plt.rcParams[\"figure.figsize\"] = (10,5)\n",
    "\n",
    "sns.heatmap(\n",
    "    df_ide.drop(['code'], axis=1).set_index(['m', 'l']).unstack(-1),\n",
    "    cmap='coolwarm', vmax=1.2, vmin=0.8\n",
    ")"
   ]
  },
  {
   "cell_type": "markdown",
   "metadata": {},
   "source": [
    "### Conclusion\n",
    "- When restore MLP activation, the model shows better result\n",
    "- but the layer order doesn't show any pattern.\n",
    "\n",
    "### Questions\n",
    "- Q1) Multiple models in casual tracing?: I guess because of other weight differences between base and fine-tuned models despite the restored activations, the restoration wouldn’t work properly. The restored values from the tuned model would be re-changed by the weights and baises in the base model.\n",
    "- Q2) Constraint on dataset: they used **triples (subject, relation, object)**, and as far as I understand, they constrained the templates which they build. Most **subject tokens** appear in the heads of templates and **object** appear in the back to track the result efficiently. Do we need to constrain dataset too?\n"
   ]
  },
  {
   "cell_type": "code",
   "execution_count": null,
   "metadata": {},
   "outputs": [],
   "source": []
  }
 ],
 "metadata": {
  "kernelspec": {
   "display_name": "Python [conda env:test1]",
   "language": "python",
   "name": "conda-env-test1-py"
  },
  "language_info": {
   "codemirror_mode": {
    "name": "ipython",
    "version": 3
   },
   "file_extension": ".py",
   "mimetype": "text/x-python",
   "name": "python",
   "nbconvert_exporter": "python",
   "pygments_lexer": "ipython3",
   "version": "3.9.16"
  }
 },
 "nbformat": 4,
 "nbformat_minor": 2
}
